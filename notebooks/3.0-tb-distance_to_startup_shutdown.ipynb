{
 "cells": [
  {
   "cell_type": "markdown",
   "id": "c099a0d3",
   "metadata": {},
   "source": [
    "# Ramp rates near startup/shutdown\n",
    "In the previous notebook I made a method to pick out downtime events. The next step is to calculate a distance, in hours, from each generation value to the previous startup and next shutdown. Then I can characterize startup/shutdown ramps vs 'normal' ramps"
   ]
  },
  {
   "cell_type": "code",
   "execution_count": 1,
   "id": "1b98a7e7",
   "metadata": {},
   "outputs": [],
   "source": [
    "%load_ext autoreload\n",
    "%autoreload 2"
   ]
  },
  {
   "cell_type": "code",
   "execution_count": 2,
   "id": "c57b6d67",
   "metadata": {},
   "outputs": [],
   "source": [
    "from src.data.load_dataset import load_epacems\n",
    "from src.features.build_features import _find_uptime\n",
    "import pandas as pd\n",
    "import numpy as np\n",
    "import matplotlib.pyplot as plt\n",
    "import seaborn as sns"
   ]
  },
  {
   "cell_type": "code",
   "execution_count": 3,
   "id": "16814685",
   "metadata": {},
   "outputs": [],
   "source": [
    "idx = pd.IndexSlice"
   ]
  },
  {
   "cell_type": "code",
   "execution_count": 4,
   "id": "16548a2a",
   "metadata": {},
   "outputs": [],
   "source": [
    "# all states, 1 year\n",
    "cols = ['operating_datetime_utc', 'operating_time_hours', 'gross_load_mw', 'unit_id_epa']\n",
    "cems = load_epacems(states=None, years=[2019], columns=cols, engine='pandas')"
   ]
  },
  {
   "cell_type": "code",
   "execution_count": 5,
   "id": "38014f06",
   "metadata": {},
   "outputs": [
    {
     "name": "stdout",
     "output_type": "stream",
     "text": [
      "CPU times: user 11.5 s, sys: 3.12 s, total: 14.6 s\n",
      "Wall time: 14.7 s\n"
     ]
    }
   ],
   "source": [
    "%%time\n",
    "cems.sort_values(by=['unit_id_epa', 'operating_datetime_utc'], inplace=True)\n",
    "cems.set_index(['unit_id_epa', 'operating_datetime_utc'], drop=False, inplace=True)#, verify_integrity=True)"
   ]
  },
  {
   "cell_type": "code",
   "execution_count": 6,
   "id": "eaa59285",
   "metadata": {},
   "outputs": [
    {
     "data": {
      "text/html": [
       "<div>\n",
       "<style scoped>\n",
       "    .dataframe tbody tr th:only-of-type {\n",
       "        vertical-align: middle;\n",
       "    }\n",
       "\n",
       "    .dataframe tbody tr th {\n",
       "        vertical-align: top;\n",
       "    }\n",
       "\n",
       "    .dataframe thead th {\n",
       "        text-align: right;\n",
       "    }\n",
       "</style>\n",
       "<table border=\"1\" class=\"dataframe\">\n",
       "  <thead>\n",
       "    <tr style=\"text-align: right;\">\n",
       "      <th></th>\n",
       "      <th></th>\n",
       "      <th>operating_datetime_utc</th>\n",
       "      <th>operating_time_hours</th>\n",
       "      <th>gross_load_mw</th>\n",
       "      <th>unit_id_epa</th>\n",
       "    </tr>\n",
       "    <tr>\n",
       "      <th>unit_id_epa</th>\n",
       "      <th>operating_datetime_utc</th>\n",
       "      <th></th>\n",
       "      <th></th>\n",
       "      <th></th>\n",
       "      <th></th>\n",
       "    </tr>\n",
       "  </thead>\n",
       "  <tbody>\n",
       "    <tr>\n",
       "      <th>4266</th>\n",
       "      <th>2019-07-20 01:00:00+00:00</th>\n",
       "      <td>2019-07-20 01:00:00+00:00</td>\n",
       "      <td>0.15</td>\n",
       "      <td>1.0</td>\n",
       "      <td>4266</td>\n",
       "    </tr>\n",
       "    <tr>\n",
       "      <th>2920</th>\n",
       "      <th>2019-02-20 08:00:00+00:00</th>\n",
       "      <td>2019-02-20 08:00:00+00:00</td>\n",
       "      <td>1.00</td>\n",
       "      <td>175.0</td>\n",
       "      <td>2920</td>\n",
       "    </tr>\n",
       "    <tr>\n",
       "      <th>2836</th>\n",
       "      <th>2019-06-01 23:00:00+00:00</th>\n",
       "      <td>2019-06-01 23:00:00+00:00</td>\n",
       "      <td>0.00</td>\n",
       "      <td>0.0</td>\n",
       "      <td>2836</td>\n",
       "    </tr>\n",
       "  </tbody>\n",
       "</table>\n",
       "</div>"
      ],
      "text/plain": [
       "                                         operating_datetime_utc  \\\n",
       "unit_id_epa operating_datetime_utc                                \n",
       "4266        2019-07-20 01:00:00+00:00 2019-07-20 01:00:00+00:00   \n",
       "2920        2019-02-20 08:00:00+00:00 2019-02-20 08:00:00+00:00   \n",
       "2836        2019-06-01 23:00:00+00:00 2019-06-01 23:00:00+00:00   \n",
       "\n",
       "                                       operating_time_hours  gross_load_mw  \\\n",
       "unit_id_epa operating_datetime_utc                                           \n",
       "4266        2019-07-20 01:00:00+00:00                  0.15            1.0   \n",
       "2920        2019-02-20 08:00:00+00:00                  1.00          175.0   \n",
       "2836        2019-06-01 23:00:00+00:00                  0.00            0.0   \n",
       "\n",
       "                                       unit_id_epa  \n",
       "unit_id_epa operating_datetime_utc                  \n",
       "4266        2019-07-20 01:00:00+00:00         4266  \n",
       "2920        2019-02-20 08:00:00+00:00         2920  \n",
       "2836        2019-06-01 23:00:00+00:00         2836  "
      ]
     },
     "execution_count": 6,
     "metadata": {},
     "output_type": "execute_result"
    }
   ],
   "source": [
    "cems.sample(3)"
   ]
  },
  {
   "cell_type": "code",
   "execution_count": 7,
   "id": "8282225c",
   "metadata": {},
   "outputs": [],
   "source": [
    "units = cems.groupby(level=['unit_id_epa'])"
   ]
  },
  {
   "cell_type": "code",
   "execution_count": 8,
   "id": "8b820313",
   "metadata": {},
   "outputs": [],
   "source": [
    "cems['load_factor'] = units['gross_load_mw'].transform(lambda x: x.div(x.max()))\n",
    "#cems['load_factor'] = units['gross_load_mw'].transform(lambda x: x.div(x[x>0].quantile(0.99)))"
   ]
  },
  {
   "cell_type": "markdown",
   "id": "85e2e8b7",
   "metadata": {},
   "source": [
    "## Distance to startup/shutdown\n",
    "For all non-zero generation, I want to calculate the hours since last startup and hours to next shutdown. Strategy is to make new columns with the nearest startup/shutdown timestamps and then subtract the index timestamps.\n",
    "\n",
    "This duplicates the event finding, but it is much faster than processing the events dataframe due to horribly slow assignment in pandas. Maybe there is a way to reuse it, but that's a job for later."
   ]
  },
  {
   "cell_type": "code",
   "execution_count": 9,
   "id": "6def16c6",
   "metadata": {},
   "outputs": [],
   "source": [
    "cems['binarized'] = cems['gross_load_mw'].gt(0).astype(np.int8)"
   ]
  },
  {
   "cell_type": "code",
   "execution_count": 10,
   "id": "5324ad2a",
   "metadata": {},
   "outputs": [],
   "source": [
    "cems['binary_diffs'] = cems['binarized'].diff().where(cems['unit_id_epa'].diff().eq(0)) # dont take diffs across units\n",
    "# this could be done with groupby but it is much slower\n",
    "# cems.groupby(level='unit_id_epa')['binarized'].transform(lambda x: x.diff())"
   ]
  },
  {
   "cell_type": "code",
   "execution_count": 11,
   "id": "b032aa74",
   "metadata": {},
   "outputs": [],
   "source": [
    "del cems['binarized']"
   ]
  },
  {
   "cell_type": "code",
   "execution_count": 12,
   "id": "f5383694",
   "metadata": {},
   "outputs": [],
   "source": [
    "cems['shutdowns'] = cems['operating_datetime_utc'].where(cems['binary_diffs'] == -1, pd.NaT)"
   ]
  },
  {
   "cell_type": "code",
   "execution_count": 13,
   "id": "dbca0b05",
   "metadata": {},
   "outputs": [],
   "source": [
    "cems['startups'] = cems['operating_datetime_utc'].where(cems['binary_diffs'] == 1, pd.NaT)"
   ]
  },
  {
   "cell_type": "markdown",
   "id": "ab8ed2b7",
   "metadata": {},
   "source": [
    "Startups and shutdowns do not select the bounds of a production period, they mark the first values of a period of uptime or downtime. `binary_diff == -1` selects the first zero value of a downtime period, while `binary_diff == -1` selects the first non-zero value of an uptime period.\n",
    "\n",
    "This is a good thing: ramp rates use the same differencing logic, so are defined *between* two periods, not at either of them. At first I shifted startups to indicate the last zero value before uptime, but then found that my ramp rates were defined asymmetrically: ramps at shutdown were non-zero but ramps at startup were zero."
   ]
  },
  {
   "cell_type": "code",
   "execution_count": 14,
   "id": "ce38ee97",
   "metadata": {},
   "outputs": [],
   "source": [
    "# This line shifts startup indicators to indicate the last zero value instead of the first non-zero value.\n",
    "# This makes sense for summarizing downtime events, but does not make sense for analyzing differences, like ramp rates.\n",
    "\n",
    "# cems['startups'] = cems['operating_datetime_utc'].where(cems['binary_diffs'].shift(-1).eq(1) & cems['unit_id_epa'].diff(-1).eq(0), pd.NaT)"
   ]
  },
  {
   "cell_type": "code",
   "execution_count": 15,
   "id": "eeab8621",
   "metadata": {},
   "outputs": [],
   "source": [
    "del cems['binary_diffs']"
   ]
  },
  {
   "cell_type": "markdown",
   "id": "f2d6a834",
   "metadata": {},
   "source": [
    "### Calculate distances"
   ]
  },
  {
   "cell_type": "code",
   "execution_count": 16,
   "id": "49b909e5",
   "metadata": {},
   "outputs": [],
   "source": [
    "# fill startups forward and shutdowns backward\n",
    "cems['startups'] = cems.groupby(level='unit_id_epa')['startups'].transform(lambda x: x.fillna(method='ffill'))\n",
    "cems['shutdowns'] = cems.groupby(level='unit_id_epa')['shutdowns'].transform(lambda x: x.fillna(method='bfill'))"
   ]
  },
  {
   "cell_type": "code",
   "execution_count": 17,
   "id": "8ecac474",
   "metadata": {},
   "outputs": [],
   "source": [
    "cems['hours_from_startup'] = cems['operating_datetime_utc'].sub(cems['startups']).dt.total_seconds().div(3600).astype(np.float32)\n",
    "# invert sign so distances are all positive\n",
    "cems['hours_to_shutdown'] = cems['shutdowns'].sub(cems['operating_datetime_utc']).dt.total_seconds().div(3600).astype(np.float32)"
   ]
  },
  {
   "cell_type": "code",
   "execution_count": 18,
   "id": "d7b34164",
   "metadata": {},
   "outputs": [],
   "source": [
    "cems.drop(columns=['startups', 'shutdowns', 'operating_datetime_utc'], inplace=True)"
   ]
  },
  {
   "cell_type": "code",
   "execution_count": 19,
   "id": "f28c5ebc",
   "metadata": {},
   "outputs": [
    {
     "data": {
      "text/html": [
       "<div>\n",
       "<style scoped>\n",
       "    .dataframe tbody tr th:only-of-type {\n",
       "        vertical-align: middle;\n",
       "    }\n",
       "\n",
       "    .dataframe tbody tr th {\n",
       "        vertical-align: top;\n",
       "    }\n",
       "\n",
       "    .dataframe thead th {\n",
       "        text-align: right;\n",
       "    }\n",
       "</style>\n",
       "<table border=\"1\" class=\"dataframe\">\n",
       "  <thead>\n",
       "    <tr style=\"text-align: right;\">\n",
       "      <th></th>\n",
       "      <th></th>\n",
       "      <th>operating_time_hours</th>\n",
       "      <th>gross_load_mw</th>\n",
       "      <th>unit_id_epa</th>\n",
       "      <th>load_factor</th>\n",
       "      <th>hours_from_startup</th>\n",
       "      <th>hours_to_shutdown</th>\n",
       "    </tr>\n",
       "    <tr>\n",
       "      <th>unit_id_epa</th>\n",
       "      <th>operating_datetime_utc</th>\n",
       "      <th></th>\n",
       "      <th></th>\n",
       "      <th></th>\n",
       "      <th></th>\n",
       "      <th></th>\n",
       "      <th></th>\n",
       "    </tr>\n",
       "  </thead>\n",
       "  <tbody>\n",
       "    <tr>\n",
       "      <th>3674</th>\n",
       "      <th>2019-11-13 04:00:00+00:00</th>\n",
       "      <td>0.0</td>\n",
       "      <td>0.0</td>\n",
       "      <td>3674</td>\n",
       "      <td>NaN</td>\n",
       "      <td>NaN</td>\n",
       "      <td>NaN</td>\n",
       "    </tr>\n",
       "    <tr>\n",
       "      <th>4216</th>\n",
       "      <th>2019-06-06 10:00:00+00:00</th>\n",
       "      <td>0.0</td>\n",
       "      <td>0.0</td>\n",
       "      <td>4216</td>\n",
       "      <td>0.000000</td>\n",
       "      <td>110.0</td>\n",
       "      <td>14.0</td>\n",
       "    </tr>\n",
       "    <tr>\n",
       "      <th>8288</th>\n",
       "      <th>2019-08-07 23:00:00+00:00</th>\n",
       "      <td>1.0</td>\n",
       "      <td>59.0</td>\n",
       "      <td>8288</td>\n",
       "      <td>0.766234</td>\n",
       "      <td>327.0</td>\n",
       "      <td>390.0</td>\n",
       "    </tr>\n",
       "    <tr>\n",
       "      <th>90570</th>\n",
       "      <th>2019-01-12 08:00:00+00:00</th>\n",
       "      <td>0.0</td>\n",
       "      <td>0.0</td>\n",
       "      <td>90570</td>\n",
       "      <td>0.000000</td>\n",
       "      <td>NaN</td>\n",
       "      <td>776.0</td>\n",
       "    </tr>\n",
       "    <tr>\n",
       "      <th>4126</th>\n",
       "      <th>2019-09-15 00:00:00+00:00</th>\n",
       "      <td>0.0</td>\n",
       "      <td>0.0</td>\n",
       "      <td>4126</td>\n",
       "      <td>0.000000</td>\n",
       "      <td>80.0</td>\n",
       "      <td>50.0</td>\n",
       "    </tr>\n",
       "  </tbody>\n",
       "</table>\n",
       "</div>"
      ],
      "text/plain": [
       "                                       operating_time_hours  gross_load_mw  \\\n",
       "unit_id_epa operating_datetime_utc                                           \n",
       "3674        2019-11-13 04:00:00+00:00                   0.0            0.0   \n",
       "4216        2019-06-06 10:00:00+00:00                   0.0            0.0   \n",
       "8288        2019-08-07 23:00:00+00:00                   1.0           59.0   \n",
       "90570       2019-01-12 08:00:00+00:00                   0.0            0.0   \n",
       "4126        2019-09-15 00:00:00+00:00                   0.0            0.0   \n",
       "\n",
       "                                       unit_id_epa  load_factor  \\\n",
       "unit_id_epa operating_datetime_utc                                \n",
       "3674        2019-11-13 04:00:00+00:00         3674          NaN   \n",
       "4216        2019-06-06 10:00:00+00:00         4216     0.000000   \n",
       "8288        2019-08-07 23:00:00+00:00         8288     0.766234   \n",
       "90570       2019-01-12 08:00:00+00:00        90570     0.000000   \n",
       "4126        2019-09-15 00:00:00+00:00         4126     0.000000   \n",
       "\n",
       "                                       hours_from_startup  hours_to_shutdown  \n",
       "unit_id_epa operating_datetime_utc                                            \n",
       "3674        2019-11-13 04:00:00+00:00                 NaN                NaN  \n",
       "4216        2019-06-06 10:00:00+00:00               110.0               14.0  \n",
       "8288        2019-08-07 23:00:00+00:00               327.0              390.0  \n",
       "90570       2019-01-12 08:00:00+00:00                 NaN              776.0  \n",
       "4126        2019-09-15 00:00:00+00:00                80.0               50.0  "
      ]
     },
     "execution_count": 19,
     "metadata": {},
     "output_type": "execute_result"
    }
   ],
   "source": [
    "cems.sample(5)"
   ]
  },
  {
   "cell_type": "markdown",
   "id": "73af9493",
   "metadata": {},
   "source": [
    "## Ramp Rate Analysis\n",
    "To examine ramp rates vs proximity to startup/shutdown times, I'll look at the max ramps binned by distance."
   ]
  },
  {
   "cell_type": "code",
   "execution_count": 20,
   "id": "31fc65da",
   "metadata": {},
   "outputs": [],
   "source": [
    "cems['ramp_rate'] = cems.groupby(level='unit_id_epa')['gross_load_mw'].transform(lambda x: x.diff())"
   ]
  },
  {
   "cell_type": "code",
   "execution_count": 21,
   "id": "e33a7235",
   "metadata": {},
   "outputs": [],
   "source": [
    "cems['ramp_factor'] = cems.groupby(level='unit_id_epa')['load_factor'].transform(lambda x: x.diff())"
   ]
  },
  {
   "cell_type": "code",
   "execution_count": 22,
   "id": "e8c4decf",
   "metadata": {},
   "outputs": [],
   "source": [
    "cems['min_dist_bins'] = pd.cut(cems[['hours_from_startup', 'hours_to_shutdown']].min(axis=1), bins=list(range(-1,10)) + [np.inf])"
   ]
  },
  {
   "cell_type": "code",
   "execution_count": 23,
   "id": "107c1085",
   "metadata": {},
   "outputs": [],
   "source": [
    "cems['abs_ramp_factor'] = cems['ramp_factor'].abs()"
   ]
  },
  {
   "cell_type": "code",
   "execution_count": 24,
   "id": "5d165cd1",
   "metadata": {},
   "outputs": [],
   "source": [
    "max_ramps = cems.rename(columns={'unit_id_epa': 'unit'}).groupby(['unit', 'min_dist_bins'])['abs_ramp_factor'].max()"
   ]
  },
  {
   "cell_type": "code",
   "execution_count": 25,
   "id": "cf27c913",
   "metadata": {},
   "outputs": [],
   "source": [
    "max_ramps = max_ramps[max_ramps != 0].reset_index() # drop empty generators"
   ]
  },
  {
   "cell_type": "code",
   "execution_count": 26,
   "id": "eda3a347",
   "metadata": {},
   "outputs": [
    {
     "data": {
      "text/plain": [
       "<seaborn.axisgrid.FacetGrid at 0x7fb924ffa820>"
      ]
     },
     "execution_count": 26,
     "metadata": {},
     "output_type": "execute_result"
    },
    {
     "data": {
      "image/png": "[encoded data removed]",
      "text/plain": [
       "<Figure size 720x360 with 1 Axes>"
      ]
     },
     "metadata": {
      "needs_background": "light"
     },
     "output_type": "display_data"
    }
   ],
   "source": [
    "# Distribution of MAXIMUM ramp factor faceted by distance from startup/shutdown\n",
    "sns.catplot(data=max_ramps, x='min_dist_bins', y='abs_ramp_factor', kind=\"boxen\", aspect=2)"
   ]
  },
  {
   "cell_type": "code",
   "execution_count": 27,
   "id": "404985c0",
   "metadata": {},
   "outputs": [
    {
     "data": {
      "text/plain": [
       "<AxesSubplot:title={'center':'Counts by distance from startup/shutdown'}, xlabel='min_dist_bins'>"
      ]
     },
     "execution_count": 27,
     "metadata": {},
     "output_type": "execute_result"
    },
    {
     "data": {
      "image/png": "[encoded data removed]",
      "text/plain": [
       "<Figure size 432x288 with 1 Axes>"
      ]
     },
     "metadata": {
      "needs_background": "light"
     },
     "output_type": "display_data"
    }
   ],
   "source": [
    "# the bin (9, np.inf] has 28 million records\n",
    "cems[cems['min_dist_bins'] < pd.Interval(9, np.inf)].groupby('min_dist_bins').size().plot.bar(title=\"Counts by distance from startup/shutdown\")"
   ]
  },
  {
   "cell_type": "code",
   "execution_count": 47,
   "id": "799f938d",
   "metadata": {},
   "outputs": [
    {
     "data": {
      "text/plain": [
       "min_dist_bins\n",
       "(-1.0, 0.0]      480093\n",
       "(0.0, 1.0]       443002\n",
       "(1.0, 2.0]       385692\n",
       "(2.0, 3.0]       359614\n",
       "(3.0, 4.0]       342856\n",
       "(4.0, 5.0]       325831\n",
       "(5.0, 6.0]       313508\n",
       "(6.0, 7.0]       303837\n",
       "(7.0, 8.0]       292426\n",
       "(8.0, 9.0]       280127\n",
       "(9.0, inf]     28711869\n",
       "dtype: int64"
      ]
     },
     "execution_count": 47,
     "metadata": {},
     "output_type": "execute_result"
    }
   ],
   "source": [
    "cems.groupby('min_dist_bins').size()"
   ]
  },
  {
   "cell_type": "markdown",
   "id": "dedb30c3",
   "metadata": {},
   "source": [
    "Are ramps symmetrical between startup/shutdown?"
   ]
  },
  {
   "cell_type": "code",
   "execution_count": 28,
   "id": "8380ef5e",
   "metadata": {},
   "outputs": [],
   "source": [
    "cems['is_startup'] = cems['hours_from_startup'] < cems['hours_to_shutdown']"
   ]
  },
  {
   "cell_type": "code",
   "execution_count": 29,
   "id": "448a3ee4",
   "metadata": {},
   "outputs": [],
   "source": [
    "# randomly allocate midpoints\n",
    "rng = np.random.default_rng(seed=2)\n",
    "rand_midpoints = (cems['hours_from_startup'] == cems['hours_to_shutdown']) & rng.choice(np.array([True, False]), size=len(cems))\n",
    "cems.loc[rand_midpoints, 'is_startup'] = True"
   ]
  },
  {
   "cell_type": "code",
   "execution_count": 30,
   "id": "066ebb9b",
   "metadata": {},
   "outputs": [],
   "source": [
    "del rand_midpoints"
   ]
  },
  {
   "cell_type": "code",
   "execution_count": 31,
   "id": "55381941",
   "metadata": {},
   "outputs": [],
   "source": [
    "max_ramps = cems.rename(columns={'unit_id_epa': 'unit'}).groupby(['unit', 'min_dist_bins', 'is_startup'])['abs_ramp_factor'].max()"
   ]
  },
  {
   "cell_type": "code",
   "execution_count": 32,
   "id": "d78a6ebe",
   "metadata": {},
   "outputs": [],
   "source": [
    "max_ramps = max_ramps[max_ramps != 0].reset_index() # drop empty generators"
   ]
  },
  {
   "cell_type": "code",
   "execution_count": 33,
   "id": "7dacf3a4",
   "metadata": {},
   "outputs": [
    {
     "data": {
      "text/plain": [
       "<seaborn.axisgrid.FacetGrid at 0x7fb87b072670>"
      ]
     },
     "execution_count": 33,
     "metadata": {},
     "output_type": "execute_result"
    },
    {
     "data": {
      "image/png": "[encoded data removed]",
      "text/plain": [
       "<Figure size 961.25x360 with 1 Axes>"
      ]
     },
     "metadata": {
      "needs_background": "light"
     },
     "output_type": "display_data"
    }
   ],
   "source": [
    "# Distribution of MAXIMUM ramp factor faceted by distance from startup/shutdown\n",
    "sns.catplot(data=max_ramps, x='min_dist_bins', y='abs_ramp_factor', hue='is_startup', kind=\"boxen\", aspect=2.5)"
   ]
  },
  {
   "cell_type": "code",
   "execution_count": null,
   "id": "afc5555c",
   "metadata": {},
   "outputs": [],
   "source": []
  },
  {
   "cell_type": "markdown",
   "id": "86c9222c",
   "metadata": {},
   "source": [
    "## Uptime Analysis"
   ]
  },
  {
   "cell_type": "code",
   "execution_count": 34,
   "id": "6b189b2d",
   "metadata": {},
   "outputs": [],
   "source": [
    "event_dfs = []\n",
    "for grp, df in units['gross_load_mw']:\n",
    "    event_dfs.append(_find_uptime(df, multiindex_key=grp))\n",
    "events = pd.concat(event_dfs)\n",
    "del event_dfs"
   ]
  },
  {
   "cell_type": "code",
   "execution_count": 35,
   "id": "74c39e78",
   "metadata": {},
   "outputs": [
    {
     "data": {
      "text/html": [
       "<div>\n",
       "<style scoped>\n",
       "    .dataframe tbody tr th:only-of-type {\n",
       "        vertical-align: middle;\n",
       "    }\n",
       "\n",
       "    .dataframe tbody tr th {\n",
       "        vertical-align: top;\n",
       "    }\n",
       "\n",
       "    .dataframe thead th {\n",
       "        text-align: right;\n",
       "    }\n",
       "</style>\n",
       "<table border=\"1\" class=\"dataframe\">\n",
       "  <thead>\n",
       "    <tr style=\"text-align: right;\">\n",
       "      <th></th>\n",
       "      <th></th>\n",
       "      <th>startup</th>\n",
       "      <th>shutdown</th>\n",
       "    </tr>\n",
       "    <tr>\n",
       "      <th>unit_id_epa</th>\n",
       "      <th>event</th>\n",
       "      <th></th>\n",
       "      <th></th>\n",
       "    </tr>\n",
       "  </thead>\n",
       "  <tbody>\n",
       "    <tr>\n",
       "      <th rowspan=\"5\" valign=\"top\">1</th>\n",
       "      <th>0</th>\n",
       "      <td>2019-03-03 03:00:00+00:00</td>\n",
       "      <td>2019-03-03 09:00:00+00:00</td>\n",
       "    </tr>\n",
       "    <tr>\n",
       "      <th>1</th>\n",
       "      <td>2019-03-04 18:00:00+00:00</td>\n",
       "      <td>2019-03-08 18:00:00+00:00</td>\n",
       "    </tr>\n",
       "    <tr>\n",
       "      <th>2</th>\n",
       "      <td>2019-05-18 18:00:00+00:00</td>\n",
       "      <td>2019-05-30 05:00:00+00:00</td>\n",
       "    </tr>\n",
       "    <tr>\n",
       "      <th>3</th>\n",
       "      <td>2019-07-10 11:00:00+00:00</td>\n",
       "      <td>2019-07-18 04:00:00+00:00</td>\n",
       "    </tr>\n",
       "    <tr>\n",
       "      <th>4</th>\n",
       "      <td>2019-09-13 01:00:00+00:00</td>\n",
       "      <td>2019-10-01 23:00:00+00:00</td>\n",
       "    </tr>\n",
       "    <tr>\n",
       "      <th>...</th>\n",
       "      <th>...</th>\n",
       "      <td>...</td>\n",
       "      <td>...</td>\n",
       "    </tr>\n",
       "    <tr>\n",
       "      <th rowspan=\"5\" valign=\"top\">91323</th>\n",
       "      <th>21</th>\n",
       "      <td>2019-11-11 21:00:00+00:00</td>\n",
       "      <td>2019-11-12 05:00:00+00:00</td>\n",
       "    </tr>\n",
       "    <tr>\n",
       "      <th>22</th>\n",
       "      <td>2019-11-12 22:00:00+00:00</td>\n",
       "      <td>2019-11-13 03:00:00+00:00</td>\n",
       "    </tr>\n",
       "    <tr>\n",
       "      <th>23</th>\n",
       "      <td>2019-11-18 21:00:00+00:00</td>\n",
       "      <td>2019-11-19 03:00:00+00:00</td>\n",
       "    </tr>\n",
       "    <tr>\n",
       "      <th>24</th>\n",
       "      <td>2019-11-21 22:00:00+00:00</td>\n",
       "      <td>2019-11-22 05:00:00+00:00</td>\n",
       "    </tr>\n",
       "    <tr>\n",
       "      <th>25</th>\n",
       "      <td>2019-11-22 21:00:00+00:00</td>\n",
       "      <td>2019-11-23 07:00:00+00:00</td>\n",
       "    </tr>\n",
       "  </tbody>\n",
       "</table>\n",
       "<p>241014 rows × 2 columns</p>\n",
       "</div>"
      ],
      "text/plain": [
       "                                    startup                  shutdown\n",
       "unit_id_epa event                                                    \n",
       "1           0     2019-03-03 03:00:00+00:00 2019-03-03 09:00:00+00:00\n",
       "            1     2019-03-04 18:00:00+00:00 2019-03-08 18:00:00+00:00\n",
       "            2     2019-05-18 18:00:00+00:00 2019-05-30 05:00:00+00:00\n",
       "            3     2019-07-10 11:00:00+00:00 2019-07-18 04:00:00+00:00\n",
       "            4     2019-09-13 01:00:00+00:00 2019-10-01 23:00:00+00:00\n",
       "...                                     ...                       ...\n",
       "91323       21    2019-11-11 21:00:00+00:00 2019-11-12 05:00:00+00:00\n",
       "            22    2019-11-12 22:00:00+00:00 2019-11-13 03:00:00+00:00\n",
       "            23    2019-11-18 21:00:00+00:00 2019-11-19 03:00:00+00:00\n",
       "            24    2019-11-21 22:00:00+00:00 2019-11-22 05:00:00+00:00\n",
       "            25    2019-11-22 21:00:00+00:00 2019-11-23 07:00:00+00:00\n",
       "\n",
       "[241014 rows x 2 columns]"
      ]
     },
     "execution_count": 35,
     "metadata": {},
     "output_type": "execute_result"
    }
   ],
   "source": [
    "events"
   ]
  },
  {
   "cell_type": "code",
   "execution_count": 36,
   "id": "06ba5df6",
   "metadata": {},
   "outputs": [],
   "source": [
    "event_aggs = events.groupby(level='unit_id_epa').size().to_frame()"
   ]
  },
  {
   "cell_type": "code",
   "execution_count": 37,
   "id": "39010b16",
   "metadata": {},
   "outputs": [],
   "source": [
    "event_aggs = event_aggs.rename(columns={0: 'count'})"
   ]
  },
  {
   "cell_type": "code",
   "execution_count": 38,
   "id": "958217a7",
   "metadata": {},
   "outputs": [
    {
     "data": {
      "text/plain": [
       "<AxesSubplot:>"
      ]
     },
     "execution_count": 38,
     "metadata": {},
     "output_type": "execute_result"
    },
    {
     "data": {
      "image/png": "[encoded data removed]",
      "text/plain": [
       "<Figure size 432x288 with 1 Axes>"
      ]
     },
     "metadata": {
      "needs_background": "light"
     },
     "output_type": "display_data"
    }
   ],
   "source": [
    "event_aggs['count'].hist(bins=100)"
   ]
  },
  {
   "cell_type": "code",
   "execution_count": 39,
   "id": "80a640ba",
   "metadata": {},
   "outputs": [
    {
     "data": {
      "text/plain": [
       "<AxesSubplot:>"
      ]
     },
     "execution_count": 39,
     "metadata": {},
     "output_type": "execute_result"
    },
    {
     "data": {
      "image/png": "[encoded data removed]",
      "text/plain": [
       "<Figure size 432x288 with 1 Axes>"
      ]
     },
     "metadata": {
      "needs_background": "light"
     },
     "output_type": "display_data"
    }
   ],
   "source": [
    "event_aggs['count'].transform(np.log10).hist(bins=100)"
   ]
  },
  {
   "cell_type": "code",
   "execution_count": 40,
   "id": "0cf92720",
   "metadata": {},
   "outputs": [
    {
     "data": {
      "text/plain": [
       "565"
      ]
     },
     "execution_count": 40,
     "metadata": {},
     "output_type": "execute_result"
    }
   ],
   "source": [
    "# how many units have 0 uptime?\n",
    "len(cems.index.levels[0]) - len(events.index.levels[0])"
   ]
  },
  {
   "cell_type": "code",
   "execution_count": 41,
   "id": "9e2c48fa",
   "metadata": {},
   "outputs": [],
   "source": [
    "events['duration'] = events['shutdown'] - events['startup']"
   ]
  },
  {
   "cell_type": "code",
   "execution_count": 42,
   "id": "f448f1fd",
   "metadata": {},
   "outputs": [],
   "source": [
    "# mean uptime duration, in hours\n",
    "event_aggs['mean_duration'] = events['duration'].dt.total_seconds().div(60*60).groupby(level='unit_id_epa').mean()"
   ]
  },
  {
   "cell_type": "code",
   "execution_count": 48,
   "id": "9fc6c5e6",
   "metadata": {},
   "outputs": [
    {
     "data": {
      "text/html": [
       "<div>\n",
       "<style scoped>\n",
       "    .dataframe tbody tr th:only-of-type {\n",
       "        vertical-align: middle;\n",
       "    }\n",
       "\n",
       "    .dataframe tbody tr th {\n",
       "        vertical-align: top;\n",
       "    }\n",
       "\n",
       "    .dataframe thead th {\n",
       "        text-align: right;\n",
       "    }\n",
       "</style>\n",
       "<table border=\"1\" class=\"dataframe\">\n",
       "  <thead>\n",
       "    <tr style=\"text-align: right;\">\n",
       "      <th></th>\n",
       "      <th>count</th>\n",
       "      <th>mean</th>\n",
       "      <th>std</th>\n",
       "      <th>min</th>\n",
       "      <th>25%</th>\n",
       "      <th>50%</th>\n",
       "      <th>75%</th>\n",
       "      <th>max</th>\n",
       "    </tr>\n",
       "    <tr>\n",
       "      <th>unit_id_epa</th>\n",
       "      <th></th>\n",
       "      <th></th>\n",
       "      <th></th>\n",
       "      <th></th>\n",
       "      <th></th>\n",
       "      <th></th>\n",
       "      <th></th>\n",
       "      <th></th>\n",
       "    </tr>\n",
       "  </thead>\n",
       "  <tbody>\n",
       "    <tr>\n",
       "      <th>1</th>\n",
       "      <td>6.0</td>\n",
       "      <td>179.666667</td>\n",
       "      <td>164.548676</td>\n",
       "      <td>6.0</td>\n",
       "      <td>70.50</td>\n",
       "      <td>140.5</td>\n",
       "      <td>252.50</td>\n",
       "      <td>454.0</td>\n",
       "    </tr>\n",
       "    <tr>\n",
       "      <th>2</th>\n",
       "      <td>8.0</td>\n",
       "      <td>116.000000</td>\n",
       "      <td>86.620684</td>\n",
       "      <td>2.0</td>\n",
       "      <td>71.00</td>\n",
       "      <td>130.0</td>\n",
       "      <td>142.00</td>\n",
       "      <td>274.0</td>\n",
       "    </tr>\n",
       "    <tr>\n",
       "      <th>4</th>\n",
       "      <td>12.0</td>\n",
       "      <td>238.166667</td>\n",
       "      <td>148.816442</td>\n",
       "      <td>7.0</td>\n",
       "      <td>155.25</td>\n",
       "      <td>211.5</td>\n",
       "      <td>350.75</td>\n",
       "      <td>506.0</td>\n",
       "    </tr>\n",
       "    <tr>\n",
       "      <th>5</th>\n",
       "      <td>11.0</td>\n",
       "      <td>517.181818</td>\n",
       "      <td>567.509263</td>\n",
       "      <td>4.0</td>\n",
       "      <td>14.50</td>\n",
       "      <td>326.0</td>\n",
       "      <td>813.00</td>\n",
       "      <td>1638.0</td>\n",
       "    </tr>\n",
       "    <tr>\n",
       "      <th>6</th>\n",
       "      <td>14.0</td>\n",
       "      <td>558.000000</td>\n",
       "      <td>701.084544</td>\n",
       "      <td>3.0</td>\n",
       "      <td>6.75</td>\n",
       "      <td>291.5</td>\n",
       "      <td>829.25</td>\n",
       "      <td>1983.0</td>\n",
       "    </tr>\n",
       "    <tr>\n",
       "      <th>...</th>\n",
       "      <td>...</td>\n",
       "      <td>...</td>\n",
       "      <td>...</td>\n",
       "      <td>...</td>\n",
       "      <td>...</td>\n",
       "      <td>...</td>\n",
       "      <td>...</td>\n",
       "      <td>...</td>\n",
       "    </tr>\n",
       "    <tr>\n",
       "      <th>91295</th>\n",
       "      <td>17.0</td>\n",
       "      <td>259.705882</td>\n",
       "      <td>332.795501</td>\n",
       "      <td>2.0</td>\n",
       "      <td>11.00</td>\n",
       "      <td>118.0</td>\n",
       "      <td>377.00</td>\n",
       "      <td>1150.0</td>\n",
       "    </tr>\n",
       "    <tr>\n",
       "      <th>91296</th>\n",
       "      <td>16.0</td>\n",
       "      <td>260.625000</td>\n",
       "      <td>235.627637</td>\n",
       "      <td>2.0</td>\n",
       "      <td>85.00</td>\n",
       "      <td>189.0</td>\n",
       "      <td>376.25</td>\n",
       "      <td>802.0</td>\n",
       "    </tr>\n",
       "    <tr>\n",
       "      <th>91299</th>\n",
       "      <td>22.0</td>\n",
       "      <td>5.909091</td>\n",
       "      <td>3.637229</td>\n",
       "      <td>2.0</td>\n",
       "      <td>3.00</td>\n",
       "      <td>4.5</td>\n",
       "      <td>7.00</td>\n",
       "      <td>15.0</td>\n",
       "    </tr>\n",
       "    <tr>\n",
       "      <th>91311</th>\n",
       "      <td>9.0</td>\n",
       "      <td>47.555556</td>\n",
       "      <td>51.920880</td>\n",
       "      <td>2.0</td>\n",
       "      <td>3.00</td>\n",
       "      <td>19.0</td>\n",
       "      <td>86.00</td>\n",
       "      <td>129.0</td>\n",
       "    </tr>\n",
       "    <tr>\n",
       "      <th>91323</th>\n",
       "      <td>26.0</td>\n",
       "      <td>8.269231</td>\n",
       "      <td>1.484795</td>\n",
       "      <td>5.0</td>\n",
       "      <td>7.25</td>\n",
       "      <td>8.0</td>\n",
       "      <td>9.00</td>\n",
       "      <td>12.0</td>\n",
       "    </tr>\n",
       "  </tbody>\n",
       "</table>\n",
       "<p>3750 rows × 8 columns</p>\n",
       "</div>"
      ],
      "text/plain": [
       "             count        mean         std  min     25%    50%     75%     max\n",
       "unit_id_epa                                                                   \n",
       "1              6.0  179.666667  164.548676  6.0   70.50  140.5  252.50   454.0\n",
       "2              8.0  116.000000   86.620684  2.0   71.00  130.0  142.00   274.0\n",
       "4             12.0  238.166667  148.816442  7.0  155.25  211.5  350.75   506.0\n",
       "5             11.0  517.181818  567.509263  4.0   14.50  326.0  813.00  1638.0\n",
       "6             14.0  558.000000  701.084544  3.0    6.75  291.5  829.25  1983.0\n",
       "...            ...         ...         ...  ...     ...    ...     ...     ...\n",
       "91295         17.0  259.705882  332.795501  2.0   11.00  118.0  377.00  1150.0\n",
       "91296         16.0  260.625000  235.627637  2.0   85.00  189.0  376.25   802.0\n",
       "91299         22.0    5.909091    3.637229  2.0    3.00    4.5    7.00    15.0\n",
       "91311          9.0   47.555556   51.920880  2.0    3.00   19.0   86.00   129.0\n",
       "91323         26.0    8.269231    1.484795  5.0    7.25    8.0    9.00    12.0\n",
       "\n",
       "[3750 rows x 8 columns]"
      ]
     },
     "execution_count": 48,
     "metadata": {},
     "output_type": "execute_result"
    }
   ],
   "source": [
    "event_aggs = events['duration'].dt.total_seconds().div(60*60).groupby(level='unit_id_epa').describe()\n",
    "event_aggs"
   ]
  },
  {
   "cell_type": "code",
   "execution_count": null,
   "id": "ff69f264",
   "metadata": {},
   "outputs": [],
   "source": []
  },
  {
   "cell_type": "code",
   "execution_count": 43,
   "id": "7248892b",
   "metadata": {},
   "outputs": [
    {
     "data": {
      "text/plain": [
       "<AxesSubplot:>"
      ]
     },
     "execution_count": 43,
     "metadata": {},
     "output_type": "execute_result"
    },
    {
     "data": {
      "image/png": "[encoded data removed]",
      "text/plain": [
       "<Figure size 432x288 with 1 Axes>"
      ]
     },
     "metadata": {
      "needs_background": "light"
     },
     "output_type": "display_data"
    }
   ],
   "source": [
    "# log10 mean duration\n",
    "event_aggs['mean_duration'].transform(np.log10).hist(bins=100)"
   ]
  },
  {
   "cell_type": "code",
   "execution_count": 44,
   "id": "51d73a7c",
   "metadata": {},
   "outputs": [
    {
     "data": {
      "text/plain": [
       "<AxesSubplot:>"
      ]
     },
     "execution_count": 44,
     "metadata": {},
     "output_type": "execute_result"
    },
    {
     "data": {
      "image/png": "[encoded data removed]",
      "text/plain": [
       "<Figure size 432x288 with 1 Axes>"
      ]
     },
     "metadata": {
      "needs_background": "light"
     },
     "output_type": "display_data"
    }
   ],
   "source": [
    "# log10 of median uptime duration, in hours\n",
    "events['duration'].dt.total_seconds().div(60*60).groupby(level='unit_id_epa').median().transform(np.log10).hist(bins=100)"
   ]
  },
  {
   "cell_type": "markdown",
   "id": "53ec6dba",
   "metadata": {},
   "source": [
    "Is there a simple way to classify 'peakers' from 'baseload'? Is that distinction even meaningful?"
   ]
  },
  {
   "cell_type": "code",
   "execution_count": 45,
   "id": "9720efc7",
   "metadata": {},
   "outputs": [
    {
     "data": {
      "text/plain": [
       "<seaborn.axisgrid.JointGrid at 0x7fb879819430>"
      ]
     },
     "execution_count": 45,
     "metadata": {},
     "output_type": "execute_result"
    },
    {
     "data": {
      "image/png": "[encoded data removed]",
      "text/plain": [
       "<Figure size 576x576 with 3 Axes>"
      ]
     },
     "metadata": {
      "needs_background": "light"
     },
     "output_type": "display_data"
    }
   ],
   "source": [
    "sns.jointplot(data=event_aggs.transform(np.log10), x='count', y='mean_duration', s=4, alpha=0.5, height=8, marginal_kws=dict(bins=70))"
   ]
  },
  {
   "cell_type": "markdown",
   "id": "5b9c1c71",
   "metadata": {},
   "source": [
    "It looks like there are two fairly distinct populations of plants which look to be mostly linearly separable using only these two dimensions. But these two populations are NOT peakers vs baseload; these two populations are simply 'runs most hours' vs 'runs rarely'."
   ]
  },
  {
   "cell_type": "code",
   "execution_count": 46,
   "id": "f5a45d93",
   "metadata": {},
   "outputs": [
    {
     "data": {
      "text/plain": [
       "<AxesSubplot:>"
      ]
     },
     "execution_count": 46,
     "metadata": {},
     "output_type": "execute_result"
    },
    {
     "data": {
      "image/png": "[encoded data removed]",
      "text/plain": [
       "<Figure size 432x288 with 1 Axes>"
      ]
     },
     "metadata": {
      "needs_background": "light"
     },
     "output_type": "display_data"
    }
   ],
   "source": [
    "# log10 counts of non-zero generation hours, with 0 hours mapped to -1\n",
    "cems['gross_load_mw'].gt(0).groupby(level='unit_id_epa').sum().replace(0, 1e-1).transform(np.log10).hist(bins=100)"
   ]
  },
  {
   "cell_type": "markdown",
   "id": "0a26c2ed",
   "metadata": {},
   "source": [
    "I'll try calculating ramp rates and coloring the above plot by that."
   ]
  },
  {
   "cell_type": "code",
   "execution_count": null,
   "id": "56879d52",
   "metadata": {},
   "outputs": [],
   "source": []
  },
  {
   "cell_type": "code",
   "execution_count": null,
   "id": "4bab992d",
   "metadata": {},
   "outputs": [],
   "source": []
  },
  {
   "cell_type": "code",
   "execution_count": null,
   "id": "3f323a2f",
   "metadata": {},
   "outputs": [],
   "source": []
  },
  {
   "cell_type": "code",
   "execution_count": null,
   "id": "0343859c",
   "metadata": {},
   "outputs": [],
   "source": []
  },
  {
   "cell_type": "code",
   "execution_count": 22,
   "id": "7300c1c5",
   "metadata": {},
   "outputs": [],
   "source": []
  },
  {
   "cell_type": "code",
   "execution_count": null,
   "id": "3661170e",
   "metadata": {},
   "outputs": [],
   "source": []
  },
  {
   "cell_type": "code",
   "execution_count": null,
   "id": "214130a3",
   "metadata": {},
   "outputs": [],
   "source": []
  },
  {
   "cell_type": "code",
   "execution_count": null,
   "id": "e58ece78",
   "metadata": {},
   "outputs": [],
   "source": []
  },
  {
   "cell_type": "code",
   "execution_count": null,
   "id": "22b7548f",
   "metadata": {},
   "outputs": [],
   "source": []
  },
  {
   "cell_type": "markdown",
   "id": "4b4312f6",
   "metadata": {},
   "source": [
    "The following was an attempt to convert event data back into timeseries. It failed due to performance issues with my implementation. I'm sure there is a way to do it, but I solved this problem by avoiding the events table entirely using the methods above."
   ]
  },
  {
   "cell_type": "code",
   "execution_count": 301,
   "id": "c81115eb",
   "metadata": {},
   "outputs": [
    {
     "ename": "Exception",
     "evalue": "",
     "output_type": "error",
     "traceback": [
      "\u001b[0;31m---------------------------------------------------------------------------\u001b[0m",
      "\u001b[0;31mException\u001b[0m                                 Traceback (most recent call last)",
      "\u001b[0;32m<ipython-input-301-2aee0157c87b>\u001b[0m in \u001b[0;36m<module>\u001b[0;34m\u001b[0m\n\u001b[0;32m----> 1\u001b[0;31m \u001b[0;32mraise\u001b[0m \u001b[0mException\u001b[0m\u001b[0;34m\u001b[0m\u001b[0;34m\u001b[0m\u001b[0m\n\u001b[0m",
      "\u001b[0;31mException\u001b[0m: "
     ]
    }
   ],
   "source": [
    "raise Exception # stop 'run all cells' from continuing down"
   ]
  },
  {
   "cell_type": "code",
   "execution_count": 156,
   "id": "b8ec45e7",
   "metadata": {},
   "outputs": [],
   "source": [
    "cems.loc[:,['hours_from_startup', 'hours_to_shutdown']] = np.nan"
   ]
  },
  {
   "cell_type": "code",
   "execution_count": 157,
   "id": "0ae8b6d6",
   "metadata": {},
   "outputs": [
    {
     "data": {
      "text/plain": [
       "operating_time_hours    float32\n",
       "gross_load_mw           float32\n",
       "load_factor             float32\n",
       "hours_from_startup      float32\n",
       "hours_to_shutdown       float32\n",
       "dtype: object"
      ]
     },
     "execution_count": 157,
     "metadata": {},
     "output_type": "execute_result"
    }
   ],
   "source": [
    "cems = cems.astype({'hours_from_startup': np.float32, 'hours_to_shutdown': np.float32}, copy=False)\n",
    "cems.dtypes"
   ]
  },
  {
   "cell_type": "code",
   "execution_count": 158,
   "id": "90b83fe8",
   "metadata": {},
   "outputs": [],
   "source": [
    "hr = pd.Timedelta('1h')\n",
    "min_timestamp = cems.index.levels[1][0]\n",
    "max_timestamp = cems.index.levels[1][-1]\n",
    "full_timeseries = pd.date_range(start=min_timestamp, end=max_timestamp, freq='h', tz='UTC').to_series()\n",
    "idx = pd.IndexSlice"
   ]
  },
  {
   "cell_type": "code",
   "execution_count": null,
   "id": "9443ec0e",
   "metadata": {},
   "outputs": [],
   "source": [
    "# this doesn't work because it is horrifically inefficient. Something with the cems.loc[...] assignments\n",
    "for index, ser in events.iterrows():\n",
    "    # move bounds in by 1 hour because indexing is inclusive\n",
    "    start = ser['startup'] + hr\n",
    "    end = ser['shutdown'] - hr\n",
    "    # if NaT, use first/last timestamp\n",
    "    if start is pd.NaT:\n",
    "        start = cems.loc[idx[1,:],:].index.get_level_values(level='operating_datetime_utc')[0]\n",
    "    if end is pd.NaT:\n",
    "        end = cems.loc[idx[1,:],:].index.get_level_values(level='operating_datetime_utc')[-1]\n",
    "    \n",
    "    from_startup = full_timeseries[start:end].sub(ser['startup']).dt.total_seconds().div(3600).to_numpy(dtype=np.float32) # hours\n",
    "    to_shutdown = full_timeseries[start:end].sub(ser['shutdown']).dt.total_seconds().div(-3600).to_numpy(dtype=np.float32) # hours, .div(-3600) to fix sign\n",
    "    \n",
    "    cems.loc[idx[index[0], start:end], 'hours_from_startup'] = from_startup\n",
    "    cems.loc[idx[index[0], start:end], 'hours_to_shutdown'] = to_shutdown\n",
    "    #new_df = pd.DataFrame({'hours_from_startup': from_startup, 'hours_to_shutdown': to_shutdown}, index=cems.loc[idx[index[0], start:end],:].index)\n",
    "    #cems.update(new_df)\n",
    "    if index[0] > 10:\n",
    "        break\n",
    "    #subset = cems.loc[idx[index[0], start:end], ['hours_from_startup', 'hours_to_shutdown']]"
   ]
  }
 ],
 "metadata": {
  "kernelspec": {
   "display_name": "Python 3",
   "language": "python",
   "name": "python3"
  },
  "language_info": {
   "codemirror_mode": {
    "name": "ipython",
    "version": 3
   },
   "file_extension": ".py",
   "mimetype": "text/x-python",
   "name": "python",
   "nbconvert_exporter": "python",
   "pygments_lexer": "ipython3",
   "version": "3.9.4"
  },
  "toc": {
   "base_numbering": 1,
   "nav_menu": {},
   "number_sections": true,
   "sideBar": true,
   "skip_h1_title": false,
   "title_cell": "Table of Contents",
   "title_sidebar": "Contents",
   "toc_cell": false,
   "toc_position": {},
   "toc_section_display": true,
   "toc_window_display": false
  },
  "varInspector": {
   "cols": {
    "lenName": 16,
    "lenType": 16,
    "lenVar": 40
   },
   "kernels_config": {
    "python": {
     "delete_cmd_postfix": "",
     "delete_cmd_prefix": "del ",
     "library": "var_list.py",
     "varRefreshCmd": "print(var_dic_list())"
    },
    "r": {
     "delete_cmd_postfix": ") ",
     "delete_cmd_prefix": "rm(",
     "library": "var_list.r",
     "varRefreshCmd": "cat(var_dic_list()) "
    }
   },
   "position": {
    "height": "214.85px",
    "left": "908px",
    "right": "20px",
    "top": "120px",
    "width": "350px"
   },
   "types_to_exclude": [
    "module",
    "function",
    "builtin_function_or_method",
    "instance",
    "_Feature"
   ],
   "window_display": false
  }
 },
 "nbformat": 4,
 "nbformat_minor": 5
}
