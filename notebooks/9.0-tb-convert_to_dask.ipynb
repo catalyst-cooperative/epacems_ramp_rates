{
 "cells": [
  {
   "cell_type": "code",
   "execution_count": 2,
   "id": "09f143bd",
   "metadata": {},
   "outputs": [],
   "source": [
    "%load_ext autoreload"
   ]
  },
  {
   "cell_type": "code",
   "execution_count": 3,
   "id": "4bf68d7b",
   "metadata": {},
   "outputs": [],
   "source": [
    "%autoreload 2"
   ]
  },
  {
   "cell_type": "code",
   "execution_count": 4,
   "id": "b8432c48",
   "metadata": {},
   "outputs": [],
   "source": [
    "from ramprate.load_dataset import load_epacems, load_epa_crosswalk\n",
    "import ramprate.build_features as bf\n",
    "\n",
    "import dask.dataframe as dd\n",
    "import pandas as pd\n",
    "from pathlib import Path\n",
    "from typing import Optional, Sequence\n",
    "import pudl"
   ]
  },
  {
   "cell_type": "code",
   "execution_count": 5,
   "id": "bfe08ab1",
   "metadata": {},
   "outputs": [],
   "source": [
    "import dask"
   ]
  },
  {
   "cell_type": "code",
   "execution_count": 6,
   "id": "6de0350d",
   "metadata": {},
   "outputs": [],
   "source": [
    "crosswalk = load_epa_crosswalk()"
   ]
  },
  {
   "cell_type": "code",
   "execution_count": 70,
   "id": "7cf5fbee",
   "metadata": {},
   "outputs": [
    {
     "data": {
      "text/html": [
       "<div>\n",
       "<style scoped>\n",
       "    .dataframe tbody tr th:only-of-type {\n",
       "        vertical-align: middle;\n",
       "    }\n",
       "\n",
       "    .dataframe tbody tr th {\n",
       "        vertical-align: top;\n",
       "    }\n",
       "\n",
       "    .dataframe thead th {\n",
       "        text-align: right;\n",
       "    }\n",
       "</style>\n",
       "<table border=\"1\" class=\"dataframe\">\n",
       "  <thead>\n",
       "    <tr style=\"text-align: right;\">\n",
       "      <th></th>\n",
       "      <th>component_id</th>\n",
       "      <th>plant_id_eia</th>\n",
       "      <th>unitid</th>\n",
       "      <th>unit_id_epa</th>\n",
       "      <th>SEQUENCE_NUMBER</th>\n",
       "      <th>CAMD_STATE</th>\n",
       "      <th>CAMD_FACILITY_NAME</th>\n",
       "      <th>CAMD_PLANT_ID</th>\n",
       "      <th>CAMD_UNIT_ID</th>\n",
       "      <th>CAMD_GENERATOR_ID</th>\n",
       "      <th>...</th>\n",
       "      <th>EIA_LATITUDE</th>\n",
       "      <th>EIA_LONGITUDE</th>\n",
       "      <th>EIA_RETIRE_YEAR</th>\n",
       "      <th>PLANT_ID_CHANGE_FLAG</th>\n",
       "      <th>MOD_EIA_PLANT_ID</th>\n",
       "      <th>MOD_EIA_BOILER_ID</th>\n",
       "      <th>MOD_EIA_GENERATOR_ID_BOILER</th>\n",
       "      <th>MOD_EIA_GENERATOR_ID_GEN</th>\n",
       "      <th>MATCH_TYPE_GEN</th>\n",
       "      <th>MATCH_TYPE_BOILER</th>\n",
       "    </tr>\n",
       "  </thead>\n",
       "  <tbody>\n",
       "    <tr>\n",
       "      <th>0</th>\n",
       "      <td>0</td>\n",
       "      <td>469</td>\n",
       "      <td>4</td>\n",
       "      <td>298</td>\n",
       "      <td>263.0</td>\n",
       "      <td>CO</td>\n",
       "      <td>Cherokee</td>\n",
       "      <td>469</td>\n",
       "      <td>4</td>\n",
       "      <td>4</td>\n",
       "      <td>...</td>\n",
       "      <td>39.807275</td>\n",
       "      <td>-104.964548</td>\n",
       "      <td>0.0</td>\n",
       "      <td>0.0</td>\n",
       "      <td>469.0</td>\n",
       "      <td>4</td>\n",
       "      <td>4</td>\n",
       "      <td>4</td>\n",
       "      <td>3_1_Generator (generators) match on plant and ...</td>\n",
       "      <td>6_1_EnviroAssoc (boilers and generators) match...</td>\n",
       "    </tr>\n",
       "    <tr>\n",
       "      <th>1</th>\n",
       "      <td>1</td>\n",
       "      <td>470</td>\n",
       "      <td>1</td>\n",
       "      <td>299</td>\n",
       "      <td>268.0</td>\n",
       "      <td>CO</td>\n",
       "      <td>Comanche (470)</td>\n",
       "      <td>470</td>\n",
       "      <td>1</td>\n",
       "      <td>1</td>\n",
       "      <td>...</td>\n",
       "      <td>38.208100</td>\n",
       "      <td>-104.574700</td>\n",
       "      <td>0.0</td>\n",
       "      <td>0.0</td>\n",
       "      <td>470.0</td>\n",
       "      <td>1</td>\n",
       "      <td>1</td>\n",
       "      <td>1</td>\n",
       "      <td>3_1_Generator (generators) match on plant and ...</td>\n",
       "      <td>6_1_EnviroAssoc (boilers and generators) match...</td>\n",
       "    </tr>\n",
       "    <tr>\n",
       "      <th>2</th>\n",
       "      <td>2</td>\n",
       "      <td>470</td>\n",
       "      <td>2</td>\n",
       "      <td>300</td>\n",
       "      <td>269.0</td>\n",
       "      <td>CO</td>\n",
       "      <td>Comanche (470)</td>\n",
       "      <td>470</td>\n",
       "      <td>2</td>\n",
       "      <td>2</td>\n",
       "      <td>...</td>\n",
       "      <td>38.208100</td>\n",
       "      <td>-104.574700</td>\n",
       "      <td>0.0</td>\n",
       "      <td>0.0</td>\n",
       "      <td>470.0</td>\n",
       "      <td>2</td>\n",
       "      <td>2</td>\n",
       "      <td>2</td>\n",
       "      <td>3_1_Generator (generators) match on plant and ...</td>\n",
       "      <td>6_1_EnviroAssoc (boilers and generators) match...</td>\n",
       "    </tr>\n",
       "    <tr>\n",
       "      <th>3</th>\n",
       "      <td>3</td>\n",
       "      <td>478</td>\n",
       "      <td>1</td>\n",
       "      <td>310</td>\n",
       "      <td>272.0</td>\n",
       "      <td>CO</td>\n",
       "      <td>Zuni</td>\n",
       "      <td>478</td>\n",
       "      <td>1</td>\n",
       "      <td>1</td>\n",
       "      <td>...</td>\n",
       "      <td>39.737348</td>\n",
       "      <td>-105.016991</td>\n",
       "      <td>2010.0</td>\n",
       "      <td>0.0</td>\n",
       "      <td>478.0</td>\n",
       "      <td>1</td>\n",
       "      <td>1</td>\n",
       "      <td>1</td>\n",
       "      <td>3_1_Generator (generators) match on plant and ...</td>\n",
       "      <td>6_1_EnviroAssoc (boilers and generators) match...</td>\n",
       "    </tr>\n",
       "    <tr>\n",
       "      <th>4</th>\n",
       "      <td>3</td>\n",
       "      <td>478</td>\n",
       "      <td>2</td>\n",
       "      <td>311</td>\n",
       "      <td>273.0</td>\n",
       "      <td>CO</td>\n",
       "      <td>Zuni</td>\n",
       "      <td>478</td>\n",
       "      <td>2</td>\n",
       "      <td>1</td>\n",
       "      <td>...</td>\n",
       "      <td>39.737348</td>\n",
       "      <td>-105.016991</td>\n",
       "      <td>2010.0</td>\n",
       "      <td>0.0</td>\n",
       "      <td>478.0</td>\n",
       "      <td>2</td>\n",
       "      <td>1</td>\n",
       "      <td>1</td>\n",
       "      <td>3_1_Generator (generators) match on plant and ...</td>\n",
       "      <td>6_1_EnviroAssoc (boilers and generators) match...</td>\n",
       "    </tr>\n",
       "    <tr>\n",
       "      <th>...</th>\n",
       "      <td>...</td>\n",
       "      <td>...</td>\n",
       "      <td>...</td>\n",
       "      <td>...</td>\n",
       "      <td>...</td>\n",
       "      <td>...</td>\n",
       "      <td>...</td>\n",
       "      <td>...</td>\n",
       "      <td>...</td>\n",
       "      <td>...</td>\n",
       "      <td>...</td>\n",
       "      <td>...</td>\n",
       "      <td>...</td>\n",
       "      <td>...</td>\n",
       "      <td>...</td>\n",
       "      <td>...</td>\n",
       "      <td>...</td>\n",
       "      <td>...</td>\n",
       "      <td>...</td>\n",
       "      <td>...</td>\n",
       "      <td>...</td>\n",
       "    </tr>\n",
       "    <tr>\n",
       "      <th>96</th>\n",
       "      <td>55</td>\n",
       "      <td>469</td>\n",
       "      <td>5</td>\n",
       "      <td>90850</td>\n",
       "      <td>264.0</td>\n",
       "      <td>CO</td>\n",
       "      <td>Cherokee</td>\n",
       "      <td>469</td>\n",
       "      <td>5</td>\n",
       "      <td>5</td>\n",
       "      <td>...</td>\n",
       "      <td>39.807275</td>\n",
       "      <td>-104.964548</td>\n",
       "      <td>0.0</td>\n",
       "      <td>0.0</td>\n",
       "      <td>469.0</td>\n",
       "      <td>NaN</td>\n",
       "      <td>NaN</td>\n",
       "      <td>5</td>\n",
       "      <td>3_1_Generator (generators) match on plant and ...</td>\n",
       "      <td>NaN</td>\n",
       "    </tr>\n",
       "    <tr>\n",
       "      <th>97</th>\n",
       "      <td>55</td>\n",
       "      <td>469</td>\n",
       "      <td>5</td>\n",
       "      <td>90850</td>\n",
       "      <td>265.0</td>\n",
       "      <td>CO</td>\n",
       "      <td>Cherokee</td>\n",
       "      <td>469</td>\n",
       "      <td>5</td>\n",
       "      <td>7</td>\n",
       "      <td>...</td>\n",
       "      <td>39.807275</td>\n",
       "      <td>-104.964548</td>\n",
       "      <td>0.0</td>\n",
       "      <td>0.0</td>\n",
       "      <td>469.0</td>\n",
       "      <td>NaN</td>\n",
       "      <td>NaN</td>\n",
       "      <td>7</td>\n",
       "      <td>3_1_Generator (generators) match on plant and ...</td>\n",
       "      <td>NaN</td>\n",
       "    </tr>\n",
       "    <tr>\n",
       "      <th>98</th>\n",
       "      <td>55</td>\n",
       "      <td>469</td>\n",
       "      <td>6</td>\n",
       "      <td>90851</td>\n",
       "      <td>266.0</td>\n",
       "      <td>CO</td>\n",
       "      <td>Cherokee</td>\n",
       "      <td>469</td>\n",
       "      <td>6</td>\n",
       "      <td>7</td>\n",
       "      <td>...</td>\n",
       "      <td>39.807275</td>\n",
       "      <td>-104.964548</td>\n",
       "      <td>0.0</td>\n",
       "      <td>0.0</td>\n",
       "      <td>469.0</td>\n",
       "      <td>NaN</td>\n",
       "      <td>NaN</td>\n",
       "      <td>7</td>\n",
       "      <td>3_1_Generator (generators) match on plant and ...</td>\n",
       "      <td>NaN</td>\n",
       "    </tr>\n",
       "    <tr>\n",
       "      <th>99</th>\n",
       "      <td>55</td>\n",
       "      <td>469</td>\n",
       "      <td>6</td>\n",
       "      <td>90851</td>\n",
       "      <td>267.0</td>\n",
       "      <td>CO</td>\n",
       "      <td>Cherokee</td>\n",
       "      <td>469</td>\n",
       "      <td>6</td>\n",
       "      <td>6</td>\n",
       "      <td>...</td>\n",
       "      <td>39.807275</td>\n",
       "      <td>-104.964548</td>\n",
       "      <td>0.0</td>\n",
       "      <td>0.0</td>\n",
       "      <td>469.0</td>\n",
       "      <td>NaN</td>\n",
       "      <td>NaN</td>\n",
       "      <td>6</td>\n",
       "      <td>3_1_Generator (generators) match on plant and ...</td>\n",
       "      <td>NaN</td>\n",
       "    </tr>\n",
       "    <tr>\n",
       "      <th>100</th>\n",
       "      <td>56</td>\n",
       "      <td>56998</td>\n",
       "      <td>CT08</td>\n",
       "      <td>90863</td>\n",
       "      <td>6333.0</td>\n",
       "      <td>CO</td>\n",
       "      <td>Pueblo Airport Generating Station</td>\n",
       "      <td>56998</td>\n",
       "      <td>CT08</td>\n",
       "      <td>8</td>\n",
       "      <td>...</td>\n",
       "      <td>38.320833</td>\n",
       "      <td>-104.526390</td>\n",
       "      <td>0.0</td>\n",
       "      <td>0.0</td>\n",
       "      <td>56998.0</td>\n",
       "      <td>NaN</td>\n",
       "      <td>NaN</td>\n",
       "      <td>8</td>\n",
       "      <td>3_1_Generator (generators) match on plant and ...</td>\n",
       "      <td>NaN</td>\n",
       "    </tr>\n",
       "  </tbody>\n",
       "</table>\n",
       "<p>101 rows × 37 columns</p>\n",
       "</div>"
      ],
      "text/plain": [
       "     component_id  plant_id_eia unitid  unit_id_epa  SEQUENCE_NUMBER  \\\n",
       "0               0           469      4          298            263.0   \n",
       "1               1           470      1          299            268.0   \n",
       "2               2           470      2          300            269.0   \n",
       "3               3           478      1          310            272.0   \n",
       "4               3           478      2          311            273.0   \n",
       "..            ...           ...    ...          ...              ...   \n",
       "96             55           469      5        90850            264.0   \n",
       "97             55           469      5        90850            265.0   \n",
       "98             55           469      6        90851            266.0   \n",
       "99             55           469      6        90851            267.0   \n",
       "100            56         56998   CT08        90863           6333.0   \n",
       "\n",
       "    CAMD_STATE                 CAMD_FACILITY_NAME  CAMD_PLANT_ID CAMD_UNIT_ID  \\\n",
       "0           CO                           Cherokee            469            4   \n",
       "1           CO                     Comanche (470)            470            1   \n",
       "2           CO                     Comanche (470)            470            2   \n",
       "3           CO                               Zuni            478            1   \n",
       "4           CO                               Zuni            478            2   \n",
       "..         ...                                ...            ...          ...   \n",
       "96          CO                           Cherokee            469            5   \n",
       "97          CO                           Cherokee            469            5   \n",
       "98          CO                           Cherokee            469            6   \n",
       "99          CO                           Cherokee            469            6   \n",
       "100         CO  Pueblo Airport Generating Station          56998         CT08   \n",
       "\n",
       "    CAMD_GENERATOR_ID  ...  EIA_LATITUDE EIA_LONGITUDE  EIA_RETIRE_YEAR  \\\n",
       "0                   4  ...     39.807275   -104.964548              0.0   \n",
       "1                   1  ...     38.208100   -104.574700              0.0   \n",
       "2                   2  ...     38.208100   -104.574700              0.0   \n",
       "3                   1  ...     39.737348   -105.016991           2010.0   \n",
       "4                   1  ...     39.737348   -105.016991           2010.0   \n",
       "..                ...  ...           ...           ...              ...   \n",
       "96                  5  ...     39.807275   -104.964548              0.0   \n",
       "97                  7  ...     39.807275   -104.964548              0.0   \n",
       "98                  7  ...     39.807275   -104.964548              0.0   \n",
       "99                  6  ...     39.807275   -104.964548              0.0   \n",
       "100                 8  ...     38.320833   -104.526390              0.0   \n",
       "\n",
       "     PLANT_ID_CHANGE_FLAG MOD_EIA_PLANT_ID MOD_EIA_BOILER_ID  \\\n",
       "0                     0.0            469.0                 4   \n",
       "1                     0.0            470.0                 1   \n",
       "2                     0.0            470.0                 2   \n",
       "3                     0.0            478.0                 1   \n",
       "4                     0.0            478.0                 2   \n",
       "..                    ...              ...               ...   \n",
       "96                    0.0            469.0               NaN   \n",
       "97                    0.0            469.0               NaN   \n",
       "98                    0.0            469.0               NaN   \n",
       "99                    0.0            469.0               NaN   \n",
       "100                   0.0          56998.0               NaN   \n",
       "\n",
       "     MOD_EIA_GENERATOR_ID_BOILER MOD_EIA_GENERATOR_ID_GEN  \\\n",
       "0                              4                        4   \n",
       "1                              1                        1   \n",
       "2                              2                        2   \n",
       "3                              1                        1   \n",
       "4                              1                        1   \n",
       "..                           ...                      ...   \n",
       "96                           NaN                        5   \n",
       "97                           NaN                        7   \n",
       "98                           NaN                        7   \n",
       "99                           NaN                        6   \n",
       "100                          NaN                        8   \n",
       "\n",
       "                                        MATCH_TYPE_GEN  \\\n",
       "0    3_1_Generator (generators) match on plant and ...   \n",
       "1    3_1_Generator (generators) match on plant and ...   \n",
       "2    3_1_Generator (generators) match on plant and ...   \n",
       "3    3_1_Generator (generators) match on plant and ...   \n",
       "4    3_1_Generator (generators) match on plant and ...   \n",
       "..                                                 ...   \n",
       "96   3_1_Generator (generators) match on plant and ...   \n",
       "97   3_1_Generator (generators) match on plant and ...   \n",
       "98   3_1_Generator (generators) match on plant and ...   \n",
       "99   3_1_Generator (generators) match on plant and ...   \n",
       "100  3_1_Generator (generators) match on plant and ...   \n",
       "\n",
       "                                     MATCH_TYPE_BOILER  \n",
       "0    6_1_EnviroAssoc (boilers and generators) match...  \n",
       "1    6_1_EnviroAssoc (boilers and generators) match...  \n",
       "2    6_1_EnviroAssoc (boilers and generators) match...  \n",
       "3    6_1_EnviroAssoc (boilers and generators) match...  \n",
       "4    6_1_EnviroAssoc (boilers and generators) match...  \n",
       "..                                                 ...  \n",
       "96                                                 NaN  \n",
       "97                                                 NaN  \n",
       "98                                                 NaN  \n",
       "99                                                 NaN  \n",
       "100                                                NaN  \n",
       "\n",
       "[101 rows x 37 columns]"
      ]
     },
     "execution_count": 70,
     "metadata": {},
     "output_type": "execute_result"
    }
   ],
   "source": [
    "bf.make_subcomponent_ids(crosswalk, cems)"
   ]
  },
  {
   "cell_type": "code",
   "execution_count": 120,
   "id": "4cc79f26",
   "metadata": {},
   "outputs": [],
   "source": [
    "cdf = load_epacems(engine='pandas')"
   ]
  },
  {
   "cell_type": "code",
   "execution_count": 121,
   "id": "40ffb110",
   "metadata": {},
   "outputs": [],
   "source": [
    "cdf.set_index(['unit_id_epa', 'operating_datetime_utc'], drop=False, inplace=True)\n",
    "cdf.sort_index(inplace=True)"
   ]
  },
  {
   "cell_type": "code",
   "execution_count": 122,
   "id": "c1bf3570",
   "metadata": {},
   "outputs": [],
   "source": [
    "cdf = bf._add_subcomponent_ids_and_meta(cdf, crosswalk)['cems']"
   ]
  },
  {
   "cell_type": "code",
   "execution_count": 123,
   "id": "348ab74d",
   "metadata": {},
   "outputs": [],
   "source": [
    "bf._create_exclusion_flags(cdf)"
   ]
  },
  {
   "cell_type": "code",
   "execution_count": 125,
   "id": "5e7b5d7e",
   "metadata": {},
   "outputs": [
    {
     "data": {
      "text/plain": [
       "0.22199659142067013"
      ]
     },
     "execution_count": 125,
     "metadata": {},
     "output_type": "execute_result"
    }
   ],
   "source": [
    "cdf['exclude_ramp'].mean()"
   ]
  },
  {
   "cell_type": "code",
   "execution_count": null,
   "id": "8a23653a",
   "metadata": {},
   "outputs": [],
   "source": [
    "cems.groupby()"
   ]
  },
  {
   "cell_type": "code",
   "execution_count": 220,
   "id": "64b29d87",
   "metadata": {},
   "outputs": [],
   "source": [
    "cems = load_epacems(states=None, years=list(range(2015,2020)), engine='dask')"
   ]
  },
  {
   "cell_type": "code",
   "execution_count": 221,
   "id": "166e70e8",
   "metadata": {},
   "outputs": [],
   "source": [
    "cems = cems.astype({'unit_id_epa': np.int32}).groupby(by=\"unit_id_epa\", group_keys=False)[[\"plant_id_eia\", \"unitid\", \"unit_id_epa\"]].first()"
   ]
  },
  {
   "cell_type": "code",
   "execution_count": 223,
   "id": "da11f7b6",
   "metadata": {},
   "outputs": [],
   "source": [
    "%%time\n",
    "# this took a minute or two and paged to disk\n",
    "key_map = cems.compute()"
   ]
  },
  {
   "cell_type": "code",
   "execution_count": 224,
   "id": "1ac8df6e",
   "metadata": {},
   "outputs": [
    {
     "data": {
      "text/html": [
       "<div>\n",
       "<style scoped>\n",
       "    .dataframe tbody tr th:only-of-type {\n",
       "        vertical-align: middle;\n",
       "    }\n",
       "\n",
       "    .dataframe tbody tr th {\n",
       "        vertical-align: top;\n",
       "    }\n",
       "\n",
       "    .dataframe thead th {\n",
       "        text-align: right;\n",
       "    }\n",
       "</style>\n",
       "<table border=\"1\" class=\"dataframe\">\n",
       "  <thead>\n",
       "    <tr style=\"text-align: right;\">\n",
       "      <th></th>\n",
       "      <th>plant_id_eia</th>\n",
       "      <th>unitid</th>\n",
       "      <th>unit_id_epa</th>\n",
       "    </tr>\n",
       "    <tr>\n",
       "      <th>unit_id_epa</th>\n",
       "      <th></th>\n",
       "      <th></th>\n",
       "      <th></th>\n",
       "    </tr>\n",
       "  </thead>\n",
       "  <tbody>\n",
       "    <tr>\n",
       "      <th>1</th>\n",
       "      <td>3</td>\n",
       "      <td>1</td>\n",
       "      <td>1</td>\n",
       "    </tr>\n",
       "    <tr>\n",
       "      <th>2</th>\n",
       "      <td>3</td>\n",
       "      <td>2</td>\n",
       "      <td>2</td>\n",
       "    </tr>\n",
       "    <tr>\n",
       "      <th>3</th>\n",
       "      <td>3</td>\n",
       "      <td>3</td>\n",
       "      <td>3</td>\n",
       "    </tr>\n",
       "    <tr>\n",
       "      <th>4</th>\n",
       "      <td>3</td>\n",
       "      <td>4</td>\n",
       "      <td>4</td>\n",
       "    </tr>\n",
       "    <tr>\n",
       "      <th>5</th>\n",
       "      <td>3</td>\n",
       "      <td>5</td>\n",
       "      <td>5</td>\n",
       "    </tr>\n",
       "    <tr>\n",
       "      <th>...</th>\n",
       "      <td>...</td>\n",
       "      <td>...</td>\n",
       "      <td>...</td>\n",
       "    </tr>\n",
       "    <tr>\n",
       "      <th>91213</th>\n",
       "      <td>61035</td>\n",
       "      <td>01</td>\n",
       "      <td>91213</td>\n",
       "    </tr>\n",
       "    <tr>\n",
       "      <th>91311</th>\n",
       "      <td>60589</td>\n",
       "      <td>CT-2</td>\n",
       "      <td>91311</td>\n",
       "    </tr>\n",
       "    <tr>\n",
       "      <th>91228</th>\n",
       "      <td>61242</td>\n",
       "      <td>CT1</td>\n",
       "      <td>91228</td>\n",
       "    </tr>\n",
       "    <tr>\n",
       "      <th>91229</th>\n",
       "      <td>61242</td>\n",
       "      <td>CT2</td>\n",
       "      <td>91229</td>\n",
       "    </tr>\n",
       "    <tr>\n",
       "      <th>90950</th>\n",
       "      <td>880093</td>\n",
       "      <td>10D</td>\n",
       "      <td>90950</td>\n",
       "    </tr>\n",
       "  </tbody>\n",
       "</table>\n",
       "<p>4882 rows × 3 columns</p>\n",
       "</div>"
      ],
      "text/plain": [
       "             plant_id_eia unitid  unit_id_epa\n",
       "unit_id_epa                                  \n",
       "1                       3      1            1\n",
       "2                       3      2            2\n",
       "3                       3      3            3\n",
       "4                       3      4            4\n",
       "5                       3      5            5\n",
       "...                   ...    ...          ...\n",
       "91213               61035     01        91213\n",
       "91311               60589   CT-2        91311\n",
       "91228               61242    CT1        91228\n",
       "91229               61242    CT2        91229\n",
       "90950              880093    10D        90950\n",
       "\n",
       "[4882 rows x 3 columns]"
      ]
     },
     "execution_count": 224,
     "metadata": {},
     "output_type": "execute_result"
    }
   ],
   "source": [
    "key_map"
   ]
  },
  {
   "cell_type": "code",
   "execution_count": null,
   "id": "637e4c70",
   "metadata": {},
   "outputs": [],
   "source": []
  },
  {
   "cell_type": "code",
   "execution_count": 9,
   "id": "678f75e7",
   "metadata": {},
   "outputs": [],
   "source": [
    "YEARS = list(range(2015,2020))\n",
    "STATES = pudl.constants.us_states.keys()  # all states"
   ]
  },
  {
   "cell_type": "code",
   "execution_count": 238,
   "id": "6a57418a",
   "metadata": {},
   "outputs": [],
   "source": [
    "dfs = [dask.delayed(load_epacems)(states=[state], years=years, engine='pandas') for state in states]"
   ]
  },
  {
   "cell_type": "code",
   "execution_count": 239,
   "id": "81bbe70a",
   "metadata": {},
   "outputs": [],
   "source": [
    "def find_keys(df: pd.DataFrame):\n",
    "    return df.groupby(by=\"unit_id_epa\")[[\"plant_id_eia\", \"unitid\"]].first()"
   ]
  },
  {
   "cell_type": "code",
   "execution_count": 240,
   "id": "414b4563",
   "metadata": {},
   "outputs": [],
   "source": [
    "delayed_results = [dask.delayed(find_keys)(df) for df in dfs]"
   ]
  },
  {
   "cell_type": "code",
   "execution_count": 241,
   "id": "180464cd",
   "metadata": {},
   "outputs": [
    {
     "data": {
      "image/png": "[encoded data removed]",
      "text/plain": [
       "<IPython.core.display.Image object>"
      ]
     },
     "execution_count": 241,
     "metadata": {},
     "output_type": "execute_result"
    }
   ],
   "source": [
    "delayed_results[0].visualize()"
   ]
  },
  {
   "cell_type": "code",
   "execution_count": 242,
   "id": "41f4395a",
   "metadata": {},
   "outputs": [
    {
     "name": "stdout",
     "output_type": "stream",
     "text": [
      "CPU times: user 3 µs, sys: 2 µs, total: 5 µs\n",
      "Wall time: 12.9 µs\n"
     ]
    },
    {
     "name": "stderr",
     "output_type": "stream",
     "text": [
      "ERROR:root:Internal Python error in the inspect module.\n",
      "Below is the traceback from this internal error.\n",
      "\n"
     ]
    },
    {
     "name": "stdout",
     "output_type": "stream",
     "text": [
      "Traceback (most recent call last):\n",
      "  File \"/home/tpb/miniconda3/envs/pudl-ml/lib/python3.9/site-packages/IPython/core/interactiveshell.py\", line 3441, in run_code\n",
      "    exec(code_obj, self.user_global_ns, self.user_ns)\n",
      "  File \"<ipython-input-242-2ae6639f7d9b>\", line 2, in <module>\n",
      "    out = dask.compute(*delayed_results)\n",
      "  File \"/home/tpb/miniconda3/envs/pudl-ml/lib/python3.9/site-packages/dask/base.py\", line 567, in compute\n",
      "    results = schedule(dsk, keys, **kwargs)\n",
      "  File \"/home/tpb/miniconda3/envs/pudl-ml/lib/python3.9/site-packages/dask/threaded.py\", line 79, in get\n",
      "    results = get_async(\n",
      "  File \"/home/tpb/miniconda3/envs/pudl-ml/lib/python3.9/site-packages/dask/local.py\", line 503, in get_async\n",
      "    for key, res_info, failed in queue_get(queue).result():\n",
      "  File \"/home/tpb/miniconda3/envs/pudl-ml/lib/python3.9/site-packages/dask/local.py\", line 134, in queue_get\n",
      "    return q.get()\n",
      "  File \"/home/tpb/miniconda3/envs/pudl-ml/lib/python3.9/queue.py\", line 171, in get\n",
      "    self.not_empty.wait()\n",
      "  File \"/home/tpb/miniconda3/envs/pudl-ml/lib/python3.9/threading.py\", line 312, in wait\n",
      "    waiter.acquire()\n",
      "KeyboardInterrupt\n",
      "\n",
      "During handling of the above exception, another exception occurred:\n",
      "\n",
      "Traceback (most recent call last):\n",
      "  File \"/home/tpb/miniconda3/envs/pudl-ml/lib/python3.9/site-packages/IPython/core/interactiveshell.py\", line 2061, in showtraceback\n",
      "    stb = value._render_traceback_()\n",
      "AttributeError: 'KeyboardInterrupt' object has no attribute '_render_traceback_'\n",
      "\n",
      "During handling of the above exception, another exception occurred:\n",
      "\n",
      "Traceback (most recent call last):\n",
      "  File \"/home/tpb/miniconda3/envs/pudl-ml/lib/python3.9/site-packages/IPython/core/ultratb.py\", line 1101, in get_records\n",
      "    return _fixed_getinnerframes(etb, number_of_lines_of_context, tb_offset)\n",
      "  File \"/home/tpb/miniconda3/envs/pudl-ml/lib/python3.9/site-packages/IPython/core/ultratb.py\", line 248, in wrapped\n",
      "    return f(*args, **kwargs)\n",
      "  File \"/home/tpb/miniconda3/envs/pudl-ml/lib/python3.9/site-packages/IPython/core/ultratb.py\", line 281, in _fixed_getinnerframes\n",
      "    records = fix_frame_records_filenames(inspect.getinnerframes(etb, context))\n",
      "  File \"/home/tpb/miniconda3/envs/pudl-ml/lib/python3.9/inspect.py\", line 1541, in getinnerframes\n",
      "    frameinfo = (tb.tb_frame,) + getframeinfo(tb, context)\n",
      "  File \"/home/tpb/miniconda3/envs/pudl-ml/lib/python3.9/inspect.py\", line 1499, in getframeinfo\n",
      "    filename = getsourcefile(frame) or getfile(frame)\n",
      "  File \"/home/tpb/miniconda3/envs/pudl-ml/lib/python3.9/inspect.py\", line 709, in getsourcefile\n",
      "    if getattr(getmodule(object, filename), '__loader__', None) is not None:\n",
      "  File \"/home/tpb/miniconda3/envs/pudl-ml/lib/python3.9/inspect.py\", line 747, in getmodule\n",
      "    f = module.__file__\n",
      "KeyboardInterrupt\n"
     ]
    },
    {
     "ename": "TypeError",
     "evalue": "object of type 'NoneType' has no len()",
     "output_type": "error",
     "traceback": [
      "\u001b[0;31m---------------------------------------------------------------------------\u001b[0m",
      "\u001b[0;31mKeyboardInterrupt\u001b[0m                         Traceback (most recent call last)",
      "    \u001b[0;31m[... skipping hidden 1 frame]\u001b[0m\n",
      "\u001b[0;32m<ipython-input-242-2ae6639f7d9b>\u001b[0m in \u001b[0;36m<module>\u001b[0;34m\u001b[0m\n\u001b[1;32m      1\u001b[0m \u001b[0mget_ipython\u001b[0m\u001b[0;34m(\u001b[0m\u001b[0;34m)\u001b[0m\u001b[0;34m.\u001b[0m\u001b[0mrun_line_magic\u001b[0m\u001b[0;34m(\u001b[0m\u001b[0;34m'time'\u001b[0m\u001b[0;34m,\u001b[0m \u001b[0;34m''\u001b[0m\u001b[0;34m)\u001b[0m\u001b[0;34m\u001b[0m\u001b[0;34m\u001b[0m\u001b[0m\n\u001b[0;32m----> 2\u001b[0;31m \u001b[0mout\u001b[0m \u001b[0;34m=\u001b[0m \u001b[0mdask\u001b[0m\u001b[0;34m.\u001b[0m\u001b[0mcompute\u001b[0m\u001b[0;34m(\u001b[0m\u001b[0;34m*\u001b[0m\u001b[0mdelayed_results\u001b[0m\u001b[0;34m)\u001b[0m\u001b[0;34m\u001b[0m\u001b[0;34m\u001b[0m\u001b[0m\n\u001b[0m",
      "\u001b[0;32m~/miniconda3/envs/pudl-ml/lib/python3.9/site-packages/dask/base.py\u001b[0m in \u001b[0;36mcompute\u001b[0;34m(*args, **kwargs)\u001b[0m\n\u001b[1;32m    566\u001b[0m \u001b[0;34m\u001b[0m\u001b[0m\n\u001b[0;32m--> 567\u001b[0;31m     \u001b[0mresults\u001b[0m \u001b[0;34m=\u001b[0m \u001b[0mschedule\u001b[0m\u001b[0;34m(\u001b[0m\u001b[0mdsk\u001b[0m\u001b[0;34m,\u001b[0m \u001b[0mkeys\u001b[0m\u001b[0;34m,\u001b[0m \u001b[0;34m**\u001b[0m\u001b[0mkwargs\u001b[0m\u001b[0;34m)\u001b[0m\u001b[0;34m\u001b[0m\u001b[0;34m\u001b[0m\u001b[0m\n\u001b[0m\u001b[1;32m    568\u001b[0m     \u001b[0;32mreturn\u001b[0m \u001b[0mrepack\u001b[0m\u001b[0;34m(\u001b[0m\u001b[0;34m[\u001b[0m\u001b[0mf\u001b[0m\u001b[0;34m(\u001b[0m\u001b[0mr\u001b[0m\u001b[0;34m,\u001b[0m \u001b[0;34m*\u001b[0m\u001b[0ma\u001b[0m\u001b[0;34m)\u001b[0m \u001b[0;32mfor\u001b[0m \u001b[0mr\u001b[0m\u001b[0;34m,\u001b[0m \u001b[0;34m(\u001b[0m\u001b[0mf\u001b[0m\u001b[0;34m,\u001b[0m \u001b[0ma\u001b[0m\u001b[0;34m)\u001b[0m \u001b[0;32min\u001b[0m \u001b[0mzip\u001b[0m\u001b[0;34m(\u001b[0m\u001b[0mresults\u001b[0m\u001b[0;34m,\u001b[0m \u001b[0mpostcomputes\u001b[0m\u001b[0;34m)\u001b[0m\u001b[0;34m]\u001b[0m\u001b[0;34m)\u001b[0m\u001b[0;34m\u001b[0m\u001b[0;34m\u001b[0m\u001b[0m\n",
      "\u001b[0;32m~/miniconda3/envs/pudl-ml/lib/python3.9/site-packages/dask/threaded.py\u001b[0m in \u001b[0;36mget\u001b[0;34m(dsk, result, cache, num_workers, pool, **kwargs)\u001b[0m\n\u001b[1;32m     78\u001b[0m \u001b[0;34m\u001b[0m\u001b[0m\n\u001b[0;32m---> 79\u001b[0;31m     results = get_async(\n\u001b[0m\u001b[1;32m     80\u001b[0m         \u001b[0mpool\u001b[0m\u001b[0;34m.\u001b[0m\u001b[0msubmit\u001b[0m\u001b[0;34m,\u001b[0m\u001b[0;34m\u001b[0m\u001b[0;34m\u001b[0m\u001b[0m\n",
      "\u001b[0;32m~/miniconda3/envs/pudl-ml/lib/python3.9/site-packages/dask/local.py\u001b[0m in \u001b[0;36mget_async\u001b[0;34m(submit, num_workers, dsk, result, cache, get_id, rerun_exceptions_locally, pack_exception, raise_exception, callbacks, dumps, loads, chunksize, **kwargs)\u001b[0m\n\u001b[1;32m    502\u001b[0m                 \u001b[0mfire_tasks\u001b[0m\u001b[0;34m(\u001b[0m\u001b[0mchunksize\u001b[0m\u001b[0;34m)\u001b[0m\u001b[0;34m\u001b[0m\u001b[0;34m\u001b[0m\u001b[0m\n\u001b[0;32m--> 503\u001b[0;31m                 \u001b[0;32mfor\u001b[0m \u001b[0mkey\u001b[0m\u001b[0;34m,\u001b[0m \u001b[0mres_info\u001b[0m\u001b[0;34m,\u001b[0m \u001b[0mfailed\u001b[0m \u001b[0;32min\u001b[0m \u001b[0mqueue_get\u001b[0m\u001b[0;34m(\u001b[0m\u001b[0mqueue\u001b[0m\u001b[0;34m)\u001b[0m\u001b[0;34m.\u001b[0m\u001b[0mresult\u001b[0m\u001b[0;34m(\u001b[0m\u001b[0;34m)\u001b[0m\u001b[0;34m:\u001b[0m\u001b[0;34m\u001b[0m\u001b[0;34m\u001b[0m\u001b[0m\n\u001b[0m\u001b[1;32m    504\u001b[0m                     \u001b[0;32mif\u001b[0m \u001b[0mfailed\u001b[0m\u001b[0;34m:\u001b[0m\u001b[0;34m\u001b[0m\u001b[0;34m\u001b[0m\u001b[0m\n",
      "\u001b[0;32m~/miniconda3/envs/pudl-ml/lib/python3.9/site-packages/dask/local.py\u001b[0m in \u001b[0;36mqueue_get\u001b[0;34m(q)\u001b[0m\n\u001b[1;32m    133\u001b[0m     \u001b[0;32mdef\u001b[0m \u001b[0mqueue_get\u001b[0m\u001b[0;34m(\u001b[0m\u001b[0mq\u001b[0m\u001b[0;34m)\u001b[0m\u001b[0;34m:\u001b[0m\u001b[0;34m\u001b[0m\u001b[0;34m\u001b[0m\u001b[0m\n\u001b[0;32m--> 134\u001b[0;31m         \u001b[0;32mreturn\u001b[0m \u001b[0mq\u001b[0m\u001b[0;34m.\u001b[0m\u001b[0mget\u001b[0m\u001b[0;34m(\u001b[0m\u001b[0;34m)\u001b[0m\u001b[0;34m\u001b[0m\u001b[0;34m\u001b[0m\u001b[0m\n\u001b[0m\u001b[1;32m    135\u001b[0m \u001b[0;34m\u001b[0m\u001b[0m\n",
      "\u001b[0;32m~/miniconda3/envs/pudl-ml/lib/python3.9/queue.py\u001b[0m in \u001b[0;36mget\u001b[0;34m(self, block, timeout)\u001b[0m\n\u001b[1;32m    170\u001b[0m                 \u001b[0;32mwhile\u001b[0m \u001b[0;32mnot\u001b[0m \u001b[0mself\u001b[0m\u001b[0;34m.\u001b[0m\u001b[0m_qsize\u001b[0m\u001b[0;34m(\u001b[0m\u001b[0;34m)\u001b[0m\u001b[0;34m:\u001b[0m\u001b[0;34m\u001b[0m\u001b[0;34m\u001b[0m\u001b[0m\n\u001b[0;32m--> 171\u001b[0;31m                     \u001b[0mself\u001b[0m\u001b[0;34m.\u001b[0m\u001b[0mnot_empty\u001b[0m\u001b[0;34m.\u001b[0m\u001b[0mwait\u001b[0m\u001b[0;34m(\u001b[0m\u001b[0;34m)\u001b[0m\u001b[0;34m\u001b[0m\u001b[0;34m\u001b[0m\u001b[0m\n\u001b[0m\u001b[1;32m    172\u001b[0m             \u001b[0;32melif\u001b[0m \u001b[0mtimeout\u001b[0m \u001b[0;34m<\u001b[0m \u001b[0;36m0\u001b[0m\u001b[0;34m:\u001b[0m\u001b[0;34m\u001b[0m\u001b[0;34m\u001b[0m\u001b[0m\n",
      "\u001b[0;32m~/miniconda3/envs/pudl-ml/lib/python3.9/threading.py\u001b[0m in \u001b[0;36mwait\u001b[0;34m(self, timeout)\u001b[0m\n\u001b[1;32m    311\u001b[0m             \u001b[0;32mif\u001b[0m \u001b[0mtimeout\u001b[0m \u001b[0;32mis\u001b[0m \u001b[0;32mNone\u001b[0m\u001b[0;34m:\u001b[0m\u001b[0;34m\u001b[0m\u001b[0;34m\u001b[0m\u001b[0m\n\u001b[0;32m--> 312\u001b[0;31m                 \u001b[0mwaiter\u001b[0m\u001b[0;34m.\u001b[0m\u001b[0macquire\u001b[0m\u001b[0;34m(\u001b[0m\u001b[0;34m)\u001b[0m\u001b[0;34m\u001b[0m\u001b[0;34m\u001b[0m\u001b[0m\n\u001b[0m\u001b[1;32m    313\u001b[0m                 \u001b[0mgotit\u001b[0m \u001b[0;34m=\u001b[0m \u001b[0;32mTrue\u001b[0m\u001b[0;34m\u001b[0m\u001b[0;34m\u001b[0m\u001b[0m\n",
      "\u001b[0;31mKeyboardInterrupt\u001b[0m: ",
      "\nDuring handling of the above exception, another exception occurred:\n",
      "\u001b[0;31mAttributeError\u001b[0m                            Traceback (most recent call last)",
      "\u001b[0;32m~/miniconda3/envs/pudl-ml/lib/python3.9/site-packages/IPython/core/interactiveshell.py\u001b[0m in \u001b[0;36mshowtraceback\u001b[0;34m(self, exc_tuple, filename, tb_offset, exception_only, running_compiled_code)\u001b[0m\n\u001b[1;32m   2060\u001b[0m                         \u001b[0;31m# in the engines. This should return a list of strings.\u001b[0m\u001b[0;34m\u001b[0m\u001b[0;34m\u001b[0m\u001b[0;34m\u001b[0m\u001b[0m\n\u001b[0;32m-> 2061\u001b[0;31m                         \u001b[0mstb\u001b[0m \u001b[0;34m=\u001b[0m \u001b[0mvalue\u001b[0m\u001b[0;34m.\u001b[0m\u001b[0m_render_traceback_\u001b[0m\u001b[0;34m(\u001b[0m\u001b[0;34m)\u001b[0m\u001b[0;34m\u001b[0m\u001b[0;34m\u001b[0m\u001b[0m\n\u001b[0m\u001b[1;32m   2062\u001b[0m                     \u001b[0;32mexcept\u001b[0m \u001b[0mException\u001b[0m\u001b[0;34m:\u001b[0m\u001b[0;34m\u001b[0m\u001b[0;34m\u001b[0m\u001b[0m\n",
      "\u001b[0;31mAttributeError\u001b[0m: 'KeyboardInterrupt' object has no attribute '_render_traceback_'",
      "\nDuring handling of the above exception, another exception occurred:\n",
      "\u001b[0;31mTypeError\u001b[0m                                 Traceback (most recent call last)",
      "    \u001b[0;31m[... skipping hidden 1 frame]\u001b[0m\n",
      "\u001b[0;32m~/miniconda3/envs/pudl-ml/lib/python3.9/site-packages/IPython/core/interactiveshell.py\u001b[0m in \u001b[0;36mshowtraceback\u001b[0;34m(self, exc_tuple, filename, tb_offset, exception_only, running_compiled_code)\u001b[0m\n\u001b[1;32m   2061\u001b[0m                         \u001b[0mstb\u001b[0m \u001b[0;34m=\u001b[0m \u001b[0mvalue\u001b[0m\u001b[0;34m.\u001b[0m\u001b[0m_render_traceback_\u001b[0m\u001b[0;34m(\u001b[0m\u001b[0;34m)\u001b[0m\u001b[0;34m\u001b[0m\u001b[0;34m\u001b[0m\u001b[0m\n\u001b[1;32m   2062\u001b[0m                     \u001b[0;32mexcept\u001b[0m \u001b[0mException\u001b[0m\u001b[0;34m:\u001b[0m\u001b[0;34m\u001b[0m\u001b[0;34m\u001b[0m\u001b[0m\n\u001b[0;32m-> 2063\u001b[0;31m                         stb = self.InteractiveTB.structured_traceback(etype,\n\u001b[0m\u001b[1;32m   2064\u001b[0m                                             value, tb, tb_offset=tb_offset)\n\u001b[1;32m   2065\u001b[0m \u001b[0;34m\u001b[0m\u001b[0m\n",
      "\u001b[0;32m~/miniconda3/envs/pudl-ml/lib/python3.9/site-packages/IPython/core/ultratb.py\u001b[0m in \u001b[0;36mstructured_traceback\u001b[0;34m(self, etype, value, tb, tb_offset, number_of_lines_of_context)\u001b[0m\n\u001b[1;32m   1365\u001b[0m         \u001b[0;32melse\u001b[0m\u001b[0;34m:\u001b[0m\u001b[0;34m\u001b[0m\u001b[0;34m\u001b[0m\u001b[0m\n\u001b[1;32m   1366\u001b[0m             \u001b[0mself\u001b[0m\u001b[0;34m.\u001b[0m\u001b[0mtb\u001b[0m \u001b[0;34m=\u001b[0m \u001b[0mtb\u001b[0m\u001b[0;34m\u001b[0m\u001b[0;34m\u001b[0m\u001b[0m\n\u001b[0;32m-> 1367\u001b[0;31m         return FormattedTB.structured_traceback(\n\u001b[0m\u001b[1;32m   1368\u001b[0m             self, etype, value, tb, tb_offset, number_of_lines_of_context)\n\u001b[1;32m   1369\u001b[0m \u001b[0;34m\u001b[0m\u001b[0m\n",
      "\u001b[0;32m~/miniconda3/envs/pudl-ml/lib/python3.9/site-packages/IPython/core/ultratb.py\u001b[0m in \u001b[0;36mstructured_traceback\u001b[0;34m(self, etype, value, tb, tb_offset, number_of_lines_of_context)\u001b[0m\n\u001b[1;32m   1265\u001b[0m         \u001b[0;32mif\u001b[0m \u001b[0mmode\u001b[0m \u001b[0;32min\u001b[0m \u001b[0mself\u001b[0m\u001b[0;34m.\u001b[0m\u001b[0mverbose_modes\u001b[0m\u001b[0;34m:\u001b[0m\u001b[0;34m\u001b[0m\u001b[0;34m\u001b[0m\u001b[0m\n\u001b[1;32m   1266\u001b[0m             \u001b[0;31m# Verbose modes need a full traceback\u001b[0m\u001b[0;34m\u001b[0m\u001b[0;34m\u001b[0m\u001b[0;34m\u001b[0m\u001b[0m\n\u001b[0;32m-> 1267\u001b[0;31m             return VerboseTB.structured_traceback(\n\u001b[0m\u001b[1;32m   1268\u001b[0m                 \u001b[0mself\u001b[0m\u001b[0;34m,\u001b[0m \u001b[0metype\u001b[0m\u001b[0;34m,\u001b[0m \u001b[0mvalue\u001b[0m\u001b[0;34m,\u001b[0m \u001b[0mtb\u001b[0m\u001b[0;34m,\u001b[0m \u001b[0mtb_offset\u001b[0m\u001b[0;34m,\u001b[0m \u001b[0mnumber_of_lines_of_context\u001b[0m\u001b[0;34m\u001b[0m\u001b[0;34m\u001b[0m\u001b[0m\n\u001b[1;32m   1269\u001b[0m             )\n",
      "\u001b[0;32m~/miniconda3/envs/pudl-ml/lib/python3.9/site-packages/IPython/core/ultratb.py\u001b[0m in \u001b[0;36mstructured_traceback\u001b[0;34m(self, etype, evalue, etb, tb_offset, number_of_lines_of_context)\u001b[0m\n\u001b[1;32m   1122\u001b[0m         \u001b[0;34m\"\"\"Return a nice text document describing the traceback.\"\"\"\u001b[0m\u001b[0;34m\u001b[0m\u001b[0;34m\u001b[0m\u001b[0m\n\u001b[1;32m   1123\u001b[0m \u001b[0;34m\u001b[0m\u001b[0m\n\u001b[0;32m-> 1124\u001b[0;31m         formatted_exception = self.format_exception_as_a_whole(etype, evalue, etb, number_of_lines_of_context,\n\u001b[0m\u001b[1;32m   1125\u001b[0m                                                                tb_offset)\n\u001b[1;32m   1126\u001b[0m \u001b[0;34m\u001b[0m\u001b[0m\n",
      "\u001b[0;32m~/miniconda3/envs/pudl-ml/lib/python3.9/site-packages/IPython/core/ultratb.py\u001b[0m in \u001b[0;36mformat_exception_as_a_whole\u001b[0;34m(self, etype, evalue, etb, number_of_lines_of_context, tb_offset)\u001b[0m\n\u001b[1;32m   1080\u001b[0m \u001b[0;34m\u001b[0m\u001b[0m\n\u001b[1;32m   1081\u001b[0m \u001b[0;34m\u001b[0m\u001b[0m\n\u001b[0;32m-> 1082\u001b[0;31m         \u001b[0mlast_unique\u001b[0m\u001b[0;34m,\u001b[0m \u001b[0mrecursion_repeat\u001b[0m \u001b[0;34m=\u001b[0m \u001b[0mfind_recursion\u001b[0m\u001b[0;34m(\u001b[0m\u001b[0morig_etype\u001b[0m\u001b[0;34m,\u001b[0m \u001b[0mevalue\u001b[0m\u001b[0;34m,\u001b[0m \u001b[0mrecords\u001b[0m\u001b[0;34m)\u001b[0m\u001b[0;34m\u001b[0m\u001b[0;34m\u001b[0m\u001b[0m\n\u001b[0m\u001b[1;32m   1083\u001b[0m \u001b[0;34m\u001b[0m\u001b[0m\n\u001b[1;32m   1084\u001b[0m         \u001b[0mframes\u001b[0m \u001b[0;34m=\u001b[0m \u001b[0mself\u001b[0m\u001b[0;34m.\u001b[0m\u001b[0mformat_records\u001b[0m\u001b[0;34m(\u001b[0m\u001b[0mrecords\u001b[0m\u001b[0;34m,\u001b[0m \u001b[0mlast_unique\u001b[0m\u001b[0;34m,\u001b[0m \u001b[0mrecursion_repeat\u001b[0m\u001b[0;34m)\u001b[0m\u001b[0;34m\u001b[0m\u001b[0;34m\u001b[0m\u001b[0m\n",
      "\u001b[0;32m~/miniconda3/envs/pudl-ml/lib/python3.9/site-packages/IPython/core/ultratb.py\u001b[0m in \u001b[0;36mfind_recursion\u001b[0;34m(etype, value, records)\u001b[0m\n\u001b[1;32m    380\u001b[0m     \u001b[0;31m# first frame (from in to out) that looks different.\u001b[0m\u001b[0;34m\u001b[0m\u001b[0;34m\u001b[0m\u001b[0;34m\u001b[0m\u001b[0m\n\u001b[1;32m    381\u001b[0m     \u001b[0;32mif\u001b[0m \u001b[0;32mnot\u001b[0m \u001b[0mis_recursion_error\u001b[0m\u001b[0;34m(\u001b[0m\u001b[0metype\u001b[0m\u001b[0;34m,\u001b[0m \u001b[0mvalue\u001b[0m\u001b[0;34m,\u001b[0m \u001b[0mrecords\u001b[0m\u001b[0;34m)\u001b[0m\u001b[0;34m:\u001b[0m\u001b[0;34m\u001b[0m\u001b[0;34m\u001b[0m\u001b[0m\n\u001b[0;32m--> 382\u001b[0;31m         \u001b[0;32mreturn\u001b[0m \u001b[0mlen\u001b[0m\u001b[0;34m(\u001b[0m\u001b[0mrecords\u001b[0m\u001b[0;34m)\u001b[0m\u001b[0;34m,\u001b[0m \u001b[0;36m0\u001b[0m\u001b[0;34m\u001b[0m\u001b[0;34m\u001b[0m\u001b[0m\n\u001b[0m\u001b[1;32m    383\u001b[0m \u001b[0;34m\u001b[0m\u001b[0m\n\u001b[1;32m    384\u001b[0m     \u001b[0;31m# Select filename, lineno, func_name to track frames with\u001b[0m\u001b[0;34m\u001b[0m\u001b[0;34m\u001b[0m\u001b[0;34m\u001b[0m\u001b[0m\n",
      "\u001b[0;31mTypeError\u001b[0m: object of type 'NoneType' has no len()"
     ]
    }
   ],
   "source": [
    "%%time\n",
    "out = dask.compute(*delayed_results)"
   ]
  },
  {
   "cell_type": "code",
   "execution_count": 1,
   "id": "6430a5b1",
   "metadata": {},
   "outputs": [],
   "source": [
    "def find_keys2(state):\n",
    "    df = load_epacems(states=[state], years=YEARS, engine='pandas') \n",
    "    return df.groupby(by=\"unit_id_epa\")[[\"plant_id_eia\", \"unitid\"]].first()"
   ]
  },
  {
   "cell_type": "code",
   "execution_count": 7,
   "id": "30efd928",
   "metadata": {},
   "outputs": [
    {
     "data": {
      "text/html": [
       "<table style=\"border: 2px solid white;\">\n",
       "<tr>\n",
       "<td style=\"vertical-align: top; border: 0px solid white\">\n",
       "<h3 style=\"text-align: left;\">Client</h3>\n",
       "<ul style=\"text-align: left; list-style: none; margin: 0; padding: 0;\">\n",
       "  <li><b>Scheduler: </b>tcp://127.0.0.1:38527</li>\n",
       "  <li><b>Dashboard: </b><a href='http://127.0.0.1:8787/status' target='_blank'>http://127.0.0.1:8787/status</a></li>\n",
       "</ul>\n",
       "</td>\n",
       "<td style=\"vertical-align: top; border: 0px solid white\">\n",
       "<h3 style=\"text-align: left;\">Cluster</h3>\n",
       "<ul style=\"text-align: left; list-style:none; margin: 0; padding: 0;\">\n",
       "  <li><b>Workers: </b>1</li>\n",
       "  <li><b>Cores: </b>4</li>\n",
       "  <li><b>Memory: </b>18.71 GiB</li>\n",
       "</ul>\n",
       "</td>\n",
       "</tr>\n",
       "</table>"
      ],
      "text/plain": [
       "<Client: 'tcp://127.0.0.1:38527' processes=1 threads=4, memory=18.71 GiB>"
      ]
     },
     "execution_count": 7,
     "metadata": {},
     "output_type": "execute_result"
    }
   ],
   "source": [
    "from dask.distributed import Client, progress\n",
    "client = Client(threads_per_worker=4, n_workers=1)\n",
    "client"
   ]
  },
  {
   "cell_type": "code",
   "execution_count": 10,
   "id": "079f6548",
   "metadata": {},
   "outputs": [],
   "source": [
    "delayed_results = [dask.delayed(find_keys2)(state) for state in STATES]"
   ]
  },
  {
   "cell_type": "code",
   "execution_count": 11,
   "id": "9f386920",
   "metadata": {},
   "outputs": [
    {
     "data": {
      "text/plain": [
       "Delayed('find_keys2-bf397fe9-3613-4097-b5ad-8eb14599d0ec')"
      ]
     },
     "execution_count": 11,
     "metadata": {},
     "output_type": "execute_result"
    }
   ],
   "source": [
    "delayed_results[0]"
   ]
  },
  {
   "cell_type": "code",
   "execution_count": 12,
   "id": "02839fb3",
   "metadata": {},
   "outputs": [
    {
     "data": {
      "text/plain": [
       "57"
      ]
     },
     "execution_count": 12,
     "metadata": {},
     "output_type": "execute_result"
    }
   ],
   "source": [
    "len(delayed_results)"
   ]
  },
  {
   "cell_type": "code",
   "execution_count": 13,
   "id": "7bf97a0e",
   "metadata": {},
   "outputs": [
    {
     "name": "stdout",
     "output_type": "stream",
     "text": [
      "CPU times: user 3.44 s, sys: 658 ms, total: 4.1 s\n",
      "Wall time: 49.6 s\n"
     ]
    }
   ],
   "source": [
    "%%time\n",
    "out = dask.compute(*delayed_results)"
   ]
  },
  {
   "cell_type": "code",
   "execution_count": 16,
   "id": "c9ef6a40",
   "metadata": {},
   "outputs": [
    {
     "data": {
      "text/plain": [
       "4882"
      ]
     },
     "execution_count": 16,
     "metadata": {},
     "output_type": "execute_result"
    }
   ],
   "source": [
    "sum([len(df) for df in out])"
   ]
  },
  {
   "cell_type": "code",
   "execution_count": 17,
   "id": "6a0b26bd",
   "metadata": {},
   "outputs": [
    {
     "data": {
      "text/plain": [
       "(4882, 2)"
      ]
     },
     "execution_count": 17,
     "metadata": {},
     "output_type": "execute_result"
    }
   ],
   "source": [
    "key_map = pd.concat(out, axis=0, sort=True)\n",
    "key_map.shape"
   ]
  },
  {
   "cell_type": "code",
   "execution_count": 18,
   "id": "72813354",
   "metadata": {},
   "outputs": [
    {
     "data": {
      "text/plain": [
       "(4882,)"
      ]
     },
     "execution_count": 18,
     "metadata": {},
     "output_type": "execute_result"
    }
   ],
   "source": [
    "key_map.index.unique().shape"
   ]
  },
  {
   "cell_type": "markdown",
   "id": "bda12fa4",
   "metadata": {},
   "source": [
    "want to avoid set_index() if possible. Need to figure out what guarantees I can make about incoming parquet data. Is it sorted by unit_id_epa? do they cross partitions?"
   ]
  },
  {
   "cell_type": "code",
   "execution_count": 199,
   "id": "bb09d82a",
   "metadata": {},
   "outputs": [],
   "source": [
    "cems = cems.astype({'unit_id_epa': np.int32}).set_index('unit_id_epa', drop=False)"
   ]
  },
  {
   "cell_type": "code",
   "execution_count": 200,
   "id": "d979d50a",
   "metadata": {},
   "outputs": [],
   "source": [
    "cems = cems.repartition(npartitions=2)"
   ]
  },
  {
   "cell_type": "code",
   "execution_count": 194,
   "id": "c66946a3",
   "metadata": {},
   "outputs": [
    {
     "data": {
      "text/plain": [
       "(298, 45580, 90863)"
      ]
     },
     "execution_count": 194,
     "metadata": {},
     "output_type": "execute_result"
    }
   ],
   "source": [
    "cems.divisions"
   ]
  },
  {
   "cell_type": "code",
   "execution_count": 204,
   "id": "a75c488a",
   "metadata": {},
   "outputs": [],
   "source": [
    "pieces = bf._add_subcomponent_ids_and_meta(cems, crosswalk)"
   ]
  },
  {
   "cell_type": "code",
   "execution_count": 205,
   "id": "200e4ab4",
   "metadata": {},
   "outputs": [
    {
     "data": {
      "text/html": [
       "<div>\n",
       "<style scoped>\n",
       "    .dataframe tbody tr th:only-of-type {\n",
       "        vertical-align: middle;\n",
       "    }\n",
       "\n",
       "    .dataframe tbody tr th {\n",
       "        vertical-align: top;\n",
       "    }\n",
       "\n",
       "    .dataframe thead th {\n",
       "        text-align: right;\n",
       "    }\n",
       "</style>\n",
       "<table border=\"1\" class=\"dataframe\">\n",
       "  <thead>\n",
       "    <tr style=\"text-align: right;\">\n",
       "      <th></th>\n",
       "      <th>component_id</th>\n",
       "      <th>plant_id_eia</th>\n",
       "      <th>unitid</th>\n",
       "      <th>unit_id_epa</th>\n",
       "      <th>SEQUENCE_NUMBER</th>\n",
       "      <th>CAMD_STATE</th>\n",
       "      <th>CAMD_FACILITY_NAME</th>\n",
       "      <th>CAMD_PLANT_ID</th>\n",
       "      <th>CAMD_UNIT_ID</th>\n",
       "      <th>CAMD_GENERATOR_ID</th>\n",
       "      <th>...</th>\n",
       "      <th>EIA_RETIRE_YEAR</th>\n",
       "      <th>PLANT_ID_CHANGE_FLAG</th>\n",
       "      <th>MOD_EIA_PLANT_ID</th>\n",
       "      <th>MOD_EIA_BOILER_ID</th>\n",
       "      <th>MOD_EIA_GENERATOR_ID_BOILER</th>\n",
       "      <th>MOD_EIA_GENERATOR_ID_GEN</th>\n",
       "      <th>MATCH_TYPE_GEN</th>\n",
       "      <th>MATCH_TYPE_BOILER</th>\n",
       "      <th>simple_CAMD_FUEL_TYPE</th>\n",
       "      <th>simple_EIA_FUEL_TYPE</th>\n",
       "    </tr>\n",
       "  </thead>\n",
       "  <tbody>\n",
       "    <tr>\n",
       "      <th>0</th>\n",
       "      <td>0</td>\n",
       "      <td>469</td>\n",
       "      <td>4</td>\n",
       "      <td>298</td>\n",
       "      <td>263.0</td>\n",
       "      <td>CO</td>\n",
       "      <td>Cherokee</td>\n",
       "      <td>469</td>\n",
       "      <td>4</td>\n",
       "      <td>4</td>\n",
       "      <td>...</td>\n",
       "      <td>0.0</td>\n",
       "      <td>0.0</td>\n",
       "      <td>469.0</td>\n",
       "      <td>4</td>\n",
       "      <td>4</td>\n",
       "      <td>4</td>\n",
       "      <td>3_1_Generator (generators) match on plant and ...</td>\n",
       "      <td>6_1_EnviroAssoc (boilers and generators) match...</td>\n",
       "      <td>gas</td>\n",
       "      <td>gas</td>\n",
       "    </tr>\n",
       "    <tr>\n",
       "      <th>1</th>\n",
       "      <td>1</td>\n",
       "      <td>470</td>\n",
       "      <td>1</td>\n",
       "      <td>299</td>\n",
       "      <td>268.0</td>\n",
       "      <td>CO</td>\n",
       "      <td>Comanche (470)</td>\n",
       "      <td>470</td>\n",
       "      <td>1</td>\n",
       "      <td>1</td>\n",
       "      <td>...</td>\n",
       "      <td>0.0</td>\n",
       "      <td>0.0</td>\n",
       "      <td>470.0</td>\n",
       "      <td>1</td>\n",
       "      <td>1</td>\n",
       "      <td>1</td>\n",
       "      <td>3_1_Generator (generators) match on plant and ...</td>\n",
       "      <td>6_1_EnviroAssoc (boilers and generators) match...</td>\n",
       "      <td>coal</td>\n",
       "      <td>coal</td>\n",
       "    </tr>\n",
       "    <tr>\n",
       "      <th>2</th>\n",
       "      <td>2</td>\n",
       "      <td>470</td>\n",
       "      <td>2</td>\n",
       "      <td>300</td>\n",
       "      <td>269.0</td>\n",
       "      <td>CO</td>\n",
       "      <td>Comanche (470)</td>\n",
       "      <td>470</td>\n",
       "      <td>2</td>\n",
       "      <td>2</td>\n",
       "      <td>...</td>\n",
       "      <td>0.0</td>\n",
       "      <td>0.0</td>\n",
       "      <td>470.0</td>\n",
       "      <td>2</td>\n",
       "      <td>2</td>\n",
       "      <td>2</td>\n",
       "      <td>3_1_Generator (generators) match on plant and ...</td>\n",
       "      <td>6_1_EnviroAssoc (boilers and generators) match...</td>\n",
       "      <td>coal</td>\n",
       "      <td>coal</td>\n",
       "    </tr>\n",
       "  </tbody>\n",
       "</table>\n",
       "<p>3 rows × 39 columns</p>\n",
       "</div>"
      ],
      "text/plain": [
       "   component_id  plant_id_eia unitid  unit_id_epa  SEQUENCE_NUMBER CAMD_STATE  \\\n",
       "0             0           469      4          298            263.0         CO   \n",
       "1             1           470      1          299            268.0         CO   \n",
       "2             2           470      2          300            269.0         CO   \n",
       "\n",
       "  CAMD_FACILITY_NAME  CAMD_PLANT_ID CAMD_UNIT_ID CAMD_GENERATOR_ID  ...  \\\n",
       "0           Cherokee            469            4                 4  ...   \n",
       "1     Comanche (470)            470            1                 1  ...   \n",
       "2     Comanche (470)            470            2                 2  ...   \n",
       "\n",
       "   EIA_RETIRE_YEAR PLANT_ID_CHANGE_FLAG  MOD_EIA_PLANT_ID  MOD_EIA_BOILER_ID  \\\n",
       "0              0.0                  0.0             469.0                  4   \n",
       "1              0.0                  0.0             470.0                  1   \n",
       "2              0.0                  0.0             470.0                  2   \n",
       "\n",
       "  MOD_EIA_GENERATOR_ID_BOILER MOD_EIA_GENERATOR_ID_GEN  \\\n",
       "0                           4                        4   \n",
       "1                           1                        1   \n",
       "2                           2                        2   \n",
       "\n",
       "                                      MATCH_TYPE_GEN  \\\n",
       "0  3_1_Generator (generators) match on plant and ...   \n",
       "1  3_1_Generator (generators) match on plant and ...   \n",
       "2  3_1_Generator (generators) match on plant and ...   \n",
       "\n",
       "                                   MATCH_TYPE_BOILER simple_CAMD_FUEL_TYPE  \\\n",
       "0  6_1_EnviroAssoc (boilers and generators) match...                   gas   \n",
       "1  6_1_EnviroAssoc (boilers and generators) match...                  coal   \n",
       "2  6_1_EnviroAssoc (boilers and generators) match...                  coal   \n",
       "\n",
       "  simple_EIA_FUEL_TYPE  \n",
       "0                  gas  \n",
       "1                 coal  \n",
       "2                 coal  \n",
       "\n",
       "[3 rows x 39 columns]"
      ]
     },
     "execution_count": 205,
     "metadata": {},
     "output_type": "execute_result"
    }
   ],
   "source": [
    "pieces['key_map'].head(3)"
   ]
  },
  {
   "cell_type": "code",
   "execution_count": 206,
   "id": "6a1c4e5f",
   "metadata": {},
   "outputs": [
    {
     "data": {
      "text/html": [
       "<div>\n",
       "<style scoped>\n",
       "    .dataframe tbody tr th:only-of-type {\n",
       "        vertical-align: middle;\n",
       "    }\n",
       "\n",
       "    .dataframe tbody tr th {\n",
       "        vertical-align: top;\n",
       "    }\n",
       "\n",
       "    .dataframe thead th {\n",
       "        text-align: right;\n",
       "    }\n",
       "</style>\n",
       "<table border=\"1\" class=\"dataframe\">\n",
       "  <thead>\n",
       "    <tr style=\"text-align: right;\">\n",
       "      <th></th>\n",
       "      <th>EIA_UNIT_TYPE</th>\n",
       "      <th>capacity_CAMD</th>\n",
       "      <th>capacity_EIA</th>\n",
       "      <th>simple_CAMD_FUEL_TYPE_via_capacity</th>\n",
       "      <th>simple_EIA_FUEL_TYPE_via_capacity</th>\n",
       "      <th>simple_EIA_UNIT_TYPE</th>\n",
       "    </tr>\n",
       "    <tr>\n",
       "      <th>component_id</th>\n",
       "      <th></th>\n",
       "      <th></th>\n",
       "      <th></th>\n",
       "      <th></th>\n",
       "      <th></th>\n",
       "      <th></th>\n",
       "    </tr>\n",
       "  </thead>\n",
       "  <tbody>\n",
       "    <tr>\n",
       "      <th>0</th>\n",
       "      <td>(ST)</td>\n",
       "      <td>388.0</td>\n",
       "      <td>380.8</td>\n",
       "      <td>gas</td>\n",
       "      <td>gas</td>\n",
       "      <td>steam_turbine</td>\n",
       "    </tr>\n",
       "    <tr>\n",
       "      <th>1</th>\n",
       "      <td>(ST)</td>\n",
       "      <td>366.0</td>\n",
       "      <td>382.5</td>\n",
       "      <td>coal</td>\n",
       "      <td>coal</td>\n",
       "      <td>steam_turbine</td>\n",
       "    </tr>\n",
       "    <tr>\n",
       "      <th>2</th>\n",
       "      <td>(ST)</td>\n",
       "      <td>370.0</td>\n",
       "      <td>396.0</td>\n",
       "      <td>coal</td>\n",
       "      <td>coal</td>\n",
       "      <td>steam_turbine</td>\n",
       "    </tr>\n",
       "  </tbody>\n",
       "</table>\n",
       "</div>"
      ],
      "text/plain": [
       "             EIA_UNIT_TYPE  capacity_CAMD  capacity_EIA  \\\n",
       "component_id                                              \n",
       "0                     (ST)          388.0         380.8   \n",
       "1                     (ST)          366.0         382.5   \n",
       "2                     (ST)          370.0         396.0   \n",
       "\n",
       "             simple_CAMD_FUEL_TYPE_via_capacity  \\\n",
       "component_id                                      \n",
       "0                                           gas   \n",
       "1                                          coal   \n",
       "2                                          coal   \n",
       "\n",
       "             simple_EIA_FUEL_TYPE_via_capacity simple_EIA_UNIT_TYPE  \n",
       "component_id                                                         \n",
       "0                                          gas        steam_turbine  \n",
       "1                                         coal        steam_turbine  \n",
       "2                                         coal        steam_turbine  "
      ]
     },
     "execution_count": 206,
     "metadata": {},
     "output_type": "execute_result"
    }
   ],
   "source": [
    "pieces['meta'].head(3)"
   ]
  },
  {
   "cell_type": "code",
   "execution_count": 207,
   "id": "1804d39e",
   "metadata": {},
   "outputs": [
    {
     "data": {
      "text/html": [
       "<div>\n",
       "<style scoped>\n",
       "    .dataframe tbody tr th:only-of-type {\n",
       "        vertical-align: middle;\n",
       "    }\n",
       "\n",
       "    .dataframe tbody tr th {\n",
       "        vertical-align: top;\n",
       "    }\n",
       "\n",
       "    .dataframe thead th {\n",
       "        text-align: right;\n",
       "    }\n",
       "</style>\n",
       "<table border=\"1\" class=\"dataframe\">\n",
       "  <thead>\n",
       "    <tr style=\"text-align: right;\">\n",
       "      <th></th>\n",
       "      <th>plant_id_eia</th>\n",
       "      <th>unitid</th>\n",
       "      <th>operating_datetime_utc</th>\n",
       "      <th>gross_load_mw</th>\n",
       "      <th>unit_id_epa</th>\n",
       "      <th>component_id</th>\n",
       "      <th>simple_EIA_UNIT_TYPE</th>\n",
       "    </tr>\n",
       "    <tr>\n",
       "      <th>unit_id_epa</th>\n",
       "      <th></th>\n",
       "      <th></th>\n",
       "      <th></th>\n",
       "      <th></th>\n",
       "      <th></th>\n",
       "      <th></th>\n",
       "      <th></th>\n",
       "    </tr>\n",
       "  </thead>\n",
       "  <tbody>\n",
       "    <tr>\n",
       "      <th>298</th>\n",
       "      <td>469</td>\n",
       "      <td>4</td>\n",
       "      <td>2019-01-01 07:00:00+00:00</td>\n",
       "      <td>203.0</td>\n",
       "      <td>298</td>\n",
       "      <td>0</td>\n",
       "      <td>steam_turbine</td>\n",
       "    </tr>\n",
       "    <tr>\n",
       "      <th>298</th>\n",
       "      <td>469</td>\n",
       "      <td>4</td>\n",
       "      <td>2019-07-12 20:00:00+00:00</td>\n",
       "      <td>297.0</td>\n",
       "      <td>298</td>\n",
       "      <td>0</td>\n",
       "      <td>steam_turbine</td>\n",
       "    </tr>\n",
       "    <tr>\n",
       "      <th>298</th>\n",
       "      <td>469</td>\n",
       "      <td>4</td>\n",
       "      <td>2019-07-12 19:00:00+00:00</td>\n",
       "      <td>297.0</td>\n",
       "      <td>298</td>\n",
       "      <td>0</td>\n",
       "      <td>steam_turbine</td>\n",
       "    </tr>\n",
       "    <tr>\n",
       "      <th>298</th>\n",
       "      <td>469</td>\n",
       "      <td>4</td>\n",
       "      <td>2019-07-12 18:00:00+00:00</td>\n",
       "      <td>297.0</td>\n",
       "      <td>298</td>\n",
       "      <td>0</td>\n",
       "      <td>steam_turbine</td>\n",
       "    </tr>\n",
       "    <tr>\n",
       "      <th>298</th>\n",
       "      <td>469</td>\n",
       "      <td>4</td>\n",
       "      <td>2019-07-12 17:00:00+00:00</td>\n",
       "      <td>298.0</td>\n",
       "      <td>298</td>\n",
       "      <td>0</td>\n",
       "      <td>steam_turbine</td>\n",
       "    </tr>\n",
       "  </tbody>\n",
       "</table>\n",
       "</div>"
      ],
      "text/plain": [
       "             plant_id_eia unitid    operating_datetime_utc  gross_load_mw  \\\n",
       "unit_id_epa                                                                 \n",
       "298                   469      4 2019-01-01 07:00:00+00:00          203.0   \n",
       "298                   469      4 2019-07-12 20:00:00+00:00          297.0   \n",
       "298                   469      4 2019-07-12 19:00:00+00:00          297.0   \n",
       "298                   469      4 2019-07-12 18:00:00+00:00          297.0   \n",
       "298                   469      4 2019-07-12 17:00:00+00:00          298.0   \n",
       "\n",
       "             unit_id_epa  component_id simple_EIA_UNIT_TYPE  \n",
       "unit_id_epa                                                  \n",
       "298                  298             0        steam_turbine  \n",
       "298                  298             0        steam_turbine  \n",
       "298                  298             0        steam_turbine  \n",
       "298                  298             0        steam_turbine  \n",
       "298                  298             0        steam_turbine  "
      ]
     },
     "execution_count": 207,
     "metadata": {},
     "output_type": "execute_result"
    }
   ],
   "source": [
    "pieces['cems'].head()"
   ]
  },
  {
   "cell_type": "code",
   "execution_count": 208,
   "id": "c8f4932f",
   "metadata": {},
   "outputs": [
    {
     "data": {
      "text/plain": [
       "2"
      ]
     },
     "execution_count": 208,
     "metadata": {},
     "output_type": "execute_result"
    }
   ],
   "source": [
    "pieces['cems'].npartitions"
   ]
  },
  {
   "cell_type": "code",
   "execution_count": 209,
   "id": "16b978aa",
   "metadata": {},
   "outputs": [],
   "source": [
    "parts = pieces['cems'].to_delayed()"
   ]
  },
  {
   "cell_type": "code",
   "execution_count": 210,
   "id": "87cec146",
   "metadata": {},
   "outputs": [],
   "source": [
    "delayed_values = [dask.delayed(bf.process_partition)(part)\n",
    "                  for part in parts]"
   ]
  },
  {
   "cell_type": "code",
   "execution_count": 211,
   "id": "a3931b24",
   "metadata": {},
   "outputs": [],
   "source": [
    "out = dask.compute(*delayed_values)"
   ]
  },
  {
   "cell_type": "code",
   "execution_count": 214,
   "id": "134914a1",
   "metadata": {},
   "outputs": [
    {
     "data": {
      "text/plain": [
       "Int64Index([ 0,  1,  2,  3,  4,  5,  6,  7,  8,  9, 10, 11, 12, 13, 14, 15, 16,\n",
       "            17, 18, 19, 20, 21, 22, 23, 24, 25, 26, 27, 28, 29, 30, 31, 32, 33,\n",
       "            34, 35, 36, 37, 38, 39, 40, 41, 42],\n",
       "           dtype='int64', name='component_id')"
      ]
     },
     "execution_count": 214,
     "metadata": {},
     "output_type": "execute_result"
    }
   ],
   "source": [
    "out[0]['component_aggs'].index"
   ]
  },
  {
   "cell_type": "code",
   "execution_count": 187,
   "id": "cf43e7f8",
   "metadata": {},
   "outputs": [
    {
     "data": {
      "text/plain": [
       "0       299\n",
       "1       300\n",
       "2     89734\n",
       "3       310\n",
       "4       311\n",
       "      ...  \n",
       "66    90560\n",
       "67    90863\n",
       "68      298\n",
       "69    90850\n",
       "70    90851\n",
       "Name: unit_id_epa, Length: 71, dtype: int32"
      ]
     },
     "execution_count": 187,
     "metadata": {},
     "output_type": "execute_result"
    }
   ],
   "source": []
  },
  {
   "cell_type": "code",
   "execution_count": null,
   "id": "88f29201",
   "metadata": {},
   "outputs": [],
   "source": []
  }
 ],
 "metadata": {
  "kernelspec": {
   "display_name": "Python 3",
   "language": "python",
   "name": "python3"
  },
  "language_info": {
   "codemirror_mode": {
    "name": "ipython",
    "version": 3
   },
   "file_extension": ".py",
   "mimetype": "text/x-python",
   "name": "python",
   "nbconvert_exporter": "python",
   "pygments_lexer": "ipython3",
   "version": "3.9.4"
  },
  "toc": {
   "base_numbering": 1,
   "nav_menu": {},
   "number_sections": true,
   "sideBar": true,
   "skip_h1_title": false,
   "title_cell": "Table of Contents",
   "title_sidebar": "Contents",
   "toc_cell": false,
   "toc_position": {},
   "toc_section_display": true,
   "toc_window_display": false
  },
  "varInspector": {
   "cols": {
    "lenName": 16,
    "lenType": 16,
    "lenVar": 40
   },
   "kernels_config": {
    "python": {
     "delete_cmd_postfix": "",
     "delete_cmd_prefix": "del ",
     "library": "var_list.py",
     "varRefreshCmd": "print(var_dic_list())"
    },
    "r": {
     "delete_cmd_postfix": ") ",
     "delete_cmd_prefix": "rm(",
     "library": "var_list.r",
     "varRefreshCmd": "cat(var_dic_list()) "
    }
   },
   "types_to_exclude": [
    "module",
    "function",
    "builtin_function_or_method",
    "instance",
    "_Feature"
   ],
   "window_display": false
  }
 },
 "nbformat": 4,
 "nbformat_minor": 5
}
