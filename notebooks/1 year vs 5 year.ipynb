{
 "cells": [
  {
   "cell_type": "code",
   "execution_count": 1,
   "id": "fe7cb62a",
   "metadata": {},
   "outputs": [],
   "source": [
    "import pandas as pd\n",
    "import seaborn as sns\n",
    "import matplotlib.pyplot as plt"
   ]
  },
  {
   "cell_type": "code",
   "execution_count": 2,
   "id": "79a79de3",
   "metadata": {},
   "outputs": [],
   "source": [
    "from pathlib import Path"
   ]
  },
  {
   "cell_type": "code",
   "execution_count": 14,
   "id": "0634c73c",
   "metadata": {},
   "outputs": [],
   "source": [
    "agg_path = Path('../results/ramps_2019.csv')\n",
    "crosswalk_path = Path('../results/ramps_2019_crosswalk_with_IDs.csv')\n",
    "assert agg_path.exists()\n",
    "assert crosswalk_path.exists()"
   ]
  },
  {
   "cell_type": "code",
   "execution_count": 15,
   "id": "da58640c",
   "metadata": {},
   "outputs": [],
   "source": [
    "aggs = pd.read_csv(agg_path)\n",
    "crosswalk = pd.read_csv(crosswalk_path)"
   ]
  },
  {
   "cell_type": "code",
   "execution_count": 16,
   "id": "e3ecdc53",
   "metadata": {},
   "outputs": [
    {
     "data": {
      "text/html": [
       "<div>\n",
       "<style scoped>\n",
       "    .dataframe tbody tr th:only-of-type {\n",
       "        vertical-align: middle;\n",
       "    }\n",
       "\n",
       "    .dataframe tbody tr th {\n",
       "        vertical-align: top;\n",
       "    }\n",
       "\n",
       "    .dataframe thead th {\n",
       "        text-align: right;\n",
       "    }\n",
       "</style>\n",
       "<table border=\"1\" class=\"dataframe\">\n",
       "  <thead>\n",
       "    <tr style=\"text-align: right;\">\n",
       "      <th></th>\n",
       "      <th>component_id</th>\n",
       "      <th>sum_of_max_gross_load_mw</th>\n",
       "      <th>max_of_sum_gross_load_mw</th>\n",
       "      <th>max_ramp</th>\n",
       "      <th>min_ramp</th>\n",
       "      <th>idxmax_ramp</th>\n",
       "      <th>idxmin_ramp</th>\n",
       "      <th>max_abs_ramp</th>\n",
       "      <th>idxmax_abs_ramp</th>\n",
       "      <th>EIA_UNIT_TYPE</th>\n",
       "      <th>capacity_CAMD</th>\n",
       "      <th>capacity_EIA</th>\n",
       "      <th>simple_CAMD_FUEL_TYPE_via_capacity</th>\n",
       "      <th>simple_EIA_FUEL_TYPE_via_capacity</th>\n",
       "      <th>simple_EIA_UNIT_TYPE</th>\n",
       "      <th>ramp_factor_CAMD</th>\n",
       "      <th>ramp_factor_EIA</th>\n",
       "      <th>ramp_factor_sum_max</th>\n",
       "      <th>ramp_factor_max_sum</th>\n",
       "    </tr>\n",
       "  </thead>\n",
       "  <tbody>\n",
       "    <tr>\n",
       "      <th>0</th>\n",
       "      <td>0</td>\n",
       "      <td>87.0</td>\n",
       "      <td>87.0</td>\n",
       "      <td>41.0</td>\n",
       "      <td>-54.0</td>\n",
       "      <td>2019-07-17 15:00:00+00:00</td>\n",
       "      <td>2019-05-24 23:00:00+00:00</td>\n",
       "      <td>54.0</td>\n",
       "      <td>2019-05-24 23:00:00+00:00</td>\n",
       "      <td>('ST',)</td>\n",
       "      <td>153.1</td>\n",
       "      <td>153.1</td>\n",
       "      <td>gas</td>\n",
       "      <td>gas</td>\n",
       "      <td>steam_turbine</td>\n",
       "      <td>0.352711</td>\n",
       "      <td>0.352711</td>\n",
       "      <td>0.620690</td>\n",
       "      <td>0.620690</td>\n",
       "    </tr>\n",
       "    <tr>\n",
       "      <th>1</th>\n",
       "      <td>1</td>\n",
       "      <td>84.0</td>\n",
       "      <td>84.0</td>\n",
       "      <td>28.0</td>\n",
       "      <td>-74.0</td>\n",
       "      <td>2019-05-24 16:00:00+00:00</td>\n",
       "      <td>2019-05-23 22:00:00+00:00</td>\n",
       "      <td>74.0</td>\n",
       "      <td>2019-05-23 22:00:00+00:00</td>\n",
       "      <td>('ST',)</td>\n",
       "      <td>153.1</td>\n",
       "      <td>153.1</td>\n",
       "      <td>gas</td>\n",
       "      <td>gas</td>\n",
       "      <td>steam_turbine</td>\n",
       "      <td>0.483344</td>\n",
       "      <td>0.483344</td>\n",
       "      <td>0.880952</td>\n",
       "      <td>0.880952</td>\n",
       "    </tr>\n",
       "    <tr>\n",
       "      <th>2</th>\n",
       "      <td>2</td>\n",
       "      <td>382.0</td>\n",
       "      <td>382.0</td>\n",
       "      <td>181.0</td>\n",
       "      <td>-169.0</td>\n",
       "      <td>2019-08-09 20:00:00+00:00</td>\n",
       "      <td>2019-07-19 19:00:00+00:00</td>\n",
       "      <td>181.0</td>\n",
       "      <td>2019-08-09 20:00:00+00:00</td>\n",
       "      <td>('ST',)</td>\n",
       "      <td>403.8</td>\n",
       "      <td>403.7</td>\n",
       "      <td>coal</td>\n",
       "      <td>coal</td>\n",
       "      <td>steam_turbine</td>\n",
       "      <td>0.448242</td>\n",
       "      <td>0.448353</td>\n",
       "      <td>0.473822</td>\n",
       "      <td>0.473822</td>\n",
       "    </tr>\n",
       "    <tr>\n",
       "      <th>3</th>\n",
       "      <td>3</td>\n",
       "      <td>784.0</td>\n",
       "      <td>784.0</td>\n",
       "      <td>247.0</td>\n",
       "      <td>-238.0</td>\n",
       "      <td>2019-10-29 11:00:00+00:00</td>\n",
       "      <td>2019-06-05 04:00:00+00:00</td>\n",
       "      <td>247.0</td>\n",
       "      <td>2019-10-29 11:00:00+00:00</td>\n",
       "      <td>('ST',)</td>\n",
       "      <td>788.8</td>\n",
       "      <td>788.8</td>\n",
       "      <td>coal</td>\n",
       "      <td>coal</td>\n",
       "      <td>steam_turbine</td>\n",
       "      <td>0.313134</td>\n",
       "      <td>0.313134</td>\n",
       "      <td>0.315051</td>\n",
       "      <td>0.315051</td>\n",
       "    </tr>\n",
       "    <tr>\n",
       "      <th>4</th>\n",
       "      <td>4</td>\n",
       "      <td>620.0</td>\n",
       "      <td>590.0</td>\n",
       "      <td>184.0</td>\n",
       "      <td>-208.0</td>\n",
       "      <td>2019-08-13 18:00:00+00:00</td>\n",
       "      <td>2019-01-25 16:00:00+00:00</td>\n",
       "      <td>208.0</td>\n",
       "      <td>2019-01-25 16:00:00+00:00</td>\n",
       "      <td>('CA', 'CT')</td>\n",
       "      <td>361.9</td>\n",
       "      <td>535.4</td>\n",
       "      <td>gas</td>\n",
       "      <td>gas</td>\n",
       "      <td>combined_cycle</td>\n",
       "      <td>0.574744</td>\n",
       "      <td>0.388495</td>\n",
       "      <td>0.335484</td>\n",
       "      <td>0.352542</td>\n",
       "    </tr>\n",
       "  </tbody>\n",
       "</table>\n",
       "</div>"
      ],
      "text/plain": [
       "   component_id  sum_of_max_gross_load_mw  max_of_sum_gross_load_mw  max_ramp  \\\n",
       "0             0                      87.0                      87.0      41.0   \n",
       "1             1                      84.0                      84.0      28.0   \n",
       "2             2                     382.0                     382.0     181.0   \n",
       "3             3                     784.0                     784.0     247.0   \n",
       "4             4                     620.0                     590.0     184.0   \n",
       "\n",
       "   min_ramp                idxmax_ramp                idxmin_ramp  \\\n",
       "0     -54.0  2019-07-17 15:00:00+00:00  2019-05-24 23:00:00+00:00   \n",
       "1     -74.0  2019-05-24 16:00:00+00:00  2019-05-23 22:00:00+00:00   \n",
       "2    -169.0  2019-08-09 20:00:00+00:00  2019-07-19 19:00:00+00:00   \n",
       "3    -238.0  2019-10-29 11:00:00+00:00  2019-06-05 04:00:00+00:00   \n",
       "4    -208.0  2019-08-13 18:00:00+00:00  2019-01-25 16:00:00+00:00   \n",
       "\n",
       "   max_abs_ramp            idxmax_abs_ramp EIA_UNIT_TYPE  capacity_CAMD  \\\n",
       "0          54.0  2019-05-24 23:00:00+00:00       ('ST',)          153.1   \n",
       "1          74.0  2019-05-23 22:00:00+00:00       ('ST',)          153.1   \n",
       "2         181.0  2019-08-09 20:00:00+00:00       ('ST',)          403.8   \n",
       "3         247.0  2019-10-29 11:00:00+00:00       ('ST',)          788.8   \n",
       "4         208.0  2019-01-25 16:00:00+00:00  ('CA', 'CT')          361.9   \n",
       "\n",
       "   capacity_EIA simple_CAMD_FUEL_TYPE_via_capacity  \\\n",
       "0         153.1                                gas   \n",
       "1         153.1                                gas   \n",
       "2         403.7                               coal   \n",
       "3         788.8                               coal   \n",
       "4         535.4                                gas   \n",
       "\n",
       "  simple_EIA_FUEL_TYPE_via_capacity simple_EIA_UNIT_TYPE  ramp_factor_CAMD  \\\n",
       "0                               gas        steam_turbine          0.352711   \n",
       "1                               gas        steam_turbine          0.483344   \n",
       "2                              coal        steam_turbine          0.448242   \n",
       "3                              coal        steam_turbine          0.313134   \n",
       "4                               gas       combined_cycle          0.574744   \n",
       "\n",
       "   ramp_factor_EIA  ramp_factor_sum_max  ramp_factor_max_sum  \n",
       "0         0.352711             0.620690             0.620690  \n",
       "1         0.483344             0.880952             0.880952  \n",
       "2         0.448353             0.473822             0.473822  \n",
       "3         0.313134             0.315051             0.315051  \n",
       "4         0.388495             0.335484             0.352542  "
      ]
     },
     "execution_count": 16,
     "metadata": {},
     "output_type": "execute_result"
    }
   ],
   "source": [
    "aggs.head()"
   ]
  },
  {
   "cell_type": "code",
   "execution_count": 24,
   "id": "f6f547ba",
   "metadata": {},
   "outputs": [
    {
     "data": {
      "text/plain": [
       "array([[<AxesSubplot:title={'center':'combined_cycle'}>,\n",
       "        <AxesSubplot:title={'center':'gas_turbine'}>],\n",
       "       [<AxesSubplot:title={'center':'internal_combustion'}>,\n",
       "        <AxesSubplot:title={'center':'steam_turbine'}>]], dtype=object)"
      ]
     },
     "execution_count": 24,
     "metadata": {},
     "output_type": "execute_result"
    },
    {
     "data": {
      "image/png": "[encoded data removed]",
      "text/plain": [
       "<Figure size 432x288 with 4 Axes>"
      ]
     },
     "metadata": {
      "needs_background": "light"
     },
     "output_type": "display_data"
    }
   ],
   "source": [
    "aggs['ramp_factor_max_sum'].hist(bins=30, by=aggs['simple_EIA_UNIT_TYPE'])"
   ]
  },
  {
   "cell_type": "code",
   "execution_count": 37,
   "id": "74223f62",
   "metadata": {},
   "outputs": [
    {
     "data": {
      "image/png": "[encoded data removed]",
      "text/plain": [
       "<Figure size 1152x360 with 3 Axes>"
      ]
     },
     "metadata": {
      "needs_background": "light"
     },
     "output_type": "display_data"
    }
   ],
   "source": [
    "fig, axes = plt.subplots(ncols=3, sharex=True, figsize=(16,5))\n",
    "for i, unit in enumerate(aggs['simple_EIA_UNIT_TYPE'].unique()):\n",
    "    if unit == 'internal_combustion':\n",
    "        continue\n",
    "    subset = aggs.loc[aggs['simple_EIA_UNIT_TYPE'].eq(unit), 'ramp_factor_max_sum']\n",
    "    median = subset.median()\n",
    "    axes[i].hist(subset, bins=30)\n",
    "    axes[i].set_title(unit, fontsize=15)\n",
    "    axes[i].axvline(median, ls='--', c='k')\n",
    "    axes[i].annotate(f'median:\\n{median:.2f}', (0.05, 0.85), xycoords='axes fraction', fontsize=15)\n"
   ]
  },
  {
   "cell_type": "code",
   "execution_count": null,
   "id": "9edc495a",
   "metadata": {},
   "outputs": [],
   "source": []
  },
  {
   "cell_type": "code",
   "execution_count": 21,
   "id": "8ac14c7d",
   "metadata": {},
   "outputs": [
    {
     "data": {
      "text/plain": [
       "<seaborn.axisgrid.FacetGrid at 0x7fdc8062ee20>"
      ]
     },
     "execution_count": 21,
     "metadata": {},
     "output_type": "execute_result"
    },
    {
     "data": {
      "image/png": "[encoded data removed]",
      "text/plain": [
       "<Figure size 1080x360 with 3 Axes>"
      ]
     },
     "metadata": {
      "needs_background": "light"
     },
     "output_type": "display_data"
    }
   ],
   "source": [
    "# 1 year\n",
    "sns.displot(data=aggs.loc[aggs['simple_EIA_UNIT_TYPE'].ne('internal_combustion'),:], x='ramp_factor_sum_max', col='simple_EIA_UNIT_TYPE', bins=50)"
   ]
  },
  {
   "cell_type": "code",
   "execution_count": 12,
   "id": "17eb2226",
   "metadata": {},
   "outputs": [
    {
     "data": {
      "text/plain": [
       "<seaborn.axisgrid.FacetGrid at 0x7fdc75905850>"
      ]
     },
     "execution_count": 12,
     "metadata": {},
     "output_type": "execute_result"
    },
    {
     "data": {
      "image/png": "[encoded data removed]",
      "text/plain": [
       "<Figure size 1080x360 with 3 Axes>"
      ]
     },
     "metadata": {
      "needs_background": "light"
     },
     "output_type": "display_data"
    }
   ],
   "source": [
    "# 5 year\n",
    "sns.displot(data=aggs.loc[aggs['simple_EIA_UNIT_TYPE'].ne('internal_combustion'),:], x='ramp_factor_sum_max', col='simple_EIA_UNIT_TYPE', bins=50)"
   ]
  },
  {
   "cell_type": "code",
   "execution_count": 18,
   "id": "499df55a",
   "metadata": {},
   "outputs": [
    {
     "data": {
      "text/html": [
       "<div>\n",
       "<style scoped>\n",
       "    .dataframe tbody tr th:only-of-type {\n",
       "        vertical-align: middle;\n",
       "    }\n",
       "\n",
       "    .dataframe tbody tr th {\n",
       "        vertical-align: top;\n",
       "    }\n",
       "\n",
       "    .dataframe thead th {\n",
       "        text-align: right;\n",
       "    }\n",
       "</style>\n",
       "<table border=\"1\" class=\"dataframe\">\n",
       "  <thead>\n",
       "    <tr style=\"text-align: right;\">\n",
       "      <th></th>\n",
       "      <th>count</th>\n",
       "      <th>mean</th>\n",
       "      <th>std</th>\n",
       "      <th>min</th>\n",
       "      <th>25%</th>\n",
       "      <th>50%</th>\n",
       "      <th>75%</th>\n",
       "      <th>max</th>\n",
       "    </tr>\n",
       "    <tr>\n",
       "      <th>simple_EIA_UNIT_TYPE</th>\n",
       "      <th></th>\n",
       "      <th></th>\n",
       "      <th></th>\n",
       "      <th></th>\n",
       "      <th></th>\n",
       "      <th></th>\n",
       "      <th></th>\n",
       "      <th></th>\n",
       "    </tr>\n",
       "  </thead>\n",
       "  <tbody>\n",
       "    <tr>\n",
       "      <th>combined_cycle</th>\n",
       "      <td>606.0</td>\n",
       "      <td>0.347507</td>\n",
       "      <td>0.164115</td>\n",
       "      <td>0.000000</td>\n",
       "      <td>0.254880</td>\n",
       "      <td>0.344024</td>\n",
       "      <td>0.426124</td>\n",
       "      <td>0.956229</td>\n",
       "    </tr>\n",
       "    <tr>\n",
       "      <th>gas_turbine</th>\n",
       "      <td>1664.0</td>\n",
       "      <td>0.888563</td>\n",
       "      <td>0.085091</td>\n",
       "      <td>0.448485</td>\n",
       "      <td>0.841945</td>\n",
       "      <td>0.898979</td>\n",
       "      <td>0.953125</td>\n",
       "      <td>1.000000</td>\n",
       "    </tr>\n",
       "    <tr>\n",
       "      <th>internal_combustion</th>\n",
       "      <td>3.0</td>\n",
       "      <td>0.932125</td>\n",
       "      <td>0.010431</td>\n",
       "      <td>0.925743</td>\n",
       "      <td>0.926107</td>\n",
       "      <td>0.926471</td>\n",
       "      <td>0.935317</td>\n",
       "      <td>0.944162</td>\n",
       "    </tr>\n",
       "    <tr>\n",
       "      <th>steam_turbine</th>\n",
       "      <td>798.0</td>\n",
       "      <td>0.428239</td>\n",
       "      <td>0.159723</td>\n",
       "      <td>0.000000</td>\n",
       "      <td>0.335494</td>\n",
       "      <td>0.408209</td>\n",
       "      <td>0.521556</td>\n",
       "      <td>0.991453</td>\n",
       "    </tr>\n",
       "  </tbody>\n",
       "</table>\n",
       "</div>"
      ],
      "text/plain": [
       "                       count      mean       std       min       25%  \\\n",
       "simple_EIA_UNIT_TYPE                                                   \n",
       "combined_cycle         606.0  0.347507  0.164115  0.000000  0.254880   \n",
       "gas_turbine           1664.0  0.888563  0.085091  0.448485  0.841945   \n",
       "internal_combustion      3.0  0.932125  0.010431  0.925743  0.926107   \n",
       "steam_turbine          798.0  0.428239  0.159723  0.000000  0.335494   \n",
       "\n",
       "                           50%       75%       max  \n",
       "simple_EIA_UNIT_TYPE                                \n",
       "combined_cycle        0.344024  0.426124  0.956229  \n",
       "gas_turbine           0.898979  0.953125  1.000000  \n",
       "internal_combustion   0.926471  0.935317  0.944162  \n",
       "steam_turbine         0.408209  0.521556  0.991453  "
      ]
     },
     "execution_count": 18,
     "metadata": {},
     "output_type": "execute_result"
    }
   ],
   "source": [
    "# 1 year\n",
    "aggs.groupby('simple_EIA_UNIT_TYPE')['ramp_factor_sum_max'].describe()"
   ]
  },
  {
   "cell_type": "code",
   "execution_count": 13,
   "id": "986578d0",
   "metadata": {},
   "outputs": [
    {
     "data": {
      "text/html": [
       "<div>\n",
       "<style scoped>\n",
       "    .dataframe tbody tr th:only-of-type {\n",
       "        vertical-align: middle;\n",
       "    }\n",
       "\n",
       "    .dataframe tbody tr th {\n",
       "        vertical-align: top;\n",
       "    }\n",
       "\n",
       "    .dataframe thead th {\n",
       "        text-align: right;\n",
       "    }\n",
       "</style>\n",
       "<table border=\"1\" class=\"dataframe\">\n",
       "  <thead>\n",
       "    <tr style=\"text-align: right;\">\n",
       "      <th></th>\n",
       "      <th>count</th>\n",
       "      <th>mean</th>\n",
       "      <th>std</th>\n",
       "      <th>min</th>\n",
       "      <th>25%</th>\n",
       "      <th>50%</th>\n",
       "      <th>75%</th>\n",
       "      <th>max</th>\n",
       "    </tr>\n",
       "    <tr>\n",
       "      <th>simple_EIA_UNIT_TYPE</th>\n",
       "      <th></th>\n",
       "      <th></th>\n",
       "      <th></th>\n",
       "      <th></th>\n",
       "      <th></th>\n",
       "      <th></th>\n",
       "      <th></th>\n",
       "      <th></th>\n",
       "    </tr>\n",
       "  </thead>\n",
       "  <tbody>\n",
       "    <tr>\n",
       "      <th>combined_cycle</th>\n",
       "      <td>615.0</td>\n",
       "      <td>0.465772</td>\n",
       "      <td>0.178190</td>\n",
       "      <td>0.000000</td>\n",
       "      <td>0.351523</td>\n",
       "      <td>0.447699</td>\n",
       "      <td>0.568173</td>\n",
       "      <td>0.953020</td>\n",
       "    </tr>\n",
       "    <tr>\n",
       "      <th>gas_turbine</th>\n",
       "      <td>1822.0</td>\n",
       "      <td>0.913164</td>\n",
       "      <td>0.068967</td>\n",
       "      <td>0.575758</td>\n",
       "      <td>0.869031</td>\n",
       "      <td>0.920635</td>\n",
       "      <td>0.967610</td>\n",
       "      <td>1.000000</td>\n",
       "    </tr>\n",
       "    <tr>\n",
       "      <th>internal_combustion</th>\n",
       "      <td>3.0</td>\n",
       "      <td>0.977346</td>\n",
       "      <td>0.019620</td>\n",
       "      <td>0.965854</td>\n",
       "      <td>0.966019</td>\n",
       "      <td>0.966184</td>\n",
       "      <td>0.983092</td>\n",
       "      <td>1.000000</td>\n",
       "    </tr>\n",
       "    <tr>\n",
       "      <th>steam_turbine</th>\n",
       "      <td>1058.0</td>\n",
       "      <td>0.538083</td>\n",
       "      <td>0.185827</td>\n",
       "      <td>0.000000</td>\n",
       "      <td>0.408989</td>\n",
       "      <td>0.506199</td>\n",
       "      <td>0.641546</td>\n",
       "      <td>0.996337</td>\n",
       "    </tr>\n",
       "  </tbody>\n",
       "</table>\n",
       "</div>"
      ],
      "text/plain": [
       "                       count      mean       std       min       25%  \\\n",
       "simple_EIA_UNIT_TYPE                                                   \n",
       "combined_cycle         615.0  0.465772  0.178190  0.000000  0.351523   \n",
       "gas_turbine           1822.0  0.913164  0.068967  0.575758  0.869031   \n",
       "internal_combustion      3.0  0.977346  0.019620  0.965854  0.966019   \n",
       "steam_turbine         1058.0  0.538083  0.185827  0.000000  0.408989   \n",
       "\n",
       "                           50%       75%       max  \n",
       "simple_EIA_UNIT_TYPE                                \n",
       "combined_cycle        0.447699  0.568173  0.953020  \n",
       "gas_turbine           0.920635  0.967610  1.000000  \n",
       "internal_combustion   0.966184  0.983092  1.000000  \n",
       "steam_turbine         0.506199  0.641546  0.996337  "
      ]
     },
     "execution_count": 13,
     "metadata": {},
     "output_type": "execute_result"
    }
   ],
   "source": [
    "# 5 year\n",
    "aggs.groupby('simple_EIA_UNIT_TYPE')['ramp_factor_sum_max'].describe()"
   ]
  },
  {
   "cell_type": "code",
   "execution_count": null,
   "id": "a6773aed",
   "metadata": {},
   "outputs": [],
   "source": []
  }
 ],
 "metadata": {
  "kernelspec": {
   "display_name": "Python 3",
   "language": "python",
   "name": "python3"
  },
  "language_info": {
   "codemirror_mode": {
    "name": "ipython",
    "version": 3
   },
   "file_extension": ".py",
   "mimetype": "text/x-python",
   "name": "python",
   "nbconvert_exporter": "python",
   "pygments_lexer": "ipython3",
   "version": "3.9.4"
  },
  "toc": {
   "base_numbering": 1,
   "nav_menu": {},
   "number_sections": true,
   "sideBar": true,
   "skip_h1_title": false,
   "title_cell": "Table of Contents",
   "title_sidebar": "Contents",
   "toc_cell": false,
   "toc_position": {},
   "toc_section_display": true,
   "toc_window_display": false
  },
  "varInspector": {
   "cols": {
    "lenName": 16,
    "lenType": 16,
    "lenVar": 40
   },
   "kernels_config": {
    "python": {
     "delete_cmd_postfix": "",
     "delete_cmd_prefix": "del ",
     "library": "var_list.py",
     "varRefreshCmd": "print(var_dic_list())"
    },
    "r": {
     "delete_cmd_postfix": ") ",
     "delete_cmd_prefix": "rm(",
     "library": "var_list.r",
     "varRefreshCmd": "cat(var_dic_list()) "
    }
   },
   "types_to_exclude": [
    "module",
    "function",
    "builtin_function_or_method",
    "instance",
    "_Feature"
   ],
   "window_display": false
  }
 },
 "nbformat": 4,
 "nbformat_minor": 5
}
