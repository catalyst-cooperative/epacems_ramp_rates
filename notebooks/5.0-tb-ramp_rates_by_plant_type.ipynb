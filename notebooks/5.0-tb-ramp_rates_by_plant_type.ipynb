{
 "cells": [
  {
   "cell_type": "markdown",
   "id": "6d7d6d8d",
   "metadata": {},
   "source": [
    "# "
   ]
  },
  {
   "cell_type": "code",
   "execution_count": 1,
   "id": "1b98a7e7",
   "metadata": {},
   "outputs": [],
   "source": [
    "%load_ext autoreload\n",
    "%autoreload 2"
   ]
  },
  {
   "cell_type": "code",
   "execution_count": 2,
   "id": "c57b6d67",
   "metadata": {},
   "outputs": [],
   "source": [
    "from src.data.load_dataset import load_epacems, load_epa_crosswalk\n",
    "from src.features.build_features import uptime_events, calc_distance_from_downtime\n",
    "import pandas as pd\n",
    "import numpy as np\n",
    "import matplotlib.pyplot as plt\n",
    "import seaborn as sns"
   ]
  },
  {
   "cell_type": "markdown",
   "id": "127aa580",
   "metadata": {
    "heading_collapsed": true
   },
   "source": [
    "## CEMS Processing"
   ]
  },
  {
   "cell_type": "code",
   "execution_count": 3,
   "id": "7ae41820",
   "metadata": {
    "hidden": true
   },
   "outputs": [],
   "source": [
    "# all states, 1 year\n",
    "cols = ['plant_id_eia', 'unitid', 'operating_datetime_utc',\n",
    "        'operating_time_hours', 'gross_load_mw', 'steam_load_1000_lbs',\n",
    "        'heat_content_mmbtu', 'unit_id_epa',\n",
    "       ]\n",
    "cems = load_epacems(states=None, years=[2019], columns=cols, engine='pandas')"
   ]
  },
  {
   "cell_type": "code",
   "execution_count": 4,
   "id": "fcb0039d",
   "metadata": {
    "hidden": true
   },
   "outputs": [
    {
     "name": "stdout",
     "output_type": "stream",
     "text": [
      "CPU times: user 17.3 s, sys: 4.6 s, total: 21.9 s\n",
      "Wall time: 22.2 s\n"
     ]
    }
   ],
   "source": [
    "%%time\n",
    "idx = pd.IndexSlice\n",
    "cems.sort_values(by=['unit_id_epa', 'operating_datetime_utc'], inplace=True)\n",
    "cems.set_index(['unit_id_epa', 'operating_datetime_utc'], drop=False, inplace=True)#, verify_integrity=True)"
   ]
  },
  {
   "cell_type": "markdown",
   "id": "372ed9f0",
   "metadata": {
    "hidden": true
   },
   "source": [
    "### Calculate ramps and distance from downtime"
   ]
  },
  {
   "cell_type": "code",
   "execution_count": 5,
   "id": "45b203e1",
   "metadata": {
    "hidden": true
   },
   "outputs": [
    {
     "name": "stdout",
     "output_type": "stream",
     "text": [
      "CPU times: user 20.3 s, sys: 4.14 s, total: 24.4 s\n",
      "Wall time: 24.1 s\n",
      "\n"
     ]
    }
   ],
   "source": [
    "%time calc_distance_from_downtime(cems) # in place\n",
    "print('')"
   ]
  },
  {
   "cell_type": "code",
   "execution_count": 6,
   "id": "51f4f91b",
   "metadata": {
    "hidden": true,
    "scrolled": true
   },
   "outputs": [],
   "source": [
    "units = cems.groupby(level=\"unit_id_epa\")\n",
    "# ramp rate: MW / hour\n",
    "cems['ramp_rate'] = units[\"gross_load_mw\"].transform(lambda x: x.diff())"
   ]
  },
  {
   "cell_type": "code",
   "execution_count": 7,
   "id": "8c3df8b6",
   "metadata": {
    "hidden": true,
    "scrolled": true
   },
   "outputs": [
    {
     "data": {
      "text/html": [
       "<div>\n",
       "<style scoped>\n",
       "    .dataframe tbody tr th:only-of-type {\n",
       "        vertical-align: middle;\n",
       "    }\n",
       "\n",
       "    .dataframe tbody tr th {\n",
       "        vertical-align: top;\n",
       "    }\n",
       "\n",
       "    .dataframe thead th {\n",
       "        text-align: right;\n",
       "    }\n",
       "</style>\n",
       "<table border=\"1\" class=\"dataframe\">\n",
       "  <thead>\n",
       "    <tr style=\"text-align: right;\">\n",
       "      <th></th>\n",
       "      <th></th>\n",
       "      <th>plant_id_eia</th>\n",
       "      <th>unitid</th>\n",
       "      <th>operating_datetime_utc</th>\n",
       "      <th>operating_time_hours</th>\n",
       "      <th>gross_load_mw</th>\n",
       "      <th>steam_load_1000_lbs</th>\n",
       "      <th>heat_content_mmbtu</th>\n",
       "      <th>unit_id_epa</th>\n",
       "      <th>hours_from_startup</th>\n",
       "      <th>hours_to_shutdown</th>\n",
       "      <th>ramp_rate</th>\n",
       "    </tr>\n",
       "    <tr>\n",
       "      <th>unit_id_epa</th>\n",
       "      <th>operating_datetime_utc</th>\n",
       "      <th></th>\n",
       "      <th></th>\n",
       "      <th></th>\n",
       "      <th></th>\n",
       "      <th></th>\n",
       "      <th></th>\n",
       "      <th></th>\n",
       "      <th></th>\n",
       "      <th></th>\n",
       "      <th></th>\n",
       "      <th></th>\n",
       "    </tr>\n",
       "  </thead>\n",
       "  <tbody>\n",
       "    <tr>\n",
       "      <th rowspan=\"5\" valign=\"top\">1</th>\n",
       "      <th>2019-01-01 06:00:00+00:00</th>\n",
       "      <td>3</td>\n",
       "      <td>1</td>\n",
       "      <td>2019-01-01 06:00:00+00:00</td>\n",
       "      <td>0.0</td>\n",
       "      <td>0.0</td>\n",
       "      <td>NaN</td>\n",
       "      <td>0.0</td>\n",
       "      <td>1</td>\n",
       "      <td>24.0</td>\n",
       "      <td>1467.0</td>\n",
       "      <td>NaN</td>\n",
       "    </tr>\n",
       "    <tr>\n",
       "      <th>2019-01-01 07:00:00+00:00</th>\n",
       "      <td>3</td>\n",
       "      <td>1</td>\n",
       "      <td>2019-01-01 07:00:00+00:00</td>\n",
       "      <td>0.0</td>\n",
       "      <td>0.0</td>\n",
       "      <td>NaN</td>\n",
       "      <td>0.0</td>\n",
       "      <td>1</td>\n",
       "      <td>25.0</td>\n",
       "      <td>1466.0</td>\n",
       "      <td>0.0</td>\n",
       "    </tr>\n",
       "    <tr>\n",
       "      <th>2019-01-01 08:00:00+00:00</th>\n",
       "      <td>3</td>\n",
       "      <td>1</td>\n",
       "      <td>2019-01-01 08:00:00+00:00</td>\n",
       "      <td>0.0</td>\n",
       "      <td>0.0</td>\n",
       "      <td>NaN</td>\n",
       "      <td>0.0</td>\n",
       "      <td>1</td>\n",
       "      <td>26.0</td>\n",
       "      <td>1465.0</td>\n",
       "      <td>0.0</td>\n",
       "    </tr>\n",
       "    <tr>\n",
       "      <th>2019-01-01 09:00:00+00:00</th>\n",
       "      <td>3</td>\n",
       "      <td>1</td>\n",
       "      <td>2019-01-01 09:00:00+00:00</td>\n",
       "      <td>0.0</td>\n",
       "      <td>0.0</td>\n",
       "      <td>NaN</td>\n",
       "      <td>0.0</td>\n",
       "      <td>1</td>\n",
       "      <td>27.0</td>\n",
       "      <td>1464.0</td>\n",
       "      <td>0.0</td>\n",
       "    </tr>\n",
       "    <tr>\n",
       "      <th>2019-01-01 10:00:00+00:00</th>\n",
       "      <td>3</td>\n",
       "      <td>1</td>\n",
       "      <td>2019-01-01 10:00:00+00:00</td>\n",
       "      <td>0.0</td>\n",
       "      <td>0.0</td>\n",
       "      <td>NaN</td>\n",
       "      <td>0.0</td>\n",
       "      <td>1</td>\n",
       "      <td>28.0</td>\n",
       "      <td>1463.0</td>\n",
       "      <td>0.0</td>\n",
       "    </tr>\n",
       "  </tbody>\n",
       "</table>\n",
       "</div>"
      ],
      "text/plain": [
       "                                       plant_id_eia unitid  \\\n",
       "unit_id_epa operating_datetime_utc                           \n",
       "1           2019-01-01 06:00:00+00:00             3      1   \n",
       "            2019-01-01 07:00:00+00:00             3      1   \n",
       "            2019-01-01 08:00:00+00:00             3      1   \n",
       "            2019-01-01 09:00:00+00:00             3      1   \n",
       "            2019-01-01 10:00:00+00:00             3      1   \n",
       "\n",
       "                                         operating_datetime_utc  \\\n",
       "unit_id_epa operating_datetime_utc                                \n",
       "1           2019-01-01 06:00:00+00:00 2019-01-01 06:00:00+00:00   \n",
       "            2019-01-01 07:00:00+00:00 2019-01-01 07:00:00+00:00   \n",
       "            2019-01-01 08:00:00+00:00 2019-01-01 08:00:00+00:00   \n",
       "            2019-01-01 09:00:00+00:00 2019-01-01 09:00:00+00:00   \n",
       "            2019-01-01 10:00:00+00:00 2019-01-01 10:00:00+00:00   \n",
       "\n",
       "                                       operating_time_hours  gross_load_mw  \\\n",
       "unit_id_epa operating_datetime_utc                                           \n",
       "1           2019-01-01 06:00:00+00:00                   0.0            0.0   \n",
       "            2019-01-01 07:00:00+00:00                   0.0            0.0   \n",
       "            2019-01-01 08:00:00+00:00                   0.0            0.0   \n",
       "            2019-01-01 09:00:00+00:00                   0.0            0.0   \n",
       "            2019-01-01 10:00:00+00:00                   0.0            0.0   \n",
       "\n",
       "                                       steam_load_1000_lbs  \\\n",
       "unit_id_epa operating_datetime_utc                           \n",
       "1           2019-01-01 06:00:00+00:00                  NaN   \n",
       "            2019-01-01 07:00:00+00:00                  NaN   \n",
       "            2019-01-01 08:00:00+00:00                  NaN   \n",
       "            2019-01-01 09:00:00+00:00                  NaN   \n",
       "            2019-01-01 10:00:00+00:00                  NaN   \n",
       "\n",
       "                                       heat_content_mmbtu  unit_id_epa  \\\n",
       "unit_id_epa operating_datetime_utc                                       \n",
       "1           2019-01-01 06:00:00+00:00                 0.0            1   \n",
       "            2019-01-01 07:00:00+00:00                 0.0            1   \n",
       "            2019-01-01 08:00:00+00:00                 0.0            1   \n",
       "            2019-01-01 09:00:00+00:00                 0.0            1   \n",
       "            2019-01-01 10:00:00+00:00                 0.0            1   \n",
       "\n",
       "                                       hours_from_startup  hours_to_shutdown  \\\n",
       "unit_id_epa operating_datetime_utc                                             \n",
       "1           2019-01-01 06:00:00+00:00                24.0             1467.0   \n",
       "            2019-01-01 07:00:00+00:00                25.0             1466.0   \n",
       "            2019-01-01 08:00:00+00:00                26.0             1465.0   \n",
       "            2019-01-01 09:00:00+00:00                27.0             1464.0   \n",
       "            2019-01-01 10:00:00+00:00                28.0             1463.0   \n",
       "\n",
       "                                       ramp_rate  \n",
       "unit_id_epa operating_datetime_utc                \n",
       "1           2019-01-01 06:00:00+00:00        NaN  \n",
       "            2019-01-01 07:00:00+00:00        0.0  \n",
       "            2019-01-01 08:00:00+00:00        0.0  \n",
       "            2019-01-01 09:00:00+00:00        0.0  \n",
       "            2019-01-01 10:00:00+00:00        0.0  "
      ]
     },
     "execution_count": 7,
     "metadata": {},
     "output_type": "execute_result"
    }
   ],
   "source": [
    "cems.head()"
   ]
  },
  {
   "cell_type": "code",
   "execution_count": 8,
   "id": "d25c1584",
   "metadata": {
    "hidden": true
   },
   "outputs": [],
   "source": [
    "cems['hours_distance'] = (cems[['hours_from_startup', 'hours_to_shutdown']].min(axis=1))"
   ]
  },
  {
   "cell_type": "code",
   "execution_count": 9,
   "id": "8380ef5e",
   "metadata": {
    "hidden": true
   },
   "outputs": [],
   "source": [
    "cems['nearest_to_startup'] = cems['hours_from_startup'] < cems['hours_to_shutdown']\n",
    "# randomly allocate midpoints\n",
    "rng = np.random.default_rng(seed=42)\n",
    "rand_midpoints = (cems['hours_from_startup'] == cems['hours_to_shutdown']) & rng.choice(np.array([True, False]), size=len(cems))\n",
    "cems.loc[rand_midpoints, 'is_startup'] = True\n",
    "del rand_midpoints"
   ]
  },
  {
   "cell_type": "markdown",
   "id": "e9124d54",
   "metadata": {},
   "source": [
    "## Aggregate"
   ]
  },
  {
   "cell_type": "markdown",
   "id": "b5c8f1ae",
   "metadata": {},
   "source": [
    "### Max ramp rates"
   ]
  },
  {
   "cell_type": "code",
   "execution_count": 10,
   "id": "91401346",
   "metadata": {},
   "outputs": [],
   "source": [
    "cems['hours_distance_clipped'] = cems['hours_distance'].clip(upper=10) # threshold"
   ]
  },
  {
   "cell_type": "code",
   "execution_count": 11,
   "id": "9cbb485b",
   "metadata": {},
   "outputs": [],
   "source": [
    "max_ramps = (cems.drop(columns=['unit_id_epa']) # resolve ambiguity between index and col with same name\n",
    "             .groupby(['unit_id_epa', 'hours_distance_clipped', 'nearest_to_startup'])['ramp_rate']\n",
    "             .agg(['max', 'min'])\n",
    "             .add_suffix('_ramp_rate')\n",
    "            )"
   ]
  },
  {
   "cell_type": "code",
   "execution_count": 12,
   "id": "76dc2493",
   "metadata": {},
   "outputs": [],
   "source": [
    "max_ramps['abs_max_ramps'] = max_ramps[['max_ramp_rate', 'min_ramp_rate']].abs().max(axis=1)"
   ]
  },
  {
   "cell_type": "markdown",
   "id": "6534350c",
   "metadata": {},
   "source": [
    "### Other aggregates\n",
    "#### Per-unit metrics"
   ]
  },
  {
   "cell_type": "code",
   "execution_count": 13,
   "id": "c4cfa122",
   "metadata": {},
   "outputs": [],
   "source": [
    "per_unit_aggs = cems.groupby(level='unit_id_epa')['gross_load_mw'].agg(['max', 'count', 'sum']).add_suffix('_load')"
   ]
  },
  {
   "cell_type": "code",
   "execution_count": 14,
   "id": "97a5cdf0",
   "metadata": {},
   "outputs": [],
   "source": [
    "per_unit_aggs['utilization'] = cems['gross_load_mw'].gt(0).groupby(level='unit_id_epa').mean()\n",
    "per_unit_aggs['capacity_factor'] = per_unit_aggs['sum_load'].div(per_unit_aggs['max_load'] * per_unit_aggs['count_load'])"
   ]
  },
  {
   "cell_type": "markdown",
   "id": "e324a208",
   "metadata": {},
   "source": [
    "#### uptime event analysis\n",
    "Summary stats about the distribution of uptime events can help distinguish different types of plant operation"
   ]
  },
  {
   "cell_type": "code",
   "execution_count": 15,
   "id": "9bf17381",
   "metadata": {},
   "outputs": [
    {
     "name": "stdout",
     "output_type": "stream",
     "text": [
      "CPU times: user 27.9 s, sys: 2.42 s, total: 30.3 s\n",
      "Wall time: 30.4 s\n"
     ]
    }
   ],
   "source": [
    "%time events = uptime_events(cems)"
   ]
  },
  {
   "cell_type": "code",
   "execution_count": 16,
   "id": "4b1fe3b0",
   "metadata": {},
   "outputs": [
    {
     "data": {
      "text/html": [
       "<div>\n",
       "<style scoped>\n",
       "    .dataframe tbody tr th:only-of-type {\n",
       "        vertical-align: middle;\n",
       "    }\n",
       "\n",
       "    .dataframe tbody tr th {\n",
       "        vertical-align: top;\n",
       "    }\n",
       "\n",
       "    .dataframe thead th {\n",
       "        text-align: right;\n",
       "    }\n",
       "</style>\n",
       "<table border=\"1\" class=\"dataframe\">\n",
       "  <thead>\n",
       "    <tr style=\"text-align: right;\">\n",
       "      <th></th>\n",
       "      <th></th>\n",
       "      <th>startup</th>\n",
       "      <th>shutdown</th>\n",
       "      <th>duration_hours</th>\n",
       "    </tr>\n",
       "    <tr>\n",
       "      <th>unit_id_epa</th>\n",
       "      <th>event</th>\n",
       "      <th></th>\n",
       "      <th></th>\n",
       "      <th></th>\n",
       "    </tr>\n",
       "  </thead>\n",
       "  <tbody>\n",
       "    <tr>\n",
       "      <th>432</th>\n",
       "      <th>150</th>\n",
       "      <td>2019-11-24 12:00:00+00:00</td>\n",
       "      <td>2019-11-25 06:00:00+00:00</td>\n",
       "      <td>18.0</td>\n",
       "    </tr>\n",
       "    <tr>\n",
       "      <th>89579</th>\n",
       "      <th>56</th>\n",
       "      <td>2019-08-21 18:00:00+00:00</td>\n",
       "      <td>2019-08-22 06:00:00+00:00</td>\n",
       "      <td>12.0</td>\n",
       "    </tr>\n",
       "    <tr>\n",
       "      <th>1771</th>\n",
       "      <th>244</th>\n",
       "      <td>2019-10-07 08:00:00+00:00</td>\n",
       "      <td>2019-10-08 05:00:00+00:00</td>\n",
       "      <td>21.0</td>\n",
       "    </tr>\n",
       "  </tbody>\n",
       "</table>\n",
       "</div>"
      ],
      "text/plain": [
       "                                    startup                  shutdown  \\\n",
       "unit_id_epa event                                                       \n",
       "432         150   2019-11-24 12:00:00+00:00 2019-11-25 06:00:00+00:00   \n",
       "89579       56    2019-08-21 18:00:00+00:00 2019-08-22 06:00:00+00:00   \n",
       "1771        244   2019-10-07 08:00:00+00:00 2019-10-08 05:00:00+00:00   \n",
       "\n",
       "                   duration_hours  \n",
       "unit_id_epa event                  \n",
       "432         150              18.0  \n",
       "89579       56               12.0  \n",
       "1771        244              21.0  "
      ]
     },
     "execution_count": 16,
     "metadata": {},
     "output_type": "execute_result"
    }
   ],
   "source": [
    "events.sample(3)"
   ]
  },
  {
   "cell_type": "code",
   "execution_count": 17,
   "id": "e6095784",
   "metadata": {},
   "outputs": [],
   "source": [
    "uptime_aggs = (events['duration_hours'].groupby(level='unit_id_epa').agg(['count', 'mean', 'std'])\n",
    "             .rename(columns={\n",
    "                 'count': 'n_uptime_events',\n",
    "                 'mean': 'mean_uptime_duration',\n",
    "                 'std': 'std_uptime_duration'}\n",
    "                    )\n",
    "            )"
   ]
  },
  {
   "cell_type": "markdown",
   "id": "5c2a80b3",
   "metadata": {},
   "source": [
    "## Join other info"
   ]
  },
  {
   "cell_type": "markdown",
   "id": "e87fc18c",
   "metadata": {},
   "source": [
    "### Join other aggregates"
   ]
  },
  {
   "cell_type": "code",
   "execution_count": 18,
   "id": "7e25c514",
   "metadata": {},
   "outputs": [],
   "source": [
    "max_ramps = (max_ramps\n",
    "             .join(per_unit_aggs, on='unit_id_epa')\n",
    "             .join(uptime_aggs, on='unit_id_epa')\n",
    "            )"
   ]
  },
  {
   "cell_type": "code",
   "execution_count": 19,
   "id": "0c63ecc7",
   "metadata": {},
   "outputs": [],
   "source": [
    "del per_unit_aggs, uptime_aggs"
   ]
  },
  {
   "cell_type": "markdown",
   "id": "d15a5b5e",
   "metadata": {},
   "source": [
    "### Join Crosswalk"
   ]
  },
  {
   "cell_type": "markdown",
   "id": "234bcf6d",
   "metadata": {},
   "source": [
    "#### Prep: bring in surrogate key"
   ]
  },
  {
   "cell_type": "code",
   "execution_count": 20,
   "id": "2fd74ce2",
   "metadata": {},
   "outputs": [],
   "source": [
    "key_map = cems[['plant_id_eia', 'unitid', 'unit_id_epa']].reset_index(drop=True).drop_duplicates()"
   ]
  },
  {
   "cell_type": "code",
   "execution_count": 21,
   "id": "136b0a3e",
   "metadata": {},
   "outputs": [],
   "source": [
    "crosswalk = load_epa_crosswalk()"
   ]
  },
  {
   "cell_type": "code",
   "execution_count": 22,
   "id": "5a3d16af",
   "metadata": {},
   "outputs": [],
   "source": [
    "crosswalk = crosswalk.merge(key_map,\n",
    "                            left_on=['CAMD_PLANT_ID', 'CAMD_UNIT_ID'],\n",
    "                            right_on=['plant_id_eia', 'unitid'],\n",
    "                            how='right',\n",
    "                            validate='many_to_one' # checks if right (key_map) is unique\n",
    "                           )"
   ]
  },
  {
   "cell_type": "markdown",
   "id": "395e9923",
   "metadata": {},
   "source": [
    "18 failed matches"
   ]
  },
  {
   "cell_type": "code",
   "execution_count": 23,
   "id": "60cdc498",
   "metadata": {},
   "outputs": [
    {
     "data": {
      "text/html": [
       "<div>\n",
       "<style scoped>\n",
       "    .dataframe tbody tr th:only-of-type {\n",
       "        vertical-align: middle;\n",
       "    }\n",
       "\n",
       "    .dataframe tbody tr th {\n",
       "        vertical-align: top;\n",
       "    }\n",
       "\n",
       "    .dataframe thead th {\n",
       "        text-align: right;\n",
       "    }\n",
       "</style>\n",
       "<table border=\"1\" class=\"dataframe\">\n",
       "  <thead>\n",
       "    <tr style=\"text-align: right;\">\n",
       "      <th></th>\n",
       "      <th>plant_id_eia</th>\n",
       "      <th>unitid</th>\n",
       "      <th>unit_id_epa</th>\n",
       "      <th>CAMD_PLANT_ID</th>\n",
       "      <th>CAMD_UNIT_ID</th>\n",
       "    </tr>\n",
       "  </thead>\n",
       "  <tbody>\n",
       "    <tr>\n",
       "      <th>4104</th>\n",
       "      <td>1599</td>\n",
       "      <td>3</td>\n",
       "      <td>88425</td>\n",
       "      <td>NaN</td>\n",
       "      <td>NaN</td>\n",
       "    </tr>\n",
       "    <tr>\n",
       "      <th>4266</th>\n",
       "      <td>56104</td>\n",
       "      <td>CT-1</td>\n",
       "      <td>89427</td>\n",
       "      <td>NaN</td>\n",
       "      <td>NaN</td>\n",
       "    </tr>\n",
       "    <tr>\n",
       "      <th>5493</th>\n",
       "      <td>568</td>\n",
       "      <td>BHB5</td>\n",
       "      <td>91155</td>\n",
       "      <td>NaN</td>\n",
       "      <td>NaN</td>\n",
       "    </tr>\n",
       "    <tr>\n",
       "      <th>5533</th>\n",
       "      <td>61035</td>\n",
       "      <td>01</td>\n",
       "      <td>91213</td>\n",
       "      <td>NaN</td>\n",
       "      <td>NaN</td>\n",
       "    </tr>\n",
       "    <tr>\n",
       "      <th>5537</th>\n",
       "      <td>61242</td>\n",
       "      <td>CT1</td>\n",
       "      <td>91228</td>\n",
       "      <td>NaN</td>\n",
       "      <td>NaN</td>\n",
       "    </tr>\n",
       "    <tr>\n",
       "      <th>5538</th>\n",
       "      <td>61242</td>\n",
       "      <td>CT2</td>\n",
       "      <td>91229</td>\n",
       "      <td>NaN</td>\n",
       "      <td>NaN</td>\n",
       "    </tr>\n",
       "    <tr>\n",
       "      <th>5545</th>\n",
       "      <td>59882</td>\n",
       "      <td>J4</td>\n",
       "      <td>91232</td>\n",
       "      <td>NaN</td>\n",
       "      <td>NaN</td>\n",
       "    </tr>\n",
       "    <tr>\n",
       "      <th>5546</th>\n",
       "      <td>59882</td>\n",
       "      <td>J5</td>\n",
       "      <td>91233</td>\n",
       "      <td>NaN</td>\n",
       "      <td>NaN</td>\n",
       "    </tr>\n",
       "    <tr>\n",
       "      <th>5591</th>\n",
       "      <td>116</td>\n",
       "      <td>GT3</td>\n",
       "      <td>91277</td>\n",
       "      <td>NaN</td>\n",
       "      <td>NaN</td>\n",
       "    </tr>\n",
       "    <tr>\n",
       "      <th>5592</th>\n",
       "      <td>116</td>\n",
       "      <td>GT4</td>\n",
       "      <td>91278</td>\n",
       "      <td>NaN</td>\n",
       "      <td>NaN</td>\n",
       "    </tr>\n",
       "    <tr>\n",
       "      <th>5593</th>\n",
       "      <td>116</td>\n",
       "      <td>GT5</td>\n",
       "      <td>91279</td>\n",
       "      <td>NaN</td>\n",
       "      <td>NaN</td>\n",
       "    </tr>\n",
       "    <tr>\n",
       "      <th>5594</th>\n",
       "      <td>116</td>\n",
       "      <td>GT6</td>\n",
       "      <td>91280</td>\n",
       "      <td>NaN</td>\n",
       "      <td>NaN</td>\n",
       "    </tr>\n",
       "    <tr>\n",
       "      <th>5595</th>\n",
       "      <td>116</td>\n",
       "      <td>GT7</td>\n",
       "      <td>91281</td>\n",
       "      <td>NaN</td>\n",
       "      <td>NaN</td>\n",
       "    </tr>\n",
       "    <tr>\n",
       "      <th>5612</th>\n",
       "      <td>60926</td>\n",
       "      <td>1A</td>\n",
       "      <td>91295</td>\n",
       "      <td>NaN</td>\n",
       "      <td>NaN</td>\n",
       "    </tr>\n",
       "    <tr>\n",
       "      <th>5613</th>\n",
       "      <td>60926</td>\n",
       "      <td>1B</td>\n",
       "      <td>91296</td>\n",
       "      <td>NaN</td>\n",
       "      <td>NaN</td>\n",
       "    </tr>\n",
       "    <tr>\n",
       "      <th>5614</th>\n",
       "      <td>55218</td>\n",
       "      <td>2</td>\n",
       "      <td>91299</td>\n",
       "      <td>NaN</td>\n",
       "      <td>NaN</td>\n",
       "    </tr>\n",
       "    <tr>\n",
       "      <th>5615</th>\n",
       "      <td>880109</td>\n",
       "      <td>B001</td>\n",
       "      <td>91300</td>\n",
       "      <td>NaN</td>\n",
       "      <td>NaN</td>\n",
       "    </tr>\n",
       "    <tr>\n",
       "      <th>5616</th>\n",
       "      <td>60589</td>\n",
       "      <td>CT-2</td>\n",
       "      <td>91311</td>\n",
       "      <td>NaN</td>\n",
       "      <td>NaN</td>\n",
       "    </tr>\n",
       "  </tbody>\n",
       "</table>\n",
       "</div>"
      ],
      "text/plain": [
       "      plant_id_eia unitid  unit_id_epa  CAMD_PLANT_ID CAMD_UNIT_ID\n",
       "4104          1599      3        88425            NaN          NaN\n",
       "4266         56104   CT-1        89427            NaN          NaN\n",
       "5493           568   BHB5        91155            NaN          NaN\n",
       "5533         61035     01        91213            NaN          NaN\n",
       "5537         61242    CT1        91228            NaN          NaN\n",
       "5538         61242    CT2        91229            NaN          NaN\n",
       "5545         59882     J4        91232            NaN          NaN\n",
       "5546         59882     J5        91233            NaN          NaN\n",
       "5591           116    GT3        91277            NaN          NaN\n",
       "5592           116    GT4        91278            NaN          NaN\n",
       "5593           116    GT5        91279            NaN          NaN\n",
       "5594           116    GT6        91280            NaN          NaN\n",
       "5595           116    GT7        91281            NaN          NaN\n",
       "5612         60926     1A        91295            NaN          NaN\n",
       "5613         60926     1B        91296            NaN          NaN\n",
       "5614         55218      2        91299            NaN          NaN\n",
       "5615        880109   B001        91300            NaN          NaN\n",
       "5616         60589   CT-2        91311            NaN          NaN"
      ]
     },
     "execution_count": 23,
     "metadata": {},
     "output_type": "execute_result"
    }
   ],
   "source": [
    "crosswalk.loc[crosswalk.isna().mean(axis=1) > 0.75, ['plant_id_eia', 'unitid', 'unit_id_epa', 'CAMD_PLANT_ID', 'CAMD_UNIT_ID']]"
   ]
  },
  {
   "cell_type": "code",
   "execution_count": 24,
   "id": "a8020cc7",
   "metadata": {},
   "outputs": [],
   "source": [
    "subset = ['CAMD_FACILITY_NAME', 'CAMD_PLANT_ID',\n",
    "       'CAMD_UNIT_ID', 'CAMD_GENERATOR_ID', 'CAMD_NAMEPLATE_CAPACITY', 'EIA_PLANT_NAME', 'EIA_PLANT_ID',\n",
    "       'EIA_GENERATOR_ID', 'EIA_NAMEPLATE_CAPACITY', 'EIA_BOILER_ID',\n",
    "       'EIA_UNIT_TYPE', 'EIA_FUEL_TYPE',]"
   ]
  },
  {
   "cell_type": "code",
   "execution_count": 25,
   "id": "cf3f782a",
   "metadata": {},
   "outputs": [
    {
     "data": {
      "text/html": [
       "<div>\n",
       "<style scoped>\n",
       "    .dataframe tbody tr th:only-of-type {\n",
       "        vertical-align: middle;\n",
       "    }\n",
       "\n",
       "    .dataframe tbody tr th {\n",
       "        vertical-align: top;\n",
       "    }\n",
       "\n",
       "    .dataframe thead th {\n",
       "        text-align: right;\n",
       "    }\n",
       "</style>\n",
       "<table border=\"1\" class=\"dataframe\">\n",
       "  <thead>\n",
       "    <tr style=\"text-align: right;\">\n",
       "      <th></th>\n",
       "      <th>CAMD_FACILITY_NAME</th>\n",
       "      <th>CAMD_PLANT_ID</th>\n",
       "      <th>CAMD_UNIT_ID</th>\n",
       "      <th>CAMD_GENERATOR_ID</th>\n",
       "      <th>CAMD_NAMEPLATE_CAPACITY</th>\n",
       "      <th>EIA_PLANT_NAME</th>\n",
       "      <th>EIA_PLANT_ID</th>\n",
       "      <th>EIA_GENERATOR_ID</th>\n",
       "      <th>EIA_NAMEPLATE_CAPACITY</th>\n",
       "      <th>EIA_BOILER_ID</th>\n",
       "      <th>EIA_UNIT_TYPE</th>\n",
       "      <th>EIA_FUEL_TYPE</th>\n",
       "    </tr>\n",
       "  </thead>\n",
       "  <tbody>\n",
       "    <tr>\n",
       "      <th>47</th>\n",
       "      <td>Ocotillo Power Plant</td>\n",
       "      <td>116.0</td>\n",
       "      <td>1</td>\n",
       "      <td>1</td>\n",
       "      <td>113.6</td>\n",
       "      <td>Ocotillo</td>\n",
       "      <td>116.0</td>\n",
       "      <td>1</td>\n",
       "      <td>113.6</td>\n",
       "      <td>1</td>\n",
       "      <td>ST</td>\n",
       "      <td>NG</td>\n",
       "    </tr>\n",
       "    <tr>\n",
       "      <th>48</th>\n",
       "      <td>Ocotillo Power Plant</td>\n",
       "      <td>116.0</td>\n",
       "      <td>2</td>\n",
       "      <td>2</td>\n",
       "      <td>113.6</td>\n",
       "      <td>Ocotillo</td>\n",
       "      <td>116.0</td>\n",
       "      <td>2</td>\n",
       "      <td>113.6</td>\n",
       "      <td>2</td>\n",
       "      <td>ST</td>\n",
       "      <td>NG</td>\n",
       "    </tr>\n",
       "  </tbody>\n",
       "</table>\n",
       "</div>"
      ],
      "text/plain": [
       "      CAMD_FACILITY_NAME  CAMD_PLANT_ID CAMD_UNIT_ID CAMD_GENERATOR_ID  \\\n",
       "47  Ocotillo Power Plant          116.0            1                 1   \n",
       "48  Ocotillo Power Plant          116.0            2                 2   \n",
       "\n",
       "    CAMD_NAMEPLATE_CAPACITY EIA_PLANT_NAME  EIA_PLANT_ID EIA_GENERATOR_ID  \\\n",
       "47                    113.6       Ocotillo         116.0                1   \n",
       "48                    113.6       Ocotillo         116.0                2   \n",
       "\n",
       "    EIA_NAMEPLATE_CAPACITY EIA_BOILER_ID EIA_UNIT_TYPE EIA_FUEL_TYPE  \n",
       "47                   113.6             1            ST            NG  \n",
       "48                   113.6             2            ST            NG  "
      ]
     },
     "execution_count": 25,
     "metadata": {},
     "output_type": "execute_result"
    }
   ],
   "source": [
    "crosswalk.loc[crosswalk['EIA_PLANT_ID'] == 116, subset]"
   ]
  },
  {
   "cell_type": "markdown",
   "id": "ecc00596",
   "metadata": {},
   "source": [
    "#### Aggregate combustor/generator types\n",
    "About a third of combustor/generator relationships are not one-to-one, meaning multiple unit and fuel types can be involved. **For a fast first analysis, I resolved ambiguity in categories by labeling each generator with the most frequent category.** The most frequent type may be different from the highest capacity or most energy produced, etc.\n",
    "\n",
    "It shouldn't be too hard to refine these aggregations with a more appropriate metric. While handling that, I can also aggregate nameplate capacity."
   ]
  },
  {
   "cell_type": "code",
   "execution_count": 26,
   "id": "b81cd65e",
   "metadata": {},
   "outputs": [],
   "source": [
    "subset = ['CAMD_FUEL_TYPE', 'EIA_FUEL_TYPE', 'EIA_UNIT_TYPE']\n",
    "generator_aggs = (crosswalk\n",
    "                  .fillna(dict.fromkeys(subset, 'NaN')) # otherwise pd.Series.Mode returns array([])\n",
    "                  .groupby(['CAMD_PLANT_ID', 'CAMD_GENERATOR_ID'])[subset]\n",
    "                  .agg(pd.Series.mode)\n",
    "                  .add_prefix('agg_')\n",
    "                  .reset_index()\n",
    "                 )"
   ]
  },
  {
   "cell_type": "code",
   "execution_count": 27,
   "id": "493f92d8",
   "metadata": {},
   "outputs": [
    {
     "data": {
      "text/plain": [
       "(4496, 5)"
      ]
     },
     "execution_count": 27,
     "metadata": {},
     "output_type": "execute_result"
    }
   ],
   "source": [
    "generator_aggs.shape"
   ]
  },
  {
   "cell_type": "code",
   "execution_count": 28,
   "id": "abc1d779",
   "metadata": {
    "scrolled": false
   },
   "outputs": [],
   "source": [
    "crosswalk = crosswalk.merge(generator_aggs, on=['CAMD_PLANT_ID', 'CAMD_GENERATOR_ID'], how='left')"
   ]
  },
  {
   "cell_type": "markdown",
   "id": "0c0efe92",
   "metadata": {},
   "source": [
    "#### Mark one-to-one units"
   ]
  },
  {
   "cell_type": "code",
   "execution_count": 29,
   "id": "681f63a3",
   "metadata": {},
   "outputs": [],
   "source": [
    "# calculate cardinality of combustor relationships\n",
    "crosswalk = crosswalk.merge(crosswalk.groupby(['CAMD_PLANT_ID', 'CAMD_UNIT_ID'],\n",
    "                                              as_index=False)['CAMD_GENERATOR_ID']\n",
    "                            .size()\n",
    "                            .rename(columns={'size': 'has_single_edge_from_combust'}),\n",
    "                            on=['CAMD_PLANT_ID', 'CAMD_UNIT_ID'],\n",
    "                            how='left'\n",
    "                           )\n",
    "crosswalk['has_single_edge_from_combust'] = crosswalk['has_single_edge_from_combust'].eq(1)"
   ]
  },
  {
   "cell_type": "code",
   "execution_count": 30,
   "id": "d8f01226",
   "metadata": {},
   "outputs": [],
   "source": [
    "# calculate cardinality of generator relationships\n",
    "crosswalk = crosswalk.merge(crosswalk.groupby(['CAMD_PLANT_ID', 'CAMD_GENERATOR_ID'],\n",
    "                                              as_index=False)['CAMD_UNIT_ID']\n",
    "                            .size()\n",
    "                            .rename(columns={'size': 'has_single_edge_from_gen'}),\n",
    "                            on=['CAMD_PLANT_ID', 'CAMD_GENERATOR_ID'],\n",
    "                            how='left'\n",
    "                           )\n",
    "crosswalk['has_single_edge_from_gen'] = crosswalk['has_single_edge_from_gen'].eq(1)"
   ]
  },
  {
   "cell_type": "code",
   "execution_count": 31,
   "id": "9bebcdd6",
   "metadata": {},
   "outputs": [],
   "source": [
    "crosswalk = crosswalk.merge(crosswalk.groupby(['CAMD_PLANT_ID', 'CAMD_UNIT_ID'])[['has_single_edge_from_combust',\n",
    "                                                                                  'has_single_edge_from_gen']]\n",
    "                            .all()\n",
    "                            .all(axis='columns')\n",
    "                            .rename('is_one_to_one')\n",
    "                            .reset_index(),\n",
    "                            on=['CAMD_PLANT_ID', 'CAMD_UNIT_ID'],\n",
    "                            how='left'\n",
    "                            )"
   ]
  },
  {
   "cell_type": "code",
   "execution_count": 33,
   "id": "aa279e02",
   "metadata": {},
   "outputs": [
    {
     "data": {
      "text/plain": [
       "(5621, 42)"
      ]
     },
     "execution_count": 33,
     "metadata": {},
     "output_type": "execute_result"
    }
   ],
   "source": [
    "crosswalk.shape"
   ]
  },
  {
   "cell_type": "code",
   "execution_count": 41,
   "id": "397a74db",
   "metadata": {},
   "outputs": [
    {
     "data": {
      "text/plain": [
       "sum     2558.000000\n",
       "mean       0.595299\n",
       "Name: is_one_to_one, dtype: float64"
      ]
     },
     "execution_count": 41,
     "metadata": {},
     "output_type": "execute_result"
    }
   ],
   "source": [
    "crosswalk.groupby(['CAMD_PLANT_ID', 'CAMD_UNIT_ID'])['is_one_to_one'].all().agg(['sum', 'mean'])"
   ]
  },
  {
   "cell_type": "markdown",
   "id": "64dccce2",
   "metadata": {},
   "source": [
    "#### Join unit info"
   ]
  },
  {
   "cell_type": "code",
   "execution_count": 34,
   "id": "0dcbcbcf",
   "metadata": {},
   "outputs": [],
   "source": [
    "subset = ['EIA_UNIT_TYPE', 'EIA_FUEL_TYPE', 'CAMD_FACILITY_NAME',\n",
    "          'CAMD_PLANT_ID', 'CAMD_GENERATOR_ID', 'CAMD_NAMEPLATE_CAPACITY',\n",
    "          'EIA_GENERATOR_ID', 'EIA_NAMEPLATE_CAPACITY', 'EIA_BOILER_ID',\n",
    "          'unit_id_epa', 'is_one_to_one', 'MATCH_TYPE_GEN',\n",
    "          'agg_CAMD_FUEL_TYPE', 'agg_EIA_FUEL_TYPE', 'agg_EIA_UNIT_TYPE'\n",
    "         ]"
   ]
  },
  {
   "cell_type": "code",
   "execution_count": 35,
   "id": "75f1da88",
   "metadata": {},
   "outputs": [],
   "source": [
    "max_ramps = max_ramps.join(crosswalk[subset].set_index('unit_id_epa'), on='unit_id_epa')"
   ]
  },
  {
   "cell_type": "code",
   "execution_count": 36,
   "id": "f4d07c9b",
   "metadata": {},
   "outputs": [],
   "source": [
    "#subset = ['CAMD_FUEL_TYPE', 'unit_id_epa']\n",
    "#max_ramps = max_ramps.join(crosswalk[subset].drop_duplicates().set_index('unit_id_epa'), on='unit_id_epa')"
   ]
  },
  {
   "cell_type": "markdown",
   "id": "b139773f",
   "metadata": {},
   "source": [
    "#### Drop non-exporting industrial CHP\n",
    "per EPA docs, `Manual CAMD Excluded` indicates industial co-generation plants that don't export to the grid."
   ]
  },
  {
   "cell_type": "code",
   "execution_count": 37,
   "id": "159f9875",
   "metadata": {},
   "outputs": [],
   "source": [
    "max_ramps = max_ramps[max_ramps['MATCH_TYPE_GEN'] != 'Manual CAMD Excluded']"
   ]
  },
  {
   "cell_type": "code",
   "execution_count": 38,
   "id": "50356ed1",
   "metadata": {},
   "outputs": [
    {
     "data": {
      "text/plain": [
       "(107929, 25)"
      ]
     },
     "execution_count": 38,
     "metadata": {},
     "output_type": "execute_result"
    }
   ],
   "source": [
    "max_ramps.shape"
   ]
  },
  {
   "cell_type": "markdown",
   "id": "68de5c18",
   "metadata": {},
   "source": [
    "## Analyze"
   ]
  },
  {
   "cell_type": "code",
   "execution_count": 42,
   "id": "859a1918",
   "metadata": {},
   "outputs": [],
   "source": [
    "# max ramp rates normalized by max observed load: % capacity / hour\n",
    "max_ramps['max_obs_ramp_factor'] = max_ramps['abs_max_ramps'].div(max_ramps['max_load'])"
   ]
  },
  {
   "cell_type": "code",
   "execution_count": 43,
   "id": "fdaf0891",
   "metadata": {},
   "outputs": [
    {
     "data": {
      "text/plain": [
       "Index(['max_ramp_rate', 'min_ramp_rate', 'abs_max_ramps', 'max_load',\n",
       "       'count_load', 'sum_load', 'utilization', 'capacity_factor',\n",
       "       'n_uptime_events', 'mean_uptime_duration', 'std_uptime_duration',\n",
       "       'EIA_UNIT_TYPE', 'EIA_FUEL_TYPE', 'CAMD_FACILITY_NAME', 'CAMD_PLANT_ID',\n",
       "       'CAMD_GENERATOR_ID', 'CAMD_NAMEPLATE_CAPACITY', 'EIA_GENERATOR_ID',\n",
       "       'EIA_NAMEPLATE_CAPACITY', 'EIA_BOILER_ID', 'is_one_to_one',\n",
       "       'MATCH_TYPE_GEN', 'agg_CAMD_FUEL_TYPE', 'agg_EIA_FUEL_TYPE',\n",
       "       'agg_EIA_UNIT_TYPE', 'max_obs_ramp_factor'],\n",
       "      dtype='object')"
      ]
     },
     "execution_count": 43,
     "metadata": {},
     "output_type": "execute_result"
    }
   ],
   "source": [
    "max_ramps.columns"
   ]
  },
  {
   "cell_type": "markdown",
   "id": "b817fedd",
   "metadata": {},
   "source": [
    "### Look at one-to-one units"
   ]
  },
  {
   "cell_type": "code",
   "execution_count": 48,
   "id": "5bb02820",
   "metadata": {},
   "outputs": [
    {
     "data": {
      "text/plain": [
       "376"
      ]
     },
     "execution_count": 48,
     "metadata": {},
     "output_type": "execute_result"
    }
   ],
   "source": [
    "max_ramps['is_one_to_one'].isna().sum()"
   ]
  },
  {
   "cell_type": "code",
   "execution_count": 50,
   "id": "2dc0b0bc",
   "metadata": {},
   "outputs": [
    {
     "data": {
      "text/plain": [
       "6600    176\n",
       "2208     68\n",
       "8760     66\n",
       "4416     66\n",
       "Name: count_load, dtype: int64"
      ]
     },
     "execution_count": 50,
     "metadata": {},
     "output_type": "execute_result"
    }
   ],
   "source": [
    "max_ramps[max_ramps['is_one_to_one'].isna()]['count_load'].value_counts()"
   ]
  },
  {
   "cell_type": "code",
   "execution_count": 57,
   "id": "05ccda9c",
   "metadata": {},
   "outputs": [],
   "source": [
    "non_zero_one_to_one = max_ramps[max_ramps['max_obs_ramp_factor'].gt(0)\n",
    "                               & max_ramps['is_one_to_one'].fillna(False).astype(bool)].reset_index()"
   ]
  },
  {
   "cell_type": "code",
   "execution_count": 58,
   "id": "c7ddb815",
   "metadata": {},
   "outputs": [
    {
     "data": {
      "text/plain": [
       "(39276, 29)"
      ]
     },
     "execution_count": 58,
     "metadata": {},
     "output_type": "execute_result"
    }
   ],
   "source": [
    "non_zero_one_to_one.shape"
   ]
  },
  {
   "cell_type": "code",
   "execution_count": 61,
   "id": "3e30b0be",
   "metadata": {},
   "outputs": [
    {
     "data": {
      "text/plain": [
       "<seaborn.axisgrid.FacetGrid at 0x7fd2c27c51f0>"
      ]
     },
     "execution_count": 61,
     "metadata": {},
     "output_type": "execute_result"
    },
    {
     "data": {
      "image/png": "[encoded data removed]",
      "text/plain": [
       "<Figure size 1091.5x360 with 11 Axes>"
      ]
     },
     "metadata": {
      "needs_background": "light"
     },
     "output_type": "display_data"
    }
   ],
   "source": [
    "# Distribution of MAXIMUM ramp factor faceted by distance from startup/shutdown\n",
    "# Note that the last category is 10+ hours, not =10\n",
    "a = sns.displot(data=non_zero_one_to_one,\n",
    "                col='hours_distance_clipped',\n",
    "                y='max_obs_ramp_factor',\n",
    "                hue='nearest_to_startup',\n",
    "                kind=\"hist\",\n",
    "                aspect=0.25,\n",
    "                element=\"step\")\n",
    "a.set_titles('hours = {col_name}')"
   ]
  },
  {
   "cell_type": "markdown",
   "id": "40a07409",
   "metadata": {},
   "source": [
    "#### By Fuel"
   ]
  },
  {
   "cell_type": "code",
   "execution_count": 63,
   "id": "ccc87f3c",
   "metadata": {},
   "outputs": [
    {
     "data": {
      "text/plain": [
       "Pipeline Natural Gas    1533\n",
       "Coal                     494\n",
       "Diesel Oil               230\n",
       "Natural Gas               45\n",
       "Other Oil                 21\n",
       "Residual Oil              21\n",
       "Wood                       9\n",
       "NaN                        5\n",
       "Process Gas                5\n",
       "Coal Refuse                3\n",
       "Other Gas                  1\n",
       "Name: agg_CAMD_FUEL_TYPE, dtype: int64"
      ]
     },
     "execution_count": 63,
     "metadata": {},
     "output_type": "execute_result"
    }
   ],
   "source": [
    "non_zero_one_to_one.groupby('unit_id_epa')['agg_CAMD_FUEL_TYPE'].first().value_counts()"
   ]
  },
  {
   "cell_type": "code",
   "execution_count": 65,
   "id": "3dc09006",
   "metadata": {},
   "outputs": [],
   "source": [
    "fuel_mapping = {'Pipeline Natural Gas': 'gas',\n",
    "                'Diesel Oil': 'oil',\n",
    "                'Natural Gas': 'gas',\n",
    "                'Other Oil': 'oil',\n",
    "                'Residual Oil': 'oil',\n",
    "                'Process Gas': 'gas',\n",
    "                'Other Gas': 'gas',\n",
    "                'Coal Refuse': 'Coal',\n",
    "                'Petroleum Coke': 'oil'\n",
    "               }\n",
    "non_zero_one_to_one['simple_CAMD_FUEL_TYPE'] = non_zero_one_to_one['agg_CAMD_FUEL_TYPE'].replace(fuel_mapping)"
   ]
  },
  {
   "cell_type": "code",
   "execution_count": 66,
   "id": "f10a75b1",
   "metadata": {
    "scrolled": true
   },
   "outputs": [
    {
     "data": {
      "image/png": "[encoded data removed]",
      "text/plain": [
       "<Figure size 1091.5x360 with 11 Axes>"
      ]
     },
     "metadata": {
      "needs_background": "light"
     },
     "output_type": "display_data"
    },
    {
     "data": {
      "image/png": "[encoded data removed]",
      "text/plain": [
       "<Figure size 1091.5x360 with 11 Axes>"
      ]
     },
     "metadata": {
      "needs_background": "light"
     },
     "output_type": "display_data"
    },
    {
     "data": {
      "image/png": "[encoded data removed]",
      "text/plain": [
       "<Figure size 1091.5x360 with 11 Axes>"
      ]
     },
     "metadata": {
      "needs_background": "light"
     },
     "output_type": "display_data"
    },
    {
     "data": {
      "image/png": "[encoded data removed]",
      "text/plain": [
       "<Figure size 1091.5x360 with 11 Axes>"
      ]
     },
     "metadata": {
      "needs_background": "light"
     },
     "output_type": "display_data"
    }
   ],
   "source": [
    "# Note that the last category is 10+ hours, not =10\n",
    "for fuel in ['Coal', 'oil', 'gas', 'Wood']:\n",
    "    sns.displot(data=non_zero_one_to_one[non_zero_one_to_one['simple_CAMD_FUEL_TYPE'] == fuel],\n",
    "                col='hours_distance_clipped',\n",
    "                y='max_obs_ramp_factor',\n",
    "                hue='nearest_to_startup',\n",
    "                kind=\"hist\",\n",
    "                aspect=0.25,\n",
    "                element=\"step\").set_titles('hours = {col_name}')\n",
    "    plt.suptitle(fuel, y=1.05)\n",
    "    plt.show()"
   ]
  },
  {
   "cell_type": "markdown",
   "id": "aa88475e",
   "metadata": {},
   "source": [
    "#### By Generator Type"
   ]
  },
  {
   "cell_type": "code",
   "execution_count": 69,
   "id": "55a1f952",
   "metadata": {
    "scrolled": true
   },
   "outputs": [
    {
     "data": {
      "text/plain": [
       "GT     1517\n",
       "ST      786\n",
       "CS       42\n",
       "NaN      11\n",
       "CT        7\n",
       "IC        3\n",
       "CA        1\n",
       "Name: agg_EIA_UNIT_TYPE, dtype: int64"
      ]
     },
     "execution_count": 69,
     "metadata": {},
     "output_type": "execute_result"
    }
   ],
   "source": [
    "types = non_zero_one_to_one.groupby('unit_id_epa')['agg_EIA_UNIT_TYPE'].first().value_counts()\n",
    "types"
   ]
  },
  {
   "cell_type": "code",
   "execution_count": 77,
   "id": "71e65e35",
   "metadata": {},
   "outputs": [],
   "source": [
    "type_mapping = {'GT': 'Gas Turbine',\n",
    "                'ST': 'Steam Turbine',\n",
    "                'CS': 'Combined Cycle',\n",
    "                'CT': 'Combined Cycle',\n",
    "                'CA': 'Combined Cycle',\n",
    "                'NaN': 'NaN',\n",
    "                'IC': 'Internal Combustion'\n",
    "               }\n",
    "non_zero_one_to_one['simple_EIA_UNIT_TYPE'] = non_zero_one_to_one['agg_EIA_UNIT_TYPE'].map(type_mapping)"
   ]
  },
  {
   "cell_type": "code",
   "execution_count": 78,
   "id": "8c24bd8c",
   "metadata": {
    "scrolled": false
   },
   "outputs": [
    {
     "data": {
      "image/png": "[encoded data removed]",
      "text/plain": [
       "<Figure size 1091.5x360 with 11 Axes>"
      ]
     },
     "metadata": {
      "needs_background": "light"
     },
     "output_type": "display_data"
    },
    {
     "data": {
      "image/png": "[encoded data removed]",
      "text/plain": [
       "<Figure size 1091.5x360 with 11 Axes>"
      ]
     },
     "metadata": {
      "needs_background": "light"
     },
     "output_type": "display_data"
    },
    {
     "data": {
      "image/png": "[encoded data removed]",
      "text/plain": [
       "<Figure size 1091.5x360 with 11 Axes>"
      ]
     },
     "metadata": {
      "needs_background": "light"
     },
     "output_type": "display_data"
    }
   ],
   "source": [
    "# Note that the last category is 10+ hours, not =10\n",
    "for gen_type in ['Gas Turbine', 'Steam Turbine', 'Combined Cycle']:\n",
    "    sns.displot(data=non_zero_one_to_one[non_zero_one_to_one['simple_EIA_UNIT_TYPE'] == gen_type],\n",
    "                col='hours_distance_clipped',\n",
    "                y='max_obs_ramp_factor',\n",
    "                hue='nearest_to_startup',\n",
    "                kind=\"hist\",\n",
    "                aspect=0.25,\n",
    "                element=\"step\").set_titles('hours = {col_name}')\n",
    "    plt.suptitle(gen_type, y=1.05)\n",
    "    plt.show()"
   ]
  },
  {
   "cell_type": "markdown",
   "id": "64a08d4e",
   "metadata": {},
   "source": [
    "### Aggregate to Generators\n",
    "Same story as above (see \"Aggregate combustor/generator types\")"
   ]
  },
  {
   "cell_type": "code",
   "execution_count": null,
   "id": "ad116c16",
   "metadata": {},
   "outputs": [],
   "source": []
  },
  {
   "cell_type": "code",
   "execution_count": null,
   "id": "0457be42",
   "metadata": {},
   "outputs": [],
   "source": []
  },
  {
   "cell_type": "code",
   "execution_count": null,
   "id": "33c28f9f",
   "metadata": {},
   "outputs": [],
   "source": []
  },
  {
   "cell_type": "code",
   "execution_count": null,
   "id": "a11b9a6b",
   "metadata": {},
   "outputs": [],
   "source": []
  },
  {
   "cell_type": "code",
   "execution_count": null,
   "id": "aeb27d88",
   "metadata": {},
   "outputs": [],
   "source": []
  },
  {
   "cell_type": "code",
   "execution_count": null,
   "id": "2c87d445",
   "metadata": {},
   "outputs": [],
   "source": []
  },
  {
   "cell_type": "code",
   "execution_count": null,
   "id": "84273a49",
   "metadata": {},
   "outputs": [],
   "source": []
  },
  {
   "cell_type": "code",
   "execution_count": null,
   "id": "249776c4",
   "metadata": {},
   "outputs": [],
   "source": []
  },
  {
   "cell_type": "code",
   "execution_count": null,
   "id": "4ed82649",
   "metadata": {},
   "outputs": [],
   "source": []
  },
  {
   "cell_type": "code",
   "execution_count": null,
   "id": "1b2023b3",
   "metadata": {},
   "outputs": [],
   "source": []
  },
  {
   "cell_type": "code",
   "execution_count": null,
   "id": "bbbacea4",
   "metadata": {},
   "outputs": [],
   "source": []
  },
  {
   "cell_type": "code",
   "execution_count": null,
   "id": "53606432",
   "metadata": {},
   "outputs": [],
   "source": []
  },
  {
   "cell_type": "code",
   "execution_count": null,
   "id": "5998253a",
   "metadata": {},
   "outputs": [],
   "source": []
  },
  {
   "cell_type": "code",
   "execution_count": null,
   "id": "674db3e7",
   "metadata": {},
   "outputs": [],
   "source": []
  },
  {
   "cell_type": "code",
   "execution_count": null,
   "id": "a6f3b3bb",
   "metadata": {},
   "outputs": [],
   "source": []
  },
  {
   "cell_type": "code",
   "execution_count": null,
   "id": "cea14b4f",
   "metadata": {},
   "outputs": [],
   "source": []
  }
 ],
 "metadata": {
  "kernelspec": {
   "display_name": "Python 3",
   "language": "python",
   "name": "python3"
  },
  "language_info": {
   "codemirror_mode": {
    "name": "ipython",
    "version": 3
   },
   "file_extension": ".py",
   "mimetype": "text/x-python",
   "name": "python",
   "nbconvert_exporter": "python",
   "pygments_lexer": "ipython3",
   "version": "3.9.4"
  },
  "toc": {
   "base_numbering": 1,
   "nav_menu": {},
   "number_sections": true,
   "sideBar": true,
   "skip_h1_title": false,
   "title_cell": "Table of Contents",
   "title_sidebar": "Contents",
   "toc_cell": false,
   "toc_position": {},
   "toc_section_display": true,
   "toc_window_display": false
  },
  "varInspector": {
   "cols": {
    "lenName": 16,
    "lenType": 16,
    "lenVar": 40
   },
   "kernels_config": {
    "python": {
     "delete_cmd_postfix": "",
     "delete_cmd_prefix": "del ",
     "library": "var_list.py",
     "varRefreshCmd": "print(var_dic_list())"
    },
    "r": {
     "delete_cmd_postfix": ") ",
     "delete_cmd_prefix": "rm(",
     "library": "var_list.r",
     "varRefreshCmd": "cat(var_dic_list()) "
    }
   },
   "position": {
    "height": "311.85px",
    "left": "908px",
    "right": "20px",
    "top": "120px",
    "width": "350px"
   },
   "types_to_exclude": [
    "module",
    "function",
    "builtin_function_or_method",
    "instance",
    "_Feature"
   ],
   "window_display": false
  }
 },
 "nbformat": 4,
 "nbformat_minor": 5
}
