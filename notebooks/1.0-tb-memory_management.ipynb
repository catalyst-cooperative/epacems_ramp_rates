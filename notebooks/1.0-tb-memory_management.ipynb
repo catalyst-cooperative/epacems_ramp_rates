{
 "cells": [
  {
   "cell_type": "markdown",
   "id": "a80d977d",
   "metadata": {},
   "source": [
    "**Conclusion:** column 'uniid' takes 50% of total memory of EPA CEMS. It is string dtype with about 1500 unique values. Casting to 'categorical' dtype squashes almost all memory usage, reducing total EPA CEMS memory footprint by almost 50%."
   ]
  },
  {
   "cell_type": "code",
   "execution_count": 1,
   "id": "18093a97",
   "metadata": {},
   "outputs": [],
   "source": [
    "%load_ext autoreload\n",
    "%autoreload 2"
   ]
  },
  {
   "cell_type": "code",
   "execution_count": 2,
   "id": "bde42cf5",
   "metadata": {},
   "outputs": [],
   "source": [
    "from src.data.load_dataset import load_epacems\n",
    "import pudl"
   ]
  },
  {
   "cell_type": "code",
   "execution_count": 3,
   "id": "3e381d4b",
   "metadata": {},
   "outputs": [],
   "source": [
    "import pandas as pd"
   ]
  },
  {
   "cell_type": "code",
   "execution_count": 4,
   "id": "4650030f",
   "metadata": {},
   "outputs": [],
   "source": [
    "cems = load_epacems(states=None, columns=None) # all states, one year, all columns"
   ]
  },
  {
   "cell_type": "code",
   "execution_count": 5,
   "id": "1433e8d8",
   "metadata": {},
   "outputs": [
    {
     "data": {
      "text/plain": [
       "plant_id_eia                               Int32\n",
       "unitid                                    string\n",
       "operating_datetime_utc       datetime64[ns, UTC]\n",
       "operating_time_hours                     float32\n",
       "gross_load_mw                            float32\n",
       "steam_load_1000_lbs                      float32\n",
       "so2_mass_lbs                             float32\n",
       "so2_mass_measurement_code               category\n",
       "nox_rate_lbs_mmbtu                       float32\n",
       "nox_rate_measurement_code               category\n",
       "nox_mass_lbs                             float32\n",
       "nox_mass_measurement_code               category\n",
       "co2_mass_tons                            float32\n",
       "co2_mass_measurement_code               category\n",
       "heat_content_mmbtu                       float32\n",
       "facility_id                                Int32\n",
       "unit_id_epa                                Int32\n",
       "year                                    category\n",
       "state                                   category\n",
       "dtype: object"
      ]
     },
     "execution_count": 5,
     "metadata": {},
     "output_type": "execute_result"
    }
   ],
   "source": [
    "cems.dtypes"
   ]
  },
  {
   "cell_type": "markdown",
   "id": "1f537b5f",
   "metadata": {},
   "source": [
    "Half of total memory is from a single string column: unitid"
   ]
  },
  {
   "cell_type": "code",
   "execution_count": 6,
   "id": "659f99ec",
   "metadata": {},
   "outputs": [
    {
     "data": {
      "text/plain": [
       "Index                           0.000122\n",
       "plant_id_eia                  172.931328\n",
       "unitid                       2069.946968\n",
       "operating_datetime_utc        276.690125\n",
       "operating_time_hours          138.345062\n",
       "gross_load_mw                 138.345062\n",
       "steam_load_1000_lbs           138.345062\n",
       "so2_mass_lbs                  138.345062\n",
       "so2_mass_measurement_code      34.587056\n",
       "nox_rate_lbs_mmbtu            138.345062\n",
       "nox_rate_measurement_code      34.587120\n",
       "nox_mass_lbs                  138.345062\n",
       "nox_mass_measurement_code      34.587120\n",
       "co2_mass_tons                 138.345062\n",
       "co2_mass_measurement_code      34.587056\n",
       "heat_content_mmbtu            138.345062\n",
       "facility_id                   172.931328\n",
       "unit_id_epa                   172.931328\n",
       "year                           34.586987\n",
       "state                          34.590045\n",
       "dtype: float64"
      ]
     },
     "execution_count": 6,
     "metadata": {},
     "output_type": "execute_result"
    }
   ],
   "source": [
    "cems.memory_usage(deep=True) / 2**20 # megabytes"
   ]
  },
  {
   "cell_type": "code",
   "execution_count": 7,
   "id": "f89f9f51",
   "metadata": {},
   "outputs": [
    {
     "data": {
      "text/plain": [
       "4179.717080116272"
      ]
     },
     "execution_count": 7,
     "metadata": {},
     "output_type": "execute_result"
    }
   ],
   "source": [
    "cems.memory_usage(deep=True).sum() / 2**20 # total megabytes"
   ]
  },
  {
   "cell_type": "code",
   "execution_count": 8,
   "id": "10ebfd40",
   "metadata": {},
   "outputs": [
    {
     "data": {
      "text/plain": [
       "(1472,)"
      ]
     },
     "execution_count": 8,
     "metadata": {},
     "output_type": "execute_result"
    }
   ],
   "source": [
    "# check cardinality - can this be categorical?\n",
    "cems.unitid.unique().shape"
   ]
  },
  {
   "cell_type": "code",
   "execution_count": 9,
   "id": "6c9988af",
   "metadata": {},
   "outputs": [
    {
     "data": {
      "text/plain": [
       "69.29010486602783"
      ]
     },
     "execution_count": 9,
     "metadata": {},
     "output_type": "execute_result"
    }
   ],
   "source": [
    "# yes it can\n",
    "cems.unitid.astype('category').memory_usage(deep=True) / 2**20"
   ]
  },
  {
   "cell_type": "markdown",
   "id": "ceb8c2bc",
   "metadata": {},
   "source": [
    "save 2GB / year, almost half of total memory"
   ]
  },
  {
   "cell_type": "code",
   "execution_count": 10,
   "id": "2354714e",
   "metadata": {},
   "outputs": [
    {
     "data": {
      "text/plain": [
       "50"
      ]
     },
     "execution_count": 10,
     "metadata": {},
     "output_type": "execute_result"
    }
   ],
   "source": [
    "2 * len(pudl.constants.data_years['epacems'])"
   ]
  },
  {
   "cell_type": "markdown",
   "id": "6d9a1d32",
   "metadata": {},
   "source": [
    "50GB takes this to workstation scale analysis"
   ]
  },
  {
   "cell_type": "code",
   "execution_count": 11,
   "id": "8037f134",
   "metadata": {},
   "outputs": [],
   "source": [
    "del cems"
   ]
  },
  {
   "cell_type": "markdown",
   "id": "2d1594e4",
   "metadata": {},
   "source": [
    "How does this scale? Does cardinality get out of control with more years?"
   ]
  },
  {
   "cell_type": "code",
   "execution_count": 12,
   "id": "b6ea964c",
   "metadata": {},
   "outputs": [],
   "source": [
    "cems = load_epacems(states=None, years=[2018, 2019], columns=None) # all states, 2 years, all columns"
   ]
  },
  {
   "cell_type": "code",
   "execution_count": 13,
   "id": "4a95ed6d",
   "metadata": {},
   "outputs": [
    {
     "data": {
      "text/plain": [
       "Index                           0.000122\n",
       "plant_id_eia                  348.258591\n",
       "unitid                       4167.796188\n",
       "operating_datetime_utc        557.213745\n",
       "operating_time_hours          278.606873\n",
       "gross_load_mw                 278.606873\n",
       "steam_load_1000_lbs           278.606873\n",
       "so2_mass_lbs                  278.606873\n",
       "so2_mass_measurement_code      69.652509\n",
       "nox_rate_lbs_mmbtu            278.606873\n",
       "nox_rate_measurement_code      69.652573\n",
       "nox_mass_lbs                  278.606873\n",
       "nox_mass_measurement_code      69.652573\n",
       "co2_mass_tons                 278.606873\n",
       "co2_mass_measurement_code      69.652509\n",
       "heat_content_mmbtu            278.606873\n",
       "facility_id                   348.258591\n",
       "unit_id_epa                   348.258591\n",
       "year                           69.652439\n",
       "state                          69.655498\n",
       "dtype: float64"
      ]
     },
     "execution_count": 13,
     "metadata": {},
     "output_type": "execute_result"
    }
   ],
   "source": [
    "cems.memory_usage(deep=True) / 2**20 # megabytes"
   ]
  },
  {
   "cell_type": "code",
   "execution_count": 14,
   "id": "7576e04e",
   "metadata": {},
   "outputs": [
    {
     "data": {
      "text/plain": [
       "8416.55890750885"
      ]
     },
     "execution_count": 14,
     "metadata": {},
     "output_type": "execute_result"
    }
   ],
   "source": [
    "cems.memory_usage(deep=True).sum() / 2**20 # total megabytes"
   ]
  },
  {
   "cell_type": "code",
   "execution_count": 15,
   "id": "66ec49bd",
   "metadata": {},
   "outputs": [
    {
     "data": {
      "text/plain": [
       "139.42235374450684"
      ]
     },
     "execution_count": 15,
     "metadata": {},
     "output_type": "execute_result"
    }
   ],
   "source": [
    "cems.unitid.astype('category').memory_usage(deep=True) / 2**20"
   ]
  },
  {
   "cell_type": "code",
   "execution_count": 16,
   "id": "42e10f79",
   "metadata": {},
   "outputs": [
    {
     "data": {
      "text/plain": [
       "(1495,)"
      ]
     },
     "execution_count": 16,
     "metadata": {},
     "output_type": "execute_result"
    }
   ],
   "source": [
    "# barely changes\n",
    "cems.unitid.unique().shape"
   ]
  },
  {
   "cell_type": "code",
   "execution_count": null,
   "id": "eae0f777",
   "metadata": {},
   "outputs": [],
   "source": []
  }
 ],
 "metadata": {
  "kernelspec": {
   "display_name": "Python 3",
   "language": "python",
   "name": "python3"
  },
  "language_info": {
   "codemirror_mode": {
    "name": "ipython",
    "version": 3
   },
   "file_extension": ".py",
   "mimetype": "text/x-python",
   "name": "python",
   "nbconvert_exporter": "python",
   "pygments_lexer": "ipython3",
   "version": "3.9.4"
  },
  "toc": {
   "base_numbering": 1,
   "nav_menu": {},
   "number_sections": true,
   "sideBar": true,
   "skip_h1_title": false,
   "title_cell": "Table of Contents",
   "title_sidebar": "Contents",
   "toc_cell": false,
   "toc_position": {},
   "toc_section_display": true,
   "toc_window_display": false
  },
  "varInspector": {
   "cols": {
    "lenName": 16,
    "lenType": 16,
    "lenVar": 40
   },
   "kernels_config": {
    "python": {
     "delete_cmd_postfix": "",
     "delete_cmd_prefix": "del ",
     "library": "var_list.py",
     "varRefreshCmd": "print(var_dic_list())"
    },
    "r": {
     "delete_cmd_postfix": ") ",
     "delete_cmd_prefix": "rm(",
     "library": "var_list.r",
     "varRefreshCmd": "cat(var_dic_list()) "
    }
   },
   "types_to_exclude": [
    "module",
    "function",
    "builtin_function_or_method",
    "instance",
    "_Feature"
   ],
   "window_display": false
  }
 },
 "nbformat": 4,
 "nbformat_minor": 5
}
